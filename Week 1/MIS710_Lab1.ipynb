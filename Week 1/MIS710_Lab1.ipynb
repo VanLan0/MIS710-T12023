{
  "nbformat": 4,
  "nbformat_minor": 0,
  "metadata": {
    "colab": {
      "provenance": [],
      "toc_visible": true
    },
    "kernelspec": {
      "name": "python3",
      "display_name": "Python 3"
    },
    "language_info": {
      "name": "python"
    }
  },
  "cells": [
    {
      "cell_type": "markdown",
      "metadata": {
        "id": "MNkJtLWoPpW7"
      },
      "source": [
        "\n",
        "# **MIS710 Lab 1 Week 1**\n",
        "Author: Associate Professor Lemai Nguyen\n",
        "\n",
        "Objectives: \n",
        "1. To set up and familiarise with the Google Colab environment for MIS710\n",
        "2. Build up Python programming basic knowledge and skills\n",
        "\n",
        "Prerequisite: Completion of Lab 0 exercises prior to Lab 1\n",
        "\n",
        "Dataset: [Titanic](https://www.kaggle.com/c/titanic)\n",
        "\n",
        "Dataset: [Melbourne Housing Market](https://www.kaggle.com/datasets/anthonypino/melbourne-housing-market)\n"
      ]
    },
    {
      "cell_type": "markdown",
      "source": [
        "**To do before the class:**\n",
        "1. Read the Lab slides\n",
        "2. Access Colab\n",
        "3. Make sure you have a google account, and Drive\n",
        "4. Download the titanic dataset and store it in your Google drive\n",
        "5. Try as many exercises as you can before the lab"
      ],
      "metadata": {
        "id": "XpKsWxRj5byD"
      }
    },
    {
      "cell_type": "markdown",
      "source": [
        "**Student name:**\n",
        "\n",
        "Student ID: "
      ],
      "metadata": {
        "id": "cFlk7601zt-l"
      }
    },
    {
      "cell_type": "markdown",
      "metadata": {
        "id": "jxTV1VTuj9mC"
      },
      "source": [
        "# **Week 0 Revision**\n"
      ]
    },
    {
      "cell_type": "markdown",
      "source": [
        "**Python is an interpreted language and it is interactive**"
      ],
      "metadata": {
        "id": "00BHWD3ryS-C"
      }
    },
    {
      "cell_type": "code",
      "source": [
        "#execute a command\n",
        "print('Hello world')"
      ],
      "metadata": {
        "colab": {
          "base_uri": "https://localhost:8080/"
        },
        "id": "tNpNdLzf54FI",
        "outputId": "a0dcc125-9685-47c7-cd90-a1ac25c0f8fa"
      },
      "execution_count": null,
      "outputs": [
        {
          "output_type": "stream",
          "name": "stdout",
          "text": [
            "Hello world\n"
          ]
        }
      ]
    },
    {
      "cell_type": "code",
      "source": [
        "#use operators on data values\n",
        "1+2+3"
      ],
      "metadata": {
        "colab": {
          "base_uri": "https://localhost:8080/"
        },
        "id": "h390XYlQySll",
        "outputId": "c5bd261a-eed3-48eb-b691-78f05e18b4a2"
      },
      "execution_count": null,
      "outputs": [
        {
          "output_type": "execute_result",
          "data": {
            "text/plain": [
              "6"
            ]
          },
          "metadata": {},
          "execution_count": 1
        }
      ]
    },
    {
      "cell_type": "markdown",
      "source": [
        "**Use variables to store and manipuulate data: strings, integers, and floats**\n",
        "\n",
        "**Use the built-in function print() with arguments/parameters**"
      ],
      "metadata": {
        "id": "4VIG_bVYiC00"
      }
    },
    {
      "cell_type": "code",
      "source": [
        "#assignment\n",
        "x=2\n",
        "y=5\n",
        "\n",
        "#addition\n",
        "print('sum: ', x+y)\n",
        "\n",
        "#now can you print results of substraction, multiplication, power, division"
      ],
      "metadata": {
        "colab": {
          "base_uri": "https://localhost:8080/"
        },
        "id": "NfKGuL6NiHgS",
        "outputId": "57b88e58-bca4-4198-c03f-e02aeef04b82"
      },
      "execution_count": 1,
      "outputs": [
        {
          "output_type": "stream",
          "name": "stdout",
          "text": [
            "sum:  7\n"
          ]
        }
      ]
    },
    {
      "cell_type": "code",
      "source": [
        "%whos"
      ],
      "metadata": {
        "colab": {
          "base_uri": "https://localhost:8080/"
        },
        "id": "13B_k6SuitbP",
        "outputId": "870dc6ae-9145-4c44-ed15-a2d29838c524"
      },
      "execution_count": 2,
      "outputs": [
        {
          "output_type": "stream",
          "name": "stdout",
          "text": [
            "Variable   Type    Data/Info\n",
            "----------------------------\n",
            "x          int     2\n",
            "y          int     5\n"
          ]
        }
      ]
    },
    {
      "cell_type": "code",
      "source": [
        "#assignment\n",
        "message='Python is an powerful programming language'\n",
        "\n",
        "print('Please note that: ', message)\n",
        "\n",
        "#edit your message and print it again"
      ],
      "metadata": {
        "colab": {
          "base_uri": "https://localhost:8080/"
        },
        "id": "NfWkqhecjsf7",
        "outputId": "0d6eeca1-228d-4b5b-d354-5b06a193df74"
      },
      "execution_count": null,
      "outputs": [
        {
          "output_type": "stream",
          "name": "stdout",
          "text": [
            "Please note that:  Python is an powerful programming language\n"
          ]
        }
      ]
    },
    {
      "cell_type": "markdown",
      "source": [
        "# **Let's keep learning**"
      ],
      "metadata": {
        "id": "terGuuD6pw2F"
      }
    },
    {
      "cell_type": "markdown",
      "source": [
        "**Boolean is another built-in data type in Python**"
      ],
      "metadata": {
        "id": "hQzX8DhakQEt"
      }
    },
    {
      "cell_type": "code",
      "source": [
        "#evaluate a statement\n",
        "1>2"
      ],
      "metadata": {
        "colab": {
          "base_uri": "https://localhost:8080/"
        },
        "id": "jz0BCrr2kTTk",
        "outputId": "031d96a5-5973-459a-cc62-d987d52c3bbe"
      },
      "execution_count": null,
      "outputs": [
        {
          "output_type": "execute_result",
          "data": {
            "text/plain": [
              "False"
            ]
          },
          "metadata": {},
          "execution_count": 7
        }
      ]
    },
    {
      "cell_type": "code",
      "source": [
        "#apply bollean operators: and, or, not\n",
        "x=1\n",
        "y=2\n",
        "my_name='Lemai Nguyen'\n",
        "\n",
        "print((x>y) or (y>x))\n",
        "print((x>y) and (y>x))\n",
        "print((x!=y) or (my_name == 'Lizzy Nguyen'))\n",
        "print((x==y))\n",
        "print(not(x==y))"
      ],
      "metadata": {
        "colab": {
          "base_uri": "https://localhost:8080/"
        },
        "id": "HmgW9wx-kWMM",
        "outputId": "20f8c450-f93b-4ef6-bee8-1ae5f0347db3"
      },
      "execution_count": null,
      "outputs": [
        {
          "output_type": "stream",
          "name": "stdout",
          "text": [
            "True\n",
            "False\n",
            "True\n",
            "False\n",
            "True\n"
          ]
        }
      ]
    },
    {
      "cell_type": "markdown",
      "source": [
        "**Conditional statements**"
      ],
      "metadata": {
        "id": "p4DwLzmjoZf5"
      }
    },
    {
      "cell_type": "code",
      "source": [
        "Jan_sales_in_K= 435.56\n",
        "Feb_sales_in_K=300.75\n",
        "if (Feb_sales_in_K < Jan_sales_in_K):\n",
        "  print('Sales dropped by: $',Jan_sales_in_K - Feb_sales_in_K,'K' )\n",
        "else:\n",
        "  print('Sales increased by: $', Feb_sales_in_K - Jan_sales_in_K,'K' )"
      ],
      "metadata": {
        "colab": {
          "base_uri": "https://localhost:8080/"
        },
        "id": "YpSgpsFwoY_V",
        "outputId": "0ecf17e7-df9e-4024-dab7-d3e8e5f0d4f9"
      },
      "execution_count": null,
      "outputs": [
        {
          "output_type": "stream",
          "name": "stdout",
          "text": [
            "Sales dropped by: $ 134.81 K\n"
          ]
        }
      ]
    },
    {
      "cell_type": "markdown",
      "source": [
        "**List**\n",
        "\n",
        "Lists are a common Python data structure to hold an ordered sequence of elements. List elements can be of different types. Each element can be accessed by an index. Python indexes start with 0. \n",
        "https://docs.python.org/3/library/index.html "
      ],
      "metadata": {
        "id": "Ky3XhtYhlMD0"
      }
    },
    {
      "cell_type": "code",
      "source": [
        "fibonacci = [1, 2, 3, 5, 8]\n",
        "my_desk=['Python Machine Learning', 1, 2, 4, fibonacci, 'flowers']\n",
        "print('fibonacci: ', fibonacci)\n",
        "print('My desk is messy: ', my_desk)\n",
        "\n",
        "#now print the second, third and other numbers, note the indiex starts from 0\n",
        "\n",
        "#use variables to store index\n",
        "i=4\n",
        "print('The fourth number in fibonacci is:', fibonacci[i-1])"
      ],
      "metadata": {
        "colab": {
          "base_uri": "https://localhost:8080/"
        },
        "id": "11ilv4lMlhPZ",
        "outputId": "ceaa8872-6374-494d-b4d0-39defbabe6a7"
      },
      "execution_count": null,
      "outputs": [
        {
          "output_type": "stream",
          "name": "stdout",
          "text": [
            "fibonacci:  [1, 2, 3, 5, 8]\n",
            "My desk is messy:  ['Python Machine Learning', 1, 2, 4, [1, 2, 3, 5, 8], 'flowers']\n",
            "The fourth number in fibonacci is: 5\n"
          ]
        }
      ]
    },
    {
      "cell_type": "markdown",
      "source": [
        "**More built-in functions**\n",
        "https://docs.python.org/3/library/stdtypes.html#sequence-types-list-tuple-range "
      ],
      "metadata": {
        "id": "EkUcu4P7s5JT"
      }
    },
    {
      "cell_type": "code",
      "source": [
        "n=len(fibonacci)\n",
        "print('the number of elements: ', n)\n",
        "print(fibonacci[len(fibonacci)-1])\n",
        "fibonacci.append((fibonacci[n-1]+fibonacci[n-2]))\n",
        "print('Now the number of elements: ', len(fibonacci))\n",
        "print(fibonacci)"
      ],
      "metadata": {
        "id": "f4cDGEVlxrWT",
        "colab": {
          "base_uri": "https://localhost:8080/"
        },
        "outputId": "81c14f96-cacb-48d2-d782-d77ed84a9e2f"
      },
      "execution_count": null,
      "outputs": [
        {
          "output_type": "stream",
          "name": "stdout",
          "text": [
            "the number of elements:  9\n",
            "55\n",
            "Now the number of elements:  10\n",
            "[1, 2, 3, 5, 8, 13, 21, 34, 55, 89]\n"
          ]
        }
      ]
    },
    {
      "cell_type": "code",
      "source": [
        "check_number=13\n",
        "print(check_number in fibonacci)\n",
        "print(fibonacci.count(check_number))"
      ],
      "metadata": {
        "colab": {
          "base_uri": "https://localhost:8080/"
        },
        "id": "PmxXcVDSmITs",
        "outputId": "2bea2cef-e534-4243-d3c1-51c016c72dee"
      },
      "execution_count": null,
      "outputs": [
        {
          "output_type": "stream",
          "name": "stdout",
          "text": [
            "True\n",
            "1\n"
          ]
        }
      ]
    },
    {
      "cell_type": "code",
      "source": [
        "#print my_desk\n"
      ],
      "metadata": {
        "id": "dGWFPRxQCZmP",
        "colab": {
          "base_uri": "https://localhost:8080/"
        },
        "outputId": "a94aceb3-b74a-4a2b-f5bb-81fa6ec17bd5"
      },
      "execution_count": null,
      "outputs": [
        {
          "output_type": "stream",
          "name": "stdout",
          "text": [
            "['Python Machine Learning', 1, 2, 4, [1, 2, 3, 5, 8, 13, 21, 34, 55, 89], 'flowers']\n"
          ]
        }
      ]
    },
    {
      "cell_type": "code",
      "source": [
        "#check if my_desk has a certain item and count how many time it appears there"
      ],
      "metadata": {
        "id": "N2qjG5rjvYK1"
      },
      "execution_count": null,
      "outputs": []
    },
    {
      "cell_type": "code",
      "source": [
        "check_item='pen'\n"
      ],
      "metadata": {
        "colab": {
          "base_uri": "https://localhost:8080/"
        },
        "id": "iwPCosDyviO1",
        "outputId": "d11e527a-203a-4ea4-de5c-f1684a96ade9"
      },
      "execution_count": null,
      "outputs": [
        {
          "output_type": "stream",
          "name": "stdout",
          "text": [
            "False\n",
            "0\n"
          ]
        }
      ]
    },
    {
      "cell_type": "code",
      "source": [
        "print(type(my_desk[4]))"
      ],
      "metadata": {
        "colab": {
          "base_uri": "https://localhost:8080/"
        },
        "id": "_GvTvuzFCIJD",
        "outputId": "b5df852e-615f-4a0d-fa1a-1ec314fab16c"
      },
      "execution_count": null,
      "outputs": [
        {
          "output_type": "stream",
          "name": "stdout",
          "text": [
            "<class 'list'>\n"
          ]
        }
      ]
    },
    {
      "cell_type": "code",
      "source": [
        "#use type and help functions \n",
        "type(fibonacci)"
      ],
      "metadata": {
        "colab": {
          "base_uri": "https://localhost:8080/"
        },
        "id": "bAd-ijrszKzQ",
        "outputId": "6757e4a5-3b33-4677-d05e-277b36fdc52d"
      },
      "execution_count": null,
      "outputs": [
        {
          "output_type": "execute_result",
          "data": {
            "text/plain": [
              "list"
            ]
          },
          "metadata": {},
          "execution_count": 36
        }
      ]
    },
    {
      "cell_type": "markdown",
      "source": [
        "**Array**\n",
        "\n",
        "Accessing elements of a large list is computationally expensive. **NumPy offers an extension to Python that adds support for large, multidimensional arrays and matrices. Arrays are more efficient.** All elements in an array must be of the same type. "
      ],
      "metadata": {
        "id": "0_VOw3m_C9lq"
      }
    },
    {
      "cell_type": "code",
      "source": [
        "#Before using NumPy, you need to import the NumPy package\n",
        "import numpy as np #for working with arrays"
      ],
      "metadata": {
        "id": "7eSd0nljDi_c"
      },
      "execution_count": null,
      "outputs": []
    },
    {
      "cell_type": "code",
      "source": [
        "#One way to create a NumPy array is to create it from a Python list:\n",
        "my_array=np.array(fibonacci)\n",
        "print(my_array)\n",
        "print(type(my_array))"
      ],
      "metadata": {
        "colab": {
          "base_uri": "https://localhost:8080/"
        },
        "id": "0LEy2h8PERsC",
        "outputId": "8f1f3b74-d966-4395-f8df-04aff4b39895"
      },
      "execution_count": null,
      "outputs": [
        {
          "output_type": "stream",
          "name": "stdout",
          "text": [
            "[ 1  2  3  5  8 13 21 34 55 89]\n",
            "<class 'numpy.ndarray'>\n"
          ]
        }
      ]
    },
    {
      "cell_type": "code",
      "source": [
        "#access array elements, examine the use of indices\n",
        "print(my_array[3])\n",
        "print(my_array[3:])\n",
        "print(my_array[:3])\n",
        "\n",
        "#now print elements from 5 to 8\n",
        "\n",
        "\n",
        "i=3\n",
        "#now print 5 elements from i\n"
      ],
      "metadata": {
        "colab": {
          "base_uri": "https://localhost:8080/"
        },
        "id": "kZZj7Gb0FXFP",
        "outputId": "13159538-dda4-4041-8219-f8999acd0cd3"
      },
      "execution_count": null,
      "outputs": [
        {
          "output_type": "stream",
          "name": "stdout",
          "text": [
            "5\n",
            "[ 5  8 13 21 34 55 89]\n",
            "[1 2 3]\n",
            "[ 8 13 21]\n",
            "[ 3  5  8 13 21]\n"
          ]
        }
      ]
    },
    {
      "cell_type": "code",
      "source": [
        "#you can have 2 dimentional arrays, the first axis has a length of 2 and the second axis has a length of 3.\n",
        "new_array = np.array([[1,2,3,4,5], [6,7,8,9,10], [11,12,13,14,15]]) "
      ],
      "metadata": {
        "id": "NcJZems-HTnq"
      },
      "execution_count": null,
      "outputs": []
    },
    {
      "cell_type": "code",
      "source": [
        "print(new_array)"
      ],
      "metadata": {
        "colab": {
          "base_uri": "https://localhost:8080/"
        },
        "id": "UI0TWVtaHl0h",
        "outputId": "23b781bd-3626-4d2c-8f23-8d7709856bde"
      },
      "execution_count": null,
      "outputs": [
        {
          "output_type": "stream",
          "name": "stdout",
          "text": [
            "[[ 1  2  3  4  5]\n",
            " [ 6  7  8  9 10]\n",
            " [11 12 13 14 15]]\n"
          ]
        }
      ]
    },
    {
      "cell_type": "code",
      "source": [
        "#access elements of a 2 dimentional array\n",
        "#print the second row \n",
        "print(new_array[1,:])\n",
        "#print the first row, element 2\n",
        "print(new_array[0,1])\n",
        "\n",
        "#print the third column\n",
        "print(new_array[:,2])"
      ],
      "metadata": {
        "colab": {
          "base_uri": "https://localhost:8080/"
        },
        "id": "ujGLU11HIfBB",
        "outputId": "71aa085e-3814-4fb1-fd74-ee6beee796a6"
      },
      "execution_count": null,
      "outputs": [
        {
          "output_type": "stream",
          "name": "stdout",
          "text": [
            "[ 6  7  8  9 10]\n",
            "2\n",
            "[ 3  8 13]\n"
          ]
        }
      ]
    },
    {
      "cell_type": "markdown",
      "source": [
        "**Dataframe** \n",
        "\n",
        "Pandas extends Python by providing fast, flexible, and expressive data structures designed to make working with “relational” or “labeled” data both easy and intuitive. \n",
        "\n",
        "**Pandas' Dataframes are a 2-dimensional data structure that can store data of different types (strings, integers, floating numbers, and more) in columns. Index starts from 0.**\n",
        "\n",
        "*Pandas stands for Panel Data Analysis.*\n",
        "\n",
        "Read more https://learning.oreilly.com/library/view/python-machine-learning/9781119545637/c03.xhtml#head-2-13"
      ],
      "metadata": {
        "id": "7hQ2mcLh3jve"
      }
    },
    {
      "cell_type": "code",
      "source": [
        "#First you need to load the Pandas library \n",
        "import pandas as pd\n",
        " \n",
        "'''The code below creates a DataFrame of 3 rows and 4 columns. Each column has a label: “A”, “B”, “C”, and “D”'''\n",
        "\n",
        "df = pd.DataFrame([[1,2,3,4],[5,6,7,8],[9,10,11,12]],\n",
        "\t\t  columns=list('ABCD'))\n",
        "print(df) \n",
        "print(df.shape)"
      ],
      "metadata": {
        "colab": {
          "base_uri": "https://localhost:8080/"
        },
        "id": "m-xS5wB433-B",
        "outputId": "684544ce-cee6-421e-f8a3-0bc99017589f"
      },
      "execution_count": null,
      "outputs": [
        {
          "output_type": "stream",
          "name": "stdout",
          "text": [
            "   A   B   C   D\n",
            "0  1   2   3   4\n",
            "1  5   6   7   8\n",
            "2  9  10  11  12\n",
            "(3, 4)\n"
          ]
        }
      ]
    },
    {
      "cell_type": "code",
      "source": [
        "#access columns \n",
        "print(df[['C']])\n",
        "print(df[['A','C']]) #if we want to access more than one columns we need to have a list\n",
        "\n",
        "#access a row, note only the first index is counted\n",
        "print(df[2:3])"
      ],
      "metadata": {
        "colab": {
          "base_uri": "https://localhost:8080/"
        },
        "id": "RakKoepGM-bh",
        "outputId": "0b1dfa18-00cd-4dab-9143-1ce146961de4"
      },
      "execution_count": null,
      "outputs": [
        {
          "output_type": "stream",
          "name": "stdout",
          "text": [
            "    C\n",
            "0   3\n",
            "1   7\n",
            "2  11\n",
            "   A   C\n",
            "0  1   3\n",
            "1  5   7\n",
            "2  9  11\n",
            "   A   B   C   D\n",
            "2  9  10  11  12\n"
          ]
        }
      ]
    },
    {
      "cell_type": "code",
      "source": [
        "#now print B and C collumns \n",
        "features=['B','C']\n",
        "print(df[features])\n",
        "#now print the first and second rows\n",
        "print(df[1:3])\n",
        "#next line\n",
        "print(\"\\n\")\n",
        "#print the last column\n",
        "print(df['D'])\n",
        "print(df.iloc[:,[3]])"
      ],
      "metadata": {
        "colab": {
          "base_uri": "https://localhost:8080/"
        },
        "id": "wJQErkVC0CQf",
        "outputId": "3aaf0bb7-40ac-4454-f4f0-9cc40585d422"
      },
      "execution_count": null,
      "outputs": [
        {
          "output_type": "stream",
          "name": "stdout",
          "text": [
            "    B   C\n",
            "0   2   3\n",
            "1   6   7\n",
            "2  10  11\n",
            "   A   B   C   D\n",
            "1  5   6   7   8\n",
            "2  9  10  11  12\n",
            "\n",
            "\n",
            "0     4\n",
            "1     8\n",
            "2    12\n",
            "Name: D, dtype: int64\n",
            "    D\n",
            "0   4\n",
            "1   8\n",
            "2  12\n"
          ]
        }
      ]
    },
    {
      "cell_type": "markdown",
      "source": [
        "**OPTIONAL: A dictionary is a Python data structure that holds pairs of objects - keys and values.**"
      ],
      "metadata": {
        "id": "xRXnN_FszzTO"
      }
    },
    {
      "cell_type": "code",
      "source": [
        "toUpper = {'a': 'A', 'b': 'B'}\n",
        "print(toUpper['a'])"
      ],
      "metadata": {
        "colab": {
          "base_uri": "https://localhost:8080/"
        },
        "id": "hYzQDbudzxqR",
        "outputId": "8aaad167-6335-47c5-fb5d-fc850f22ae47"
      },
      "execution_count": null,
      "outputs": [
        {
          "output_type": "stream",
          "name": "stdout",
          "text": [
            "A\n"
          ]
        }
      ]
    },
    {
      "cell_type": "code",
      "source": [
        "#print toUpper with key c\n",
        "#print toUpper"
      ],
      "metadata": {
        "colab": {
          "base_uri": "https://localhost:8080/"
        },
        "id": "jWzGUg2g0eRh",
        "outputId": "e2bfa0e8-4ab7-4ee5-9387-4dfbd560f84a"
      },
      "execution_count": null,
      "outputs": [
        {
          "output_type": "stream",
          "name": "stdout",
          "text": [
            "{'a': 'A', 'b': 'B', 'c': 'C'}\n"
          ]
        }
      ]
    },
    {
      "cell_type": "code",
      "source": [
        "for i in toUpper.keys():\n",
        "  print(i, ': ', toUpper[i])"
      ],
      "metadata": {
        "colab": {
          "base_uri": "https://localhost:8080/"
        },
        "id": "tiMqk8eQ097E",
        "outputId": "4779c79f-13aa-45f6-b53a-19b1924aff45"
      },
      "execution_count": null,
      "outputs": [
        {
          "output_type": "stream",
          "name": "stdout",
          "text": [
            "a :  A\n",
            "b :  B\n",
            "c :  C\n"
          ]
        }
      ]
    },
    {
      "cell_type": "markdown",
      "source": [
        "# **Mount your Google drive**"
      ],
      "metadata": {
        "id": "eSIIzLgfNLtN"
      }
    },
    {
      "cell_type": "code",
      "source": [
        "import pandas as pd"
      ],
      "metadata": {
        "id": "wJ8pD5ivMf-R"
      },
      "execution_count": null,
      "outputs": []
    },
    {
      "cell_type": "code",
      "source": [
        "from google.colab import drive\n",
        "drive.mount('/content/drive')"
      ],
      "metadata": {
        "id": "F1_8DccH8qjZ",
        "colab": {
          "base_uri": "https://localhost:8080/"
        },
        "outputId": "43cb0a85-029d-44a8-f37e-78d9ccafcdea"
      },
      "execution_count": null,
      "outputs": [
        {
          "output_type": "stream",
          "name": "stdout",
          "text": [
            "Drive already mounted at /content/drive; to attempt to forcibly remount, call drive.mount(\"/content/drive\", force_remount=True).\n"
          ]
        }
      ]
    },
    {
      "cell_type": "markdown",
      "metadata": {
        "id": "B38Q50gZm1vQ"
      },
      "source": [
        "# Titanic dataset\n",
        "\n",
        "1.   Load the dataset\n",
        "2.   Explore the data\n",
        "\n"
      ]
    },
    {
      "cell_type": "code",
      "source": [
        "# load dataset, use your own folder, or create Colab Notebooks/MIS710/ \n",
        "\n",
        "records = pd.read_csv(\"titanic_train.csv\")\n",
        "\n",
        "records\n"
      ],
      "metadata": {
        "id": "uYGvcxGZVBID",
        "colab": {
          "base_uri": "https://localhost:8080/",
          "height": 830
        },
        "outputId": "eb8bbc2a-175b-45d5-aee8-2b07782eab75"
      },
      "execution_count": null,
      "outputs": [
        {
          "output_type": "execute_result",
          "data": {
            "text/plain": [
              "     PassengerId  Survived  Pclass  \\\n",
              "0              1         0       3   \n",
              "1              2         1       1   \n",
              "2              3         1       3   \n",
              "3              4         1       1   \n",
              "4              5         0       3   \n",
              "..           ...       ...     ...   \n",
              "886          887         0       2   \n",
              "887          888         1       1   \n",
              "888          889         0       3   \n",
              "889          890         1       1   \n",
              "890          891         0       3   \n",
              "\n",
              "                                                  Name     Sex   Age  SibSp  \\\n",
              "0                              Braund, Mr. Owen Harris    male  22.0      1   \n",
              "1    Cumings, Mrs. John Bradley (Florence Briggs Th...  female  38.0      1   \n",
              "2                               Heikkinen, Miss. Laina  female  26.0      0   \n",
              "3         Futrelle, Mrs. Jacques Heath (Lily May Peel)  female  35.0      1   \n",
              "4                             Allen, Mr. William Henry    male  35.0      0   \n",
              "..                                                 ...     ...   ...    ...   \n",
              "886                              Montvila, Rev. Juozas    male  27.0      0   \n",
              "887                       Graham, Miss. Margaret Edith  female  19.0      0   \n",
              "888           Johnston, Miss. Catherine Helen \"Carrie\"  female   NaN      1   \n",
              "889                              Behr, Mr. Karl Howell    male  26.0      0   \n",
              "890                                Dooley, Mr. Patrick    male  32.0      0   \n",
              "\n",
              "     Parch            Ticket     Fare Cabin Embarked  \n",
              "0        0         A/5 21171   7.2500   NaN        S  \n",
              "1        0          PC 17599  71.2833   C85        C  \n",
              "2        0  STON/O2. 3101282   7.9250   NaN        S  \n",
              "3        0            113803  53.1000  C123        S  \n",
              "4        0            373450   8.0500   NaN        S  \n",
              "..     ...               ...      ...   ...      ...  \n",
              "886      0            211536  13.0000   NaN        S  \n",
              "887      0            112053  30.0000   B42        S  \n",
              "888      2        W./C. 6607  23.4500   NaN        S  \n",
              "889      0            111369  30.0000  C148        C  \n",
              "890      0            370376   7.7500   NaN        Q  \n",
              "\n",
              "[891 rows x 12 columns]"
            ],
            "text/html": [
              "\n",
              "  <div id=\"df-65081679-b941-461d-a806-95bbdd683ab8\">\n",
              "    <div class=\"colab-df-container\">\n",
              "      <div>\n",
              "<style scoped>\n",
              "    .dataframe tbody tr th:only-of-type {\n",
              "        vertical-align: middle;\n",
              "    }\n",
              "\n",
              "    .dataframe tbody tr th {\n",
              "        vertical-align: top;\n",
              "    }\n",
              "\n",
              "    .dataframe thead th {\n",
              "        text-align: right;\n",
              "    }\n",
              "</style>\n",
              "<table border=\"1\" class=\"dataframe\">\n",
              "  <thead>\n",
              "    <tr style=\"text-align: right;\">\n",
              "      <th></th>\n",
              "      <th>PassengerId</th>\n",
              "      <th>Survived</th>\n",
              "      <th>Pclass</th>\n",
              "      <th>Name</th>\n",
              "      <th>Sex</th>\n",
              "      <th>Age</th>\n",
              "      <th>SibSp</th>\n",
              "      <th>Parch</th>\n",
              "      <th>Ticket</th>\n",
              "      <th>Fare</th>\n",
              "      <th>Cabin</th>\n",
              "      <th>Embarked</th>\n",
              "    </tr>\n",
              "  </thead>\n",
              "  <tbody>\n",
              "    <tr>\n",
              "      <th>0</th>\n",
              "      <td>1</td>\n",
              "      <td>0</td>\n",
              "      <td>3</td>\n",
              "      <td>Braund, Mr. Owen Harris</td>\n",
              "      <td>male</td>\n",
              "      <td>22.0</td>\n",
              "      <td>1</td>\n",
              "      <td>0</td>\n",
              "      <td>A/5 21171</td>\n",
              "      <td>7.2500</td>\n",
              "      <td>NaN</td>\n",
              "      <td>S</td>\n",
              "    </tr>\n",
              "    <tr>\n",
              "      <th>1</th>\n",
              "      <td>2</td>\n",
              "      <td>1</td>\n",
              "      <td>1</td>\n",
              "      <td>Cumings, Mrs. John Bradley (Florence Briggs Th...</td>\n",
              "      <td>female</td>\n",
              "      <td>38.0</td>\n",
              "      <td>1</td>\n",
              "      <td>0</td>\n",
              "      <td>PC 17599</td>\n",
              "      <td>71.2833</td>\n",
              "      <td>C85</td>\n",
              "      <td>C</td>\n",
              "    </tr>\n",
              "    <tr>\n",
              "      <th>2</th>\n",
              "      <td>3</td>\n",
              "      <td>1</td>\n",
              "      <td>3</td>\n",
              "      <td>Heikkinen, Miss. Laina</td>\n",
              "      <td>female</td>\n",
              "      <td>26.0</td>\n",
              "      <td>0</td>\n",
              "      <td>0</td>\n",
              "      <td>STON/O2. 3101282</td>\n",
              "      <td>7.9250</td>\n",
              "      <td>NaN</td>\n",
              "      <td>S</td>\n",
              "    </tr>\n",
              "    <tr>\n",
              "      <th>3</th>\n",
              "      <td>4</td>\n",
              "      <td>1</td>\n",
              "      <td>1</td>\n",
              "      <td>Futrelle, Mrs. Jacques Heath (Lily May Peel)</td>\n",
              "      <td>female</td>\n",
              "      <td>35.0</td>\n",
              "      <td>1</td>\n",
              "      <td>0</td>\n",
              "      <td>113803</td>\n",
              "      <td>53.1000</td>\n",
              "      <td>C123</td>\n",
              "      <td>S</td>\n",
              "    </tr>\n",
              "    <tr>\n",
              "      <th>4</th>\n",
              "      <td>5</td>\n",
              "      <td>0</td>\n",
              "      <td>3</td>\n",
              "      <td>Allen, Mr. William Henry</td>\n",
              "      <td>male</td>\n",
              "      <td>35.0</td>\n",
              "      <td>0</td>\n",
              "      <td>0</td>\n",
              "      <td>373450</td>\n",
              "      <td>8.0500</td>\n",
              "      <td>NaN</td>\n",
              "      <td>S</td>\n",
              "    </tr>\n",
              "    <tr>\n",
              "      <th>...</th>\n",
              "      <td>...</td>\n",
              "      <td>...</td>\n",
              "      <td>...</td>\n",
              "      <td>...</td>\n",
              "      <td>...</td>\n",
              "      <td>...</td>\n",
              "      <td>...</td>\n",
              "      <td>...</td>\n",
              "      <td>...</td>\n",
              "      <td>...</td>\n",
              "      <td>...</td>\n",
              "      <td>...</td>\n",
              "    </tr>\n",
              "    <tr>\n",
              "      <th>886</th>\n",
              "      <td>887</td>\n",
              "      <td>0</td>\n",
              "      <td>2</td>\n",
              "      <td>Montvila, Rev. Juozas</td>\n",
              "      <td>male</td>\n",
              "      <td>27.0</td>\n",
              "      <td>0</td>\n",
              "      <td>0</td>\n",
              "      <td>211536</td>\n",
              "      <td>13.0000</td>\n",
              "      <td>NaN</td>\n",
              "      <td>S</td>\n",
              "    </tr>\n",
              "    <tr>\n",
              "      <th>887</th>\n",
              "      <td>888</td>\n",
              "      <td>1</td>\n",
              "      <td>1</td>\n",
              "      <td>Graham, Miss. Margaret Edith</td>\n",
              "      <td>female</td>\n",
              "      <td>19.0</td>\n",
              "      <td>0</td>\n",
              "      <td>0</td>\n",
              "      <td>112053</td>\n",
              "      <td>30.0000</td>\n",
              "      <td>B42</td>\n",
              "      <td>S</td>\n",
              "    </tr>\n",
              "    <tr>\n",
              "      <th>888</th>\n",
              "      <td>889</td>\n",
              "      <td>0</td>\n",
              "      <td>3</td>\n",
              "      <td>Johnston, Miss. Catherine Helen \"Carrie\"</td>\n",
              "      <td>female</td>\n",
              "      <td>NaN</td>\n",
              "      <td>1</td>\n",
              "      <td>2</td>\n",
              "      <td>W./C. 6607</td>\n",
              "      <td>23.4500</td>\n",
              "      <td>NaN</td>\n",
              "      <td>S</td>\n",
              "    </tr>\n",
              "    <tr>\n",
              "      <th>889</th>\n",
              "      <td>890</td>\n",
              "      <td>1</td>\n",
              "      <td>1</td>\n",
              "      <td>Behr, Mr. Karl Howell</td>\n",
              "      <td>male</td>\n",
              "      <td>26.0</td>\n",
              "      <td>0</td>\n",
              "      <td>0</td>\n",
              "      <td>111369</td>\n",
              "      <td>30.0000</td>\n",
              "      <td>C148</td>\n",
              "      <td>C</td>\n",
              "    </tr>\n",
              "    <tr>\n",
              "      <th>890</th>\n",
              "      <td>891</td>\n",
              "      <td>0</td>\n",
              "      <td>3</td>\n",
              "      <td>Dooley, Mr. Patrick</td>\n",
              "      <td>male</td>\n",
              "      <td>32.0</td>\n",
              "      <td>0</td>\n",
              "      <td>0</td>\n",
              "      <td>370376</td>\n",
              "      <td>7.7500</td>\n",
              "      <td>NaN</td>\n",
              "      <td>Q</td>\n",
              "    </tr>\n",
              "  </tbody>\n",
              "</table>\n",
              "<p>891 rows × 12 columns</p>\n",
              "</div>\n",
              "      <button class=\"colab-df-convert\" onclick=\"convertToInteractive('df-65081679-b941-461d-a806-95bbdd683ab8')\"\n",
              "              title=\"Convert this dataframe to an interactive table.\"\n",
              "              style=\"display:none;\">\n",
              "        \n",
              "  <svg xmlns=\"http://www.w3.org/2000/svg\" height=\"24px\"viewBox=\"0 0 24 24\"\n",
              "       width=\"24px\">\n",
              "    <path d=\"M0 0h24v24H0V0z\" fill=\"none\"/>\n",
              "    <path d=\"M18.56 5.44l.94 2.06.94-2.06 2.06-.94-2.06-.94-.94-2.06-.94 2.06-2.06.94zm-11 1L8.5 8.5l.94-2.06 2.06-.94-2.06-.94L8.5 2.5l-.94 2.06-2.06.94zm10 10l.94 2.06.94-2.06 2.06-.94-2.06-.94-.94-2.06-.94 2.06-2.06.94z\"/><path d=\"M17.41 7.96l-1.37-1.37c-.4-.4-.92-.59-1.43-.59-.52 0-1.04.2-1.43.59L10.3 9.45l-7.72 7.72c-.78.78-.78 2.05 0 2.83L4 21.41c.39.39.9.59 1.41.59.51 0 1.02-.2 1.41-.59l7.78-7.78 2.81-2.81c.8-.78.8-2.07 0-2.86zM5.41 20L4 18.59l7.72-7.72 1.47 1.35L5.41 20z\"/>\n",
              "  </svg>\n",
              "      </button>\n",
              "      \n",
              "  <style>\n",
              "    .colab-df-container {\n",
              "      display:flex;\n",
              "      flex-wrap:wrap;\n",
              "      gap: 12px;\n",
              "    }\n",
              "\n",
              "    .colab-df-convert {\n",
              "      background-color: #E8F0FE;\n",
              "      border: none;\n",
              "      border-radius: 50%;\n",
              "      cursor: pointer;\n",
              "      display: none;\n",
              "      fill: #1967D2;\n",
              "      height: 32px;\n",
              "      padding: 0 0 0 0;\n",
              "      width: 32px;\n",
              "    }\n",
              "\n",
              "    .colab-df-convert:hover {\n",
              "      background-color: #E2EBFA;\n",
              "      box-shadow: 0px 1px 2px rgba(60, 64, 67, 0.3), 0px 1px 3px 1px rgba(60, 64, 67, 0.15);\n",
              "      fill: #174EA6;\n",
              "    }\n",
              "\n",
              "    [theme=dark] .colab-df-convert {\n",
              "      background-color: #3B4455;\n",
              "      fill: #D2E3FC;\n",
              "    }\n",
              "\n",
              "    [theme=dark] .colab-df-convert:hover {\n",
              "      background-color: #434B5C;\n",
              "      box-shadow: 0px 1px 3px 1px rgba(0, 0, 0, 0.15);\n",
              "      filter: drop-shadow(0px 1px 2px rgba(0, 0, 0, 0.3));\n",
              "      fill: #FFFFFF;\n",
              "    }\n",
              "  </style>\n",
              "\n",
              "      <script>\n",
              "        const buttonEl =\n",
              "          document.querySelector('#df-65081679-b941-461d-a806-95bbdd683ab8 button.colab-df-convert');\n",
              "        buttonEl.style.display =\n",
              "          google.colab.kernel.accessAllowed ? 'block' : 'none';\n",
              "\n",
              "        async function convertToInteractive(key) {\n",
              "          const element = document.querySelector('#df-65081679-b941-461d-a806-95bbdd683ab8');\n",
              "          const dataTable =\n",
              "            await google.colab.kernel.invokeFunction('convertToInteractive',\n",
              "                                                     [key], {});\n",
              "          if (!dataTable) return;\n",
              "\n",
              "          const docLinkHtml = 'Like what you see? Visit the ' +\n",
              "            '<a target=\"_blank\" href=https://colab.research.google.com/notebooks/data_table.ipynb>data table notebook</a>'\n",
              "            + ' to learn more about interactive tables.';\n",
              "          element.innerHTML = '';\n",
              "          dataTable['output_type'] = 'display_data';\n",
              "          await google.colab.output.renderOutput(dataTable, element);\n",
              "          const docLink = document.createElement('div');\n",
              "          docLink.innerHTML = docLinkHtml;\n",
              "          element.appendChild(docLink);\n",
              "        }\n",
              "      </script>\n",
              "    </div>\n",
              "  </div>\n",
              "  "
            ]
          },
          "metadata": {},
          "execution_count": 8
        }
      ]
    },
    {
      "cell_type": "markdown",
      "source": [
        "**DataFrame** \n",
        "Dataframes are a 2-dimensional data structure that can store data of different types (strings, integers, floating numbers, and more) in columns. Index starts from 0."
      ],
      "metadata": {
        "id": "M0bFzHsj4OL9"
      }
    },
    {
      "cell_type": "code",
      "source": [
        "print('Sample size:', records.shape[0])\n",
        "print('Number of columns:', records.shape[1]) "
      ],
      "metadata": {
        "colab": {
          "base_uri": "https://localhost:8080/"
        },
        "id": "4pTUBJKZ4ySo",
        "outputId": "f4656f01-20c7-4045-a36d-9b5ade3fe3f7"
      },
      "execution_count": null,
      "outputs": [
        {
          "output_type": "stream",
          "name": "stdout",
          "text": [
            "Sample size: 891\n",
            "Number of columns: 12\n"
          ]
        }
      ]
    },
    {
      "cell_type": "code",
      "source": [
        "records.info()"
      ],
      "metadata": {
        "colab": {
          "base_uri": "https://localhost:8080/"
        },
        "id": "J75MIJ22WU77",
        "outputId": "3a01fe67-2808-4bc5-b2d4-e373e4d3c1fc"
      },
      "execution_count": null,
      "outputs": [
        {
          "output_type": "stream",
          "name": "stdout",
          "text": [
            "<class 'pandas.core.frame.DataFrame'>\n",
            "RangeIndex: 891 entries, 0 to 890\n",
            "Data columns (total 12 columns):\n",
            " #   Column       Non-Null Count  Dtype  \n",
            "---  ------       --------------  -----  \n",
            " 0   PassengerId  891 non-null    int64  \n",
            " 1   Survived     891 non-null    int64  \n",
            " 2   Pclass       891 non-null    int64  \n",
            " 3   Name         891 non-null    object \n",
            " 4   Sex          891 non-null    object \n",
            " 5   Age          714 non-null    float64\n",
            " 6   SibSp        891 non-null    int64  \n",
            " 7   Parch        891 non-null    int64  \n",
            " 8   Ticket       891 non-null    object \n",
            " 9   Fare         891 non-null    float64\n",
            " 10  Cabin        204 non-null    object \n",
            " 11  Embarked     889 non-null    object \n",
            "dtypes: float64(2), int64(5), object(5)\n",
            "memory usage: 83.7+ KB\n"
          ]
        }
      ]
    },
    {
      "cell_type": "code",
      "source": [
        "records.head()"
      ],
      "metadata": {
        "colab": {
          "base_uri": "https://localhost:8080/",
          "height": 206
        },
        "id": "wQ_4G0LQW5i8",
        "outputId": "20c51df7-33db-4bea-c0d3-7e37085e4898"
      },
      "execution_count": null,
      "outputs": [
        {
          "output_type": "execute_result",
          "data": {
            "text/plain": [
              "   PassengerId  Survived  Pclass  \\\n",
              "0            1         0       3   \n",
              "1            2         1       1   \n",
              "2            3         1       3   \n",
              "3            4         1       1   \n",
              "4            5         0       3   \n",
              "\n",
              "                                                Name     Sex   Age  SibSp  \\\n",
              "0                            Braund, Mr. Owen Harris    male  22.0      1   \n",
              "1  Cumings, Mrs. John Bradley (Florence Briggs Th...  female  38.0      1   \n",
              "2                             Heikkinen, Miss. Laina  female  26.0      0   \n",
              "3       Futrelle, Mrs. Jacques Heath (Lily May Peel)  female  35.0      1   \n",
              "4                           Allen, Mr. William Henry    male  35.0      0   \n",
              "\n",
              "   Parch            Ticket     Fare Cabin Embarked  \n",
              "0      0         A/5 21171   7.2500   NaN        S  \n",
              "1      0          PC 17599  71.2833   C85        C  \n",
              "2      0  STON/O2. 3101282   7.9250   NaN        S  \n",
              "3      0            113803  53.1000  C123        S  \n",
              "4      0            373450   8.0500   NaN        S  "
            ],
            "text/html": [
              "\n",
              "  <div id=\"df-d0946a6b-c17b-4401-9f2c-6511a5966bb7\">\n",
              "    <div class=\"colab-df-container\">\n",
              "      <div>\n",
              "<style scoped>\n",
              "    .dataframe tbody tr th:only-of-type {\n",
              "        vertical-align: middle;\n",
              "    }\n",
              "\n",
              "    .dataframe tbody tr th {\n",
              "        vertical-align: top;\n",
              "    }\n",
              "\n",
              "    .dataframe thead th {\n",
              "        text-align: right;\n",
              "    }\n",
              "</style>\n",
              "<table border=\"1\" class=\"dataframe\">\n",
              "  <thead>\n",
              "    <tr style=\"text-align: right;\">\n",
              "      <th></th>\n",
              "      <th>PassengerId</th>\n",
              "      <th>Survived</th>\n",
              "      <th>Pclass</th>\n",
              "      <th>Name</th>\n",
              "      <th>Sex</th>\n",
              "      <th>Age</th>\n",
              "      <th>SibSp</th>\n",
              "      <th>Parch</th>\n",
              "      <th>Ticket</th>\n",
              "      <th>Fare</th>\n",
              "      <th>Cabin</th>\n",
              "      <th>Embarked</th>\n",
              "    </tr>\n",
              "  </thead>\n",
              "  <tbody>\n",
              "    <tr>\n",
              "      <th>0</th>\n",
              "      <td>1</td>\n",
              "      <td>0</td>\n",
              "      <td>3</td>\n",
              "      <td>Braund, Mr. Owen Harris</td>\n",
              "      <td>male</td>\n",
              "      <td>22.0</td>\n",
              "      <td>1</td>\n",
              "      <td>0</td>\n",
              "      <td>A/5 21171</td>\n",
              "      <td>7.2500</td>\n",
              "      <td>NaN</td>\n",
              "      <td>S</td>\n",
              "    </tr>\n",
              "    <tr>\n",
              "      <th>1</th>\n",
              "      <td>2</td>\n",
              "      <td>1</td>\n",
              "      <td>1</td>\n",
              "      <td>Cumings, Mrs. John Bradley (Florence Briggs Th...</td>\n",
              "      <td>female</td>\n",
              "      <td>38.0</td>\n",
              "      <td>1</td>\n",
              "      <td>0</td>\n",
              "      <td>PC 17599</td>\n",
              "      <td>71.2833</td>\n",
              "      <td>C85</td>\n",
              "      <td>C</td>\n",
              "    </tr>\n",
              "    <tr>\n",
              "      <th>2</th>\n",
              "      <td>3</td>\n",
              "      <td>1</td>\n",
              "      <td>3</td>\n",
              "      <td>Heikkinen, Miss. Laina</td>\n",
              "      <td>female</td>\n",
              "      <td>26.0</td>\n",
              "      <td>0</td>\n",
              "      <td>0</td>\n",
              "      <td>STON/O2. 3101282</td>\n",
              "      <td>7.9250</td>\n",
              "      <td>NaN</td>\n",
              "      <td>S</td>\n",
              "    </tr>\n",
              "    <tr>\n",
              "      <th>3</th>\n",
              "      <td>4</td>\n",
              "      <td>1</td>\n",
              "      <td>1</td>\n",
              "      <td>Futrelle, Mrs. Jacques Heath (Lily May Peel)</td>\n",
              "      <td>female</td>\n",
              "      <td>35.0</td>\n",
              "      <td>1</td>\n",
              "      <td>0</td>\n",
              "      <td>113803</td>\n",
              "      <td>53.1000</td>\n",
              "      <td>C123</td>\n",
              "      <td>S</td>\n",
              "    </tr>\n",
              "    <tr>\n",
              "      <th>4</th>\n",
              "      <td>5</td>\n",
              "      <td>0</td>\n",
              "      <td>3</td>\n",
              "      <td>Allen, Mr. William Henry</td>\n",
              "      <td>male</td>\n",
              "      <td>35.0</td>\n",
              "      <td>0</td>\n",
              "      <td>0</td>\n",
              "      <td>373450</td>\n",
              "      <td>8.0500</td>\n",
              "      <td>NaN</td>\n",
              "      <td>S</td>\n",
              "    </tr>\n",
              "  </tbody>\n",
              "</table>\n",
              "</div>\n",
              "      <button class=\"colab-df-convert\" onclick=\"convertToInteractive('df-d0946a6b-c17b-4401-9f2c-6511a5966bb7')\"\n",
              "              title=\"Convert this dataframe to an interactive table.\"\n",
              "              style=\"display:none;\">\n",
              "        \n",
              "  <svg xmlns=\"http://www.w3.org/2000/svg\" height=\"24px\"viewBox=\"0 0 24 24\"\n",
              "       width=\"24px\">\n",
              "    <path d=\"M0 0h24v24H0V0z\" fill=\"none\"/>\n",
              "    <path d=\"M18.56 5.44l.94 2.06.94-2.06 2.06-.94-2.06-.94-.94-2.06-.94 2.06-2.06.94zm-11 1L8.5 8.5l.94-2.06 2.06-.94-2.06-.94L8.5 2.5l-.94 2.06-2.06.94zm10 10l.94 2.06.94-2.06 2.06-.94-2.06-.94-.94-2.06-.94 2.06-2.06.94z\"/><path d=\"M17.41 7.96l-1.37-1.37c-.4-.4-.92-.59-1.43-.59-.52 0-1.04.2-1.43.59L10.3 9.45l-7.72 7.72c-.78.78-.78 2.05 0 2.83L4 21.41c.39.39.9.59 1.41.59.51 0 1.02-.2 1.41-.59l7.78-7.78 2.81-2.81c.8-.78.8-2.07 0-2.86zM5.41 20L4 18.59l7.72-7.72 1.47 1.35L5.41 20z\"/>\n",
              "  </svg>\n",
              "      </button>\n",
              "      \n",
              "  <style>\n",
              "    .colab-df-container {\n",
              "      display:flex;\n",
              "      flex-wrap:wrap;\n",
              "      gap: 12px;\n",
              "    }\n",
              "\n",
              "    .colab-df-convert {\n",
              "      background-color: #E8F0FE;\n",
              "      border: none;\n",
              "      border-radius: 50%;\n",
              "      cursor: pointer;\n",
              "      display: none;\n",
              "      fill: #1967D2;\n",
              "      height: 32px;\n",
              "      padding: 0 0 0 0;\n",
              "      width: 32px;\n",
              "    }\n",
              "\n",
              "    .colab-df-convert:hover {\n",
              "      background-color: #E2EBFA;\n",
              "      box-shadow: 0px 1px 2px rgba(60, 64, 67, 0.3), 0px 1px 3px 1px rgba(60, 64, 67, 0.15);\n",
              "      fill: #174EA6;\n",
              "    }\n",
              "\n",
              "    [theme=dark] .colab-df-convert {\n",
              "      background-color: #3B4455;\n",
              "      fill: #D2E3FC;\n",
              "    }\n",
              "\n",
              "    [theme=dark] .colab-df-convert:hover {\n",
              "      background-color: #434B5C;\n",
              "      box-shadow: 0px 1px 3px 1px rgba(0, 0, 0, 0.15);\n",
              "      filter: drop-shadow(0px 1px 2px rgba(0, 0, 0, 0.3));\n",
              "      fill: #FFFFFF;\n",
              "    }\n",
              "  </style>\n",
              "\n",
              "      <script>\n",
              "        const buttonEl =\n",
              "          document.querySelector('#df-d0946a6b-c17b-4401-9f2c-6511a5966bb7 button.colab-df-convert');\n",
              "        buttonEl.style.display =\n",
              "          google.colab.kernel.accessAllowed ? 'block' : 'none';\n",
              "\n",
              "        async function convertToInteractive(key) {\n",
              "          const element = document.querySelector('#df-d0946a6b-c17b-4401-9f2c-6511a5966bb7');\n",
              "          const dataTable =\n",
              "            await google.colab.kernel.invokeFunction('convertToInteractive',\n",
              "                                                     [key], {});\n",
              "          if (!dataTable) return;\n",
              "\n",
              "          const docLinkHtml = 'Like what you see? Visit the ' +\n",
              "            '<a target=\"_blank\" href=https://colab.research.google.com/notebooks/data_table.ipynb>data table notebook</a>'\n",
              "            + ' to learn more about interactive tables.';\n",
              "          element.innerHTML = '';\n",
              "          dataTable['output_type'] = 'display_data';\n",
              "          await google.colab.output.renderOutput(dataTable, element);\n",
              "          const docLink = document.createElement('div');\n",
              "          docLink.innerHTML = docLinkHtml;\n",
              "          element.appendChild(docLink);\n",
              "        }\n",
              "      </script>\n",
              "    </div>\n",
              "  </div>\n",
              "  "
            ]
          },
          "metadata": {},
          "execution_count": 10
        }
      ]
    },
    {
      "cell_type": "code",
      "source": [
        "records.tail(10)"
      ],
      "metadata": {
        "colab": {
          "base_uri": "https://localhost:8080/",
          "height": 362
        },
        "id": "VAXdWumfW_cR",
        "outputId": "85494db9-f0b1-44b7-c606-886323a7f420"
      },
      "execution_count": null,
      "outputs": [
        {
          "output_type": "execute_result",
          "data": {
            "text/plain": [
              "     PassengerId  Survived  Pclass                                      Name  \\\n",
              "881          882         0       3                        Markun, Mr. Johann   \n",
              "882          883         0       3              Dahlberg, Miss. Gerda Ulrika   \n",
              "883          884         0       2             Banfield, Mr. Frederick James   \n",
              "884          885         0       3                    Sutehall, Mr. Henry Jr   \n",
              "885          886         0       3      Rice, Mrs. William (Margaret Norton)   \n",
              "886          887         0       2                     Montvila, Rev. Juozas   \n",
              "887          888         1       1              Graham, Miss. Margaret Edith   \n",
              "888          889         0       3  Johnston, Miss. Catherine Helen \"Carrie\"   \n",
              "889          890         1       1                     Behr, Mr. Karl Howell   \n",
              "890          891         0       3                       Dooley, Mr. Patrick   \n",
              "\n",
              "        Sex   Age  SibSp  Parch            Ticket     Fare Cabin Embarked  \n",
              "881    male  33.0      0      0            349257   7.8958   NaN        S  \n",
              "882  female  22.0      0      0              7552  10.5167   NaN        S  \n",
              "883    male  28.0      0      0  C.A./SOTON 34068  10.5000   NaN        S  \n",
              "884    male  25.0      0      0   SOTON/OQ 392076   7.0500   NaN        S  \n",
              "885  female  39.0      0      5            382652  29.1250   NaN        Q  \n",
              "886    male  27.0      0      0            211536  13.0000   NaN        S  \n",
              "887  female  19.0      0      0            112053  30.0000   B42        S  \n",
              "888  female   NaN      1      2        W./C. 6607  23.4500   NaN        S  \n",
              "889    male  26.0      0      0            111369  30.0000  C148        C  \n",
              "890    male  32.0      0      0            370376   7.7500   NaN        Q  "
            ],
            "text/html": [
              "\n",
              "  <div id=\"df-86fb29d5-138c-4af8-840c-8c6ea2dca676\">\n",
              "    <div class=\"colab-df-container\">\n",
              "      <div>\n",
              "<style scoped>\n",
              "    .dataframe tbody tr th:only-of-type {\n",
              "        vertical-align: middle;\n",
              "    }\n",
              "\n",
              "    .dataframe tbody tr th {\n",
              "        vertical-align: top;\n",
              "    }\n",
              "\n",
              "    .dataframe thead th {\n",
              "        text-align: right;\n",
              "    }\n",
              "</style>\n",
              "<table border=\"1\" class=\"dataframe\">\n",
              "  <thead>\n",
              "    <tr style=\"text-align: right;\">\n",
              "      <th></th>\n",
              "      <th>PassengerId</th>\n",
              "      <th>Survived</th>\n",
              "      <th>Pclass</th>\n",
              "      <th>Name</th>\n",
              "      <th>Sex</th>\n",
              "      <th>Age</th>\n",
              "      <th>SibSp</th>\n",
              "      <th>Parch</th>\n",
              "      <th>Ticket</th>\n",
              "      <th>Fare</th>\n",
              "      <th>Cabin</th>\n",
              "      <th>Embarked</th>\n",
              "    </tr>\n",
              "  </thead>\n",
              "  <tbody>\n",
              "    <tr>\n",
              "      <th>881</th>\n",
              "      <td>882</td>\n",
              "      <td>0</td>\n",
              "      <td>3</td>\n",
              "      <td>Markun, Mr. Johann</td>\n",
              "      <td>male</td>\n",
              "      <td>33.0</td>\n",
              "      <td>0</td>\n",
              "      <td>0</td>\n",
              "      <td>349257</td>\n",
              "      <td>7.8958</td>\n",
              "      <td>NaN</td>\n",
              "      <td>S</td>\n",
              "    </tr>\n",
              "    <tr>\n",
              "      <th>882</th>\n",
              "      <td>883</td>\n",
              "      <td>0</td>\n",
              "      <td>3</td>\n",
              "      <td>Dahlberg, Miss. Gerda Ulrika</td>\n",
              "      <td>female</td>\n",
              "      <td>22.0</td>\n",
              "      <td>0</td>\n",
              "      <td>0</td>\n",
              "      <td>7552</td>\n",
              "      <td>10.5167</td>\n",
              "      <td>NaN</td>\n",
              "      <td>S</td>\n",
              "    </tr>\n",
              "    <tr>\n",
              "      <th>883</th>\n",
              "      <td>884</td>\n",
              "      <td>0</td>\n",
              "      <td>2</td>\n",
              "      <td>Banfield, Mr. Frederick James</td>\n",
              "      <td>male</td>\n",
              "      <td>28.0</td>\n",
              "      <td>0</td>\n",
              "      <td>0</td>\n",
              "      <td>C.A./SOTON 34068</td>\n",
              "      <td>10.5000</td>\n",
              "      <td>NaN</td>\n",
              "      <td>S</td>\n",
              "    </tr>\n",
              "    <tr>\n",
              "      <th>884</th>\n",
              "      <td>885</td>\n",
              "      <td>0</td>\n",
              "      <td>3</td>\n",
              "      <td>Sutehall, Mr. Henry Jr</td>\n",
              "      <td>male</td>\n",
              "      <td>25.0</td>\n",
              "      <td>0</td>\n",
              "      <td>0</td>\n",
              "      <td>SOTON/OQ 392076</td>\n",
              "      <td>7.0500</td>\n",
              "      <td>NaN</td>\n",
              "      <td>S</td>\n",
              "    </tr>\n",
              "    <tr>\n",
              "      <th>885</th>\n",
              "      <td>886</td>\n",
              "      <td>0</td>\n",
              "      <td>3</td>\n",
              "      <td>Rice, Mrs. William (Margaret Norton)</td>\n",
              "      <td>female</td>\n",
              "      <td>39.0</td>\n",
              "      <td>0</td>\n",
              "      <td>5</td>\n",
              "      <td>382652</td>\n",
              "      <td>29.1250</td>\n",
              "      <td>NaN</td>\n",
              "      <td>Q</td>\n",
              "    </tr>\n",
              "    <tr>\n",
              "      <th>886</th>\n",
              "      <td>887</td>\n",
              "      <td>0</td>\n",
              "      <td>2</td>\n",
              "      <td>Montvila, Rev. Juozas</td>\n",
              "      <td>male</td>\n",
              "      <td>27.0</td>\n",
              "      <td>0</td>\n",
              "      <td>0</td>\n",
              "      <td>211536</td>\n",
              "      <td>13.0000</td>\n",
              "      <td>NaN</td>\n",
              "      <td>S</td>\n",
              "    </tr>\n",
              "    <tr>\n",
              "      <th>887</th>\n",
              "      <td>888</td>\n",
              "      <td>1</td>\n",
              "      <td>1</td>\n",
              "      <td>Graham, Miss. Margaret Edith</td>\n",
              "      <td>female</td>\n",
              "      <td>19.0</td>\n",
              "      <td>0</td>\n",
              "      <td>0</td>\n",
              "      <td>112053</td>\n",
              "      <td>30.0000</td>\n",
              "      <td>B42</td>\n",
              "      <td>S</td>\n",
              "    </tr>\n",
              "    <tr>\n",
              "      <th>888</th>\n",
              "      <td>889</td>\n",
              "      <td>0</td>\n",
              "      <td>3</td>\n",
              "      <td>Johnston, Miss. Catherine Helen \"Carrie\"</td>\n",
              "      <td>female</td>\n",
              "      <td>NaN</td>\n",
              "      <td>1</td>\n",
              "      <td>2</td>\n",
              "      <td>W./C. 6607</td>\n",
              "      <td>23.4500</td>\n",
              "      <td>NaN</td>\n",
              "      <td>S</td>\n",
              "    </tr>\n",
              "    <tr>\n",
              "      <th>889</th>\n",
              "      <td>890</td>\n",
              "      <td>1</td>\n",
              "      <td>1</td>\n",
              "      <td>Behr, Mr. Karl Howell</td>\n",
              "      <td>male</td>\n",
              "      <td>26.0</td>\n",
              "      <td>0</td>\n",
              "      <td>0</td>\n",
              "      <td>111369</td>\n",
              "      <td>30.0000</td>\n",
              "      <td>C148</td>\n",
              "      <td>C</td>\n",
              "    </tr>\n",
              "    <tr>\n",
              "      <th>890</th>\n",
              "      <td>891</td>\n",
              "      <td>0</td>\n",
              "      <td>3</td>\n",
              "      <td>Dooley, Mr. Patrick</td>\n",
              "      <td>male</td>\n",
              "      <td>32.0</td>\n",
              "      <td>0</td>\n",
              "      <td>0</td>\n",
              "      <td>370376</td>\n",
              "      <td>7.7500</td>\n",
              "      <td>NaN</td>\n",
              "      <td>Q</td>\n",
              "    </tr>\n",
              "  </tbody>\n",
              "</table>\n",
              "</div>\n",
              "      <button class=\"colab-df-convert\" onclick=\"convertToInteractive('df-86fb29d5-138c-4af8-840c-8c6ea2dca676')\"\n",
              "              title=\"Convert this dataframe to an interactive table.\"\n",
              "              style=\"display:none;\">\n",
              "        \n",
              "  <svg xmlns=\"http://www.w3.org/2000/svg\" height=\"24px\"viewBox=\"0 0 24 24\"\n",
              "       width=\"24px\">\n",
              "    <path d=\"M0 0h24v24H0V0z\" fill=\"none\"/>\n",
              "    <path d=\"M18.56 5.44l.94 2.06.94-2.06 2.06-.94-2.06-.94-.94-2.06-.94 2.06-2.06.94zm-11 1L8.5 8.5l.94-2.06 2.06-.94-2.06-.94L8.5 2.5l-.94 2.06-2.06.94zm10 10l.94 2.06.94-2.06 2.06-.94-2.06-.94-.94-2.06-.94 2.06-2.06.94z\"/><path d=\"M17.41 7.96l-1.37-1.37c-.4-.4-.92-.59-1.43-.59-.52 0-1.04.2-1.43.59L10.3 9.45l-7.72 7.72c-.78.78-.78 2.05 0 2.83L4 21.41c.39.39.9.59 1.41.59.51 0 1.02-.2 1.41-.59l7.78-7.78 2.81-2.81c.8-.78.8-2.07 0-2.86zM5.41 20L4 18.59l7.72-7.72 1.47 1.35L5.41 20z\"/>\n",
              "  </svg>\n",
              "      </button>\n",
              "      \n",
              "  <style>\n",
              "    .colab-df-container {\n",
              "      display:flex;\n",
              "      flex-wrap:wrap;\n",
              "      gap: 12px;\n",
              "    }\n",
              "\n",
              "    .colab-df-convert {\n",
              "      background-color: #E8F0FE;\n",
              "      border: none;\n",
              "      border-radius: 50%;\n",
              "      cursor: pointer;\n",
              "      display: none;\n",
              "      fill: #1967D2;\n",
              "      height: 32px;\n",
              "      padding: 0 0 0 0;\n",
              "      width: 32px;\n",
              "    }\n",
              "\n",
              "    .colab-df-convert:hover {\n",
              "      background-color: #E2EBFA;\n",
              "      box-shadow: 0px 1px 2px rgba(60, 64, 67, 0.3), 0px 1px 3px 1px rgba(60, 64, 67, 0.15);\n",
              "      fill: #174EA6;\n",
              "    }\n",
              "\n",
              "    [theme=dark] .colab-df-convert {\n",
              "      background-color: #3B4455;\n",
              "      fill: #D2E3FC;\n",
              "    }\n",
              "\n",
              "    [theme=dark] .colab-df-convert:hover {\n",
              "      background-color: #434B5C;\n",
              "      box-shadow: 0px 1px 3px 1px rgba(0, 0, 0, 0.15);\n",
              "      filter: drop-shadow(0px 1px 2px rgba(0, 0, 0, 0.3));\n",
              "      fill: #FFFFFF;\n",
              "    }\n",
              "  </style>\n",
              "\n",
              "      <script>\n",
              "        const buttonEl =\n",
              "          document.querySelector('#df-86fb29d5-138c-4af8-840c-8c6ea2dca676 button.colab-df-convert');\n",
              "        buttonEl.style.display =\n",
              "          google.colab.kernel.accessAllowed ? 'block' : 'none';\n",
              "\n",
              "        async function convertToInteractive(key) {\n",
              "          const element = document.querySelector('#df-86fb29d5-138c-4af8-840c-8c6ea2dca676');\n",
              "          const dataTable =\n",
              "            await google.colab.kernel.invokeFunction('convertToInteractive',\n",
              "                                                     [key], {});\n",
              "          if (!dataTable) return;\n",
              "\n",
              "          const docLinkHtml = 'Like what you see? Visit the ' +\n",
              "            '<a target=\"_blank\" href=https://colab.research.google.com/notebooks/data_table.ipynb>data table notebook</a>'\n",
              "            + ' to learn more about interactive tables.';\n",
              "          element.innerHTML = '';\n",
              "          dataTable['output_type'] = 'display_data';\n",
              "          await google.colab.output.renderOutput(dataTable, element);\n",
              "          const docLink = document.createElement('div');\n",
              "          docLink.innerHTML = docLinkHtml;\n",
              "          element.appendChild(docLink);\n",
              "        }\n",
              "      </script>\n",
              "    </div>\n",
              "  </div>\n",
              "  "
            ]
          },
          "metadata": {},
          "execution_count": 11
        }
      ]
    },
    {
      "cell_type": "code",
      "source": [
        "records.sample(10)"
      ],
      "metadata": {
        "colab": {
          "base_uri": "https://localhost:8080/",
          "height": 362
        },
        "id": "28fSuPtSXMoC",
        "outputId": "7a67a4e2-db36-4c87-ebc1-3cbf2fd1a5a5"
      },
      "execution_count": null,
      "outputs": [
        {
          "output_type": "execute_result",
          "data": {
            "text/plain": [
              "     PassengerId  Survived  Pclass                             Name     Sex  \\\n",
              "190          191         1       2              Pinsky, Mrs. (Rosa)  female   \n",
              "495          496         0       3            Yousseff, Mr. Gerious    male   \n",
              "93            94         0       3          Dean, Mr. Bertram Frank    male   \n",
              "10            11         1       3  Sandstrom, Miss. Marguerite Rut  female   \n",
              "360          361         0       3               Skoog, Mr. Wilhelm    male   \n",
              "256          257         1       1   Thorne, Mrs. Gertrude Maybelle  female   \n",
              "597          598         0       3              Johnson, Mr. Alfred    male   \n",
              "503          504         0       3   Laitinen, Miss. Kristina Sofia  female   \n",
              "564          565         0       3   Meanwell, Miss. (Marion Ogden)  female   \n",
              "50            51         0       3       Panula, Master. Juha Niilo    male   \n",
              "\n",
              "      Age  SibSp  Parch             Ticket     Fare Cabin Embarked  \n",
              "190  32.0      0      0             234604  13.0000   NaN        S  \n",
              "495   NaN      0      0               2627  14.4583   NaN        C  \n",
              "93   26.0      1      2          C.A. 2315  20.5750   NaN        S  \n",
              "10    4.0      1      1            PP 9549  16.7000    G6        S  \n",
              "360  40.0      1      4             347088  27.9000   NaN        S  \n",
              "256   NaN      0      0           PC 17585  79.2000   NaN        C  \n",
              "597  49.0      0      0               LINE   0.0000   NaN        S  \n",
              "503  37.0      0      0               4135   9.5875   NaN        S  \n",
              "564   NaN      0      0  SOTON/O.Q. 392087   8.0500   NaN        S  \n",
              "50    7.0      4      1            3101295  39.6875   NaN        S  "
            ],
            "text/html": [
              "\n",
              "  <div id=\"df-9dad3bd1-9106-4a95-b961-570a7020c276\">\n",
              "    <div class=\"colab-df-container\">\n",
              "      <div>\n",
              "<style scoped>\n",
              "    .dataframe tbody tr th:only-of-type {\n",
              "        vertical-align: middle;\n",
              "    }\n",
              "\n",
              "    .dataframe tbody tr th {\n",
              "        vertical-align: top;\n",
              "    }\n",
              "\n",
              "    .dataframe thead th {\n",
              "        text-align: right;\n",
              "    }\n",
              "</style>\n",
              "<table border=\"1\" class=\"dataframe\">\n",
              "  <thead>\n",
              "    <tr style=\"text-align: right;\">\n",
              "      <th></th>\n",
              "      <th>PassengerId</th>\n",
              "      <th>Survived</th>\n",
              "      <th>Pclass</th>\n",
              "      <th>Name</th>\n",
              "      <th>Sex</th>\n",
              "      <th>Age</th>\n",
              "      <th>SibSp</th>\n",
              "      <th>Parch</th>\n",
              "      <th>Ticket</th>\n",
              "      <th>Fare</th>\n",
              "      <th>Cabin</th>\n",
              "      <th>Embarked</th>\n",
              "    </tr>\n",
              "  </thead>\n",
              "  <tbody>\n",
              "    <tr>\n",
              "      <th>190</th>\n",
              "      <td>191</td>\n",
              "      <td>1</td>\n",
              "      <td>2</td>\n",
              "      <td>Pinsky, Mrs. (Rosa)</td>\n",
              "      <td>female</td>\n",
              "      <td>32.0</td>\n",
              "      <td>0</td>\n",
              "      <td>0</td>\n",
              "      <td>234604</td>\n",
              "      <td>13.0000</td>\n",
              "      <td>NaN</td>\n",
              "      <td>S</td>\n",
              "    </tr>\n",
              "    <tr>\n",
              "      <th>495</th>\n",
              "      <td>496</td>\n",
              "      <td>0</td>\n",
              "      <td>3</td>\n",
              "      <td>Yousseff, Mr. Gerious</td>\n",
              "      <td>male</td>\n",
              "      <td>NaN</td>\n",
              "      <td>0</td>\n",
              "      <td>0</td>\n",
              "      <td>2627</td>\n",
              "      <td>14.4583</td>\n",
              "      <td>NaN</td>\n",
              "      <td>C</td>\n",
              "    </tr>\n",
              "    <tr>\n",
              "      <th>93</th>\n",
              "      <td>94</td>\n",
              "      <td>0</td>\n",
              "      <td>3</td>\n",
              "      <td>Dean, Mr. Bertram Frank</td>\n",
              "      <td>male</td>\n",
              "      <td>26.0</td>\n",
              "      <td>1</td>\n",
              "      <td>2</td>\n",
              "      <td>C.A. 2315</td>\n",
              "      <td>20.5750</td>\n",
              "      <td>NaN</td>\n",
              "      <td>S</td>\n",
              "    </tr>\n",
              "    <tr>\n",
              "      <th>10</th>\n",
              "      <td>11</td>\n",
              "      <td>1</td>\n",
              "      <td>3</td>\n",
              "      <td>Sandstrom, Miss. Marguerite Rut</td>\n",
              "      <td>female</td>\n",
              "      <td>4.0</td>\n",
              "      <td>1</td>\n",
              "      <td>1</td>\n",
              "      <td>PP 9549</td>\n",
              "      <td>16.7000</td>\n",
              "      <td>G6</td>\n",
              "      <td>S</td>\n",
              "    </tr>\n",
              "    <tr>\n",
              "      <th>360</th>\n",
              "      <td>361</td>\n",
              "      <td>0</td>\n",
              "      <td>3</td>\n",
              "      <td>Skoog, Mr. Wilhelm</td>\n",
              "      <td>male</td>\n",
              "      <td>40.0</td>\n",
              "      <td>1</td>\n",
              "      <td>4</td>\n",
              "      <td>347088</td>\n",
              "      <td>27.9000</td>\n",
              "      <td>NaN</td>\n",
              "      <td>S</td>\n",
              "    </tr>\n",
              "    <tr>\n",
              "      <th>256</th>\n",
              "      <td>257</td>\n",
              "      <td>1</td>\n",
              "      <td>1</td>\n",
              "      <td>Thorne, Mrs. Gertrude Maybelle</td>\n",
              "      <td>female</td>\n",
              "      <td>NaN</td>\n",
              "      <td>0</td>\n",
              "      <td>0</td>\n",
              "      <td>PC 17585</td>\n",
              "      <td>79.2000</td>\n",
              "      <td>NaN</td>\n",
              "      <td>C</td>\n",
              "    </tr>\n",
              "    <tr>\n",
              "      <th>597</th>\n",
              "      <td>598</td>\n",
              "      <td>0</td>\n",
              "      <td>3</td>\n",
              "      <td>Johnson, Mr. Alfred</td>\n",
              "      <td>male</td>\n",
              "      <td>49.0</td>\n",
              "      <td>0</td>\n",
              "      <td>0</td>\n",
              "      <td>LINE</td>\n",
              "      <td>0.0000</td>\n",
              "      <td>NaN</td>\n",
              "      <td>S</td>\n",
              "    </tr>\n",
              "    <tr>\n",
              "      <th>503</th>\n",
              "      <td>504</td>\n",
              "      <td>0</td>\n",
              "      <td>3</td>\n",
              "      <td>Laitinen, Miss. Kristina Sofia</td>\n",
              "      <td>female</td>\n",
              "      <td>37.0</td>\n",
              "      <td>0</td>\n",
              "      <td>0</td>\n",
              "      <td>4135</td>\n",
              "      <td>9.5875</td>\n",
              "      <td>NaN</td>\n",
              "      <td>S</td>\n",
              "    </tr>\n",
              "    <tr>\n",
              "      <th>564</th>\n",
              "      <td>565</td>\n",
              "      <td>0</td>\n",
              "      <td>3</td>\n",
              "      <td>Meanwell, Miss. (Marion Ogden)</td>\n",
              "      <td>female</td>\n",
              "      <td>NaN</td>\n",
              "      <td>0</td>\n",
              "      <td>0</td>\n",
              "      <td>SOTON/O.Q. 392087</td>\n",
              "      <td>8.0500</td>\n",
              "      <td>NaN</td>\n",
              "      <td>S</td>\n",
              "    </tr>\n",
              "    <tr>\n",
              "      <th>50</th>\n",
              "      <td>51</td>\n",
              "      <td>0</td>\n",
              "      <td>3</td>\n",
              "      <td>Panula, Master. Juha Niilo</td>\n",
              "      <td>male</td>\n",
              "      <td>7.0</td>\n",
              "      <td>4</td>\n",
              "      <td>1</td>\n",
              "      <td>3101295</td>\n",
              "      <td>39.6875</td>\n",
              "      <td>NaN</td>\n",
              "      <td>S</td>\n",
              "    </tr>\n",
              "  </tbody>\n",
              "</table>\n",
              "</div>\n",
              "      <button class=\"colab-df-convert\" onclick=\"convertToInteractive('df-9dad3bd1-9106-4a95-b961-570a7020c276')\"\n",
              "              title=\"Convert this dataframe to an interactive table.\"\n",
              "              style=\"display:none;\">\n",
              "        \n",
              "  <svg xmlns=\"http://www.w3.org/2000/svg\" height=\"24px\"viewBox=\"0 0 24 24\"\n",
              "       width=\"24px\">\n",
              "    <path d=\"M0 0h24v24H0V0z\" fill=\"none\"/>\n",
              "    <path d=\"M18.56 5.44l.94 2.06.94-2.06 2.06-.94-2.06-.94-.94-2.06-.94 2.06-2.06.94zm-11 1L8.5 8.5l.94-2.06 2.06-.94-2.06-.94L8.5 2.5l-.94 2.06-2.06.94zm10 10l.94 2.06.94-2.06 2.06-.94-2.06-.94-.94-2.06-.94 2.06-2.06.94z\"/><path d=\"M17.41 7.96l-1.37-1.37c-.4-.4-.92-.59-1.43-.59-.52 0-1.04.2-1.43.59L10.3 9.45l-7.72 7.72c-.78.78-.78 2.05 0 2.83L4 21.41c.39.39.9.59 1.41.59.51 0 1.02-.2 1.41-.59l7.78-7.78 2.81-2.81c.8-.78.8-2.07 0-2.86zM5.41 20L4 18.59l7.72-7.72 1.47 1.35L5.41 20z\"/>\n",
              "  </svg>\n",
              "      </button>\n",
              "      \n",
              "  <style>\n",
              "    .colab-df-container {\n",
              "      display:flex;\n",
              "      flex-wrap:wrap;\n",
              "      gap: 12px;\n",
              "    }\n",
              "\n",
              "    .colab-df-convert {\n",
              "      background-color: #E8F0FE;\n",
              "      border: none;\n",
              "      border-radius: 50%;\n",
              "      cursor: pointer;\n",
              "      display: none;\n",
              "      fill: #1967D2;\n",
              "      height: 32px;\n",
              "      padding: 0 0 0 0;\n",
              "      width: 32px;\n",
              "    }\n",
              "\n",
              "    .colab-df-convert:hover {\n",
              "      background-color: #E2EBFA;\n",
              "      box-shadow: 0px 1px 2px rgba(60, 64, 67, 0.3), 0px 1px 3px 1px rgba(60, 64, 67, 0.15);\n",
              "      fill: #174EA6;\n",
              "    }\n",
              "\n",
              "    [theme=dark] .colab-df-convert {\n",
              "      background-color: #3B4455;\n",
              "      fill: #D2E3FC;\n",
              "    }\n",
              "\n",
              "    [theme=dark] .colab-df-convert:hover {\n",
              "      background-color: #434B5C;\n",
              "      box-shadow: 0px 1px 3px 1px rgba(0, 0, 0, 0.15);\n",
              "      filter: drop-shadow(0px 1px 2px rgba(0, 0, 0, 0.3));\n",
              "      fill: #FFFFFF;\n",
              "    }\n",
              "  </style>\n",
              "\n",
              "      <script>\n",
              "        const buttonEl =\n",
              "          document.querySelector('#df-9dad3bd1-9106-4a95-b961-570a7020c276 button.colab-df-convert');\n",
              "        buttonEl.style.display =\n",
              "          google.colab.kernel.accessAllowed ? 'block' : 'none';\n",
              "\n",
              "        async function convertToInteractive(key) {\n",
              "          const element = document.querySelector('#df-9dad3bd1-9106-4a95-b961-570a7020c276');\n",
              "          const dataTable =\n",
              "            await google.colab.kernel.invokeFunction('convertToInteractive',\n",
              "                                                     [key], {});\n",
              "          if (!dataTable) return;\n",
              "\n",
              "          const docLinkHtml = 'Like what you see? Visit the ' +\n",
              "            '<a target=\"_blank\" href=https://colab.research.google.com/notebooks/data_table.ipynb>data table notebook</a>'\n",
              "            + ' to learn more about interactive tables.';\n",
              "          element.innerHTML = '';\n",
              "          dataTable['output_type'] = 'display_data';\n",
              "          await google.colab.output.renderOutput(dataTable, element);\n",
              "          const docLink = document.createElement('div');\n",
              "          docLink.innerHTML = docLinkHtml;\n",
              "          element.appendChild(docLink);\n",
              "        }\n",
              "      </script>\n",
              "    </div>\n",
              "  </div>\n",
              "  "
            ]
          },
          "metadata": {},
          "execution_count": 12
        }
      ]
    },
    {
      "cell_type": "code",
      "source": [
        "print(records[['Survived','Sex']])"
      ],
      "metadata": {
        "colab": {
          "base_uri": "https://localhost:8080/"
        },
        "id": "jkvzSMuDPNVv",
        "outputId": "1c4b0490-1b12-4fee-c534-ce5b3b4d51f8"
      },
      "execution_count": null,
      "outputs": [
        {
          "output_type": "stream",
          "name": "stdout",
          "text": [
            "     Survived     Sex\n",
            "0           0    male\n",
            "1           1  female\n",
            "2           1  female\n",
            "3           1  female\n",
            "4           0    male\n",
            "..        ...     ...\n",
            "886         0    male\n",
            "887         1  female\n",
            "888         0  female\n",
            "889         1    male\n",
            "890         0    male\n",
            "\n",
            "[891 rows x 2 columns]\n"
          ]
        }
      ]
    },
    {
      "cell_type": "code",
      "source": [
        "print(records.iloc[2,:])"
      ],
      "metadata": {
        "colab": {
          "base_uri": "https://localhost:8080/"
        },
        "id": "Bdwqs6YyPcX_",
        "outputId": "d3e74c3f-0c2d-41ab-e9d4-513d022cc907"
      },
      "execution_count": null,
      "outputs": [
        {
          "output_type": "stream",
          "name": "stdout",
          "text": [
            "PassengerId                         3\n",
            "Survived                            1\n",
            "Pclass                              3\n",
            "Name           Heikkinen, Miss. Laina\n",
            "Sex                            female\n",
            "Age                              26.0\n",
            "SibSp                               0\n",
            "Parch                               0\n",
            "Ticket               STON/O2. 3101282\n",
            "Fare                            7.925\n",
            "Cabin                             NaN\n",
            "Embarked                            S\n",
            "Name: 2, dtype: object\n"
          ]
        }
      ]
    },
    {
      "cell_type": "markdown",
      "source": [
        "**Homework**\n",
        "\n",
        "1.   Revise the above exerices and challenge yourself with addtional tasks\n",
        "2.   Download another dataset and explore\n",
        "https://datacarpentry.org/python-ecology-lesson/02-starting-with-data/index.html\n",
        "\n",
        "\n"
      ],
      "metadata": {
        "id": "OhJjcNMd7th6"
      }
    },
    {
      "cell_type": "markdown",
      "source": [
        "# Hands on [Melbourne Housing Market](https://www.kaggle.com/datasets/anthonypino/melbourne-housing-market)"
      ],
      "metadata": {
        "id": "Ct9HIiXMkYez"
      }
    },
    {
      "cell_type": "code",
      "source": [
        "!pip install squarify"
      ],
      "metadata": {
        "id": "m0qGNGcVGvIz"
      },
      "execution_count": null,
      "outputs": []
    },
    {
      "cell_type": "code",
      "source": [
        "import pandas as pd\n",
        "import matplotlib.pyplot as plt\n",
        "import squarify\n",
        "import plotly.graph_objs as go\n",
        "from plotly.offline import init_notebook_mode, iplot\n",
        "init_notebook_mode(connected=True)\n"
      ],
      "metadata": {
        "colab": {
          "base_uri": "https://localhost:8080/",
          "height": 17
        },
        "id": "-O-NAexglOyC",
        "outputId": "bf2d720e-2b47-4a12-bb5c-89908975bb1b"
      },
      "execution_count": 4,
      "outputs": [
        {
          "output_type": "display_data",
          "data": {
            "text/html": [
              "<script>requirejs.config({paths: { 'plotly': ['https://cdn.plot.ly/plotly-latest.min']},});if(!window.Plotly) {{require(['plotly'],function(plotly) {window.Plotly=plotly;});}}</script>"
            ],
            "text/vnd.plotly.v1+html": "<script>requirejs.config({paths: { 'plotly': ['https://cdn.plot.ly/plotly-latest.min']},});if(!window.Plotly) {{require(['plotly'],function(plotly) {window.Plotly=plotly;});}}</script>"
          },
          "metadata": {}
        }
      ]
    },
    {
      "cell_type": "code",
      "source": [
        "url = 'https://raw.githubusercontent.com/thwc/MIS710-T12023/main/Week%201/MELBOURNE_HOUSE_PRICES_LESS.csv'\n",
        "url_full = 'https://raw.githubusercontent.com/thwc/MIS710-T12023/main/Week%201/Melbourne_housing_FULL.csv'"
      ],
      "metadata": {
        "id": "_mrojZR_lar7"
      },
      "execution_count": 5,
      "outputs": []
    },
    {
      "cell_type": "code",
      "source": [
        "sales = pd.read_csv(url_full)"
      ],
      "metadata": {
        "id": "e1IjQWSelSld"
      },
      "execution_count": 6,
      "outputs": []
    },
    {
      "cell_type": "markdown",
      "source": [
        "## Data at a glance"
      ],
      "metadata": {
        "id": "rXvv7O_k1s_X"
      }
    },
    {
      "cell_type": "code",
      "source": [
        "sales.head()"
      ],
      "metadata": {
        "colab": {
          "base_uri": "https://localhost:8080/",
          "height": 421
        },
        "id": "K-qJX0DDpc34",
        "outputId": "72d1344b-582a-4d8e-9eb6-7cab3172a89d"
      },
      "execution_count": 40,
      "outputs": [
        {
          "output_type": "stream",
          "name": "stdout",
          "text": [
            "Warning: Total number of columns (21) exceeds max_columns (20). Falling back to pandas display.\n"
          ]
        },
        {
          "output_type": "execute_result",
          "data": {
            "text/plain": [
              "       Suburb             Address  Rooms Type      Price Method SellerG  \\\n",
              "0  Abbotsford       68 Studley St      2    h        NaN     SS  Jellis   \n",
              "1  Abbotsford        85 Turner St      2    h  1480000.0      S  Biggin   \n",
              "2  Abbotsford     25 Bloomburg St      2    h  1035000.0      S  Biggin   \n",
              "3  Abbotsford  18/659 Victoria St      3    u        NaN     VB  Rounds   \n",
              "4  Abbotsford        5 Charles St      3    h  1465000.0     SP  Biggin   \n",
              "\n",
              "        Date  Distance  Postcode  ...  Bathroom  Car  Landsize  BuildingArea  \\\n",
              "0  3/09/2016       2.5    3067.0  ...       1.0  1.0     126.0           NaN   \n",
              "1  3/12/2016       2.5    3067.0  ...       1.0  1.0     202.0           NaN   \n",
              "2  4/02/2016       2.5    3067.0  ...       1.0  0.0     156.0          79.0   \n",
              "3  4/02/2016       2.5    3067.0  ...       2.0  1.0       0.0           NaN   \n",
              "4  4/03/2017       2.5    3067.0  ...       2.0  0.0     134.0         150.0   \n",
              "\n",
              "   YearBuilt         CouncilArea Lattitude  Longtitude             Regionname  \\\n",
              "0        NaN  Yarra City Council  -37.8014    144.9958  Northern Metropolitan   \n",
              "1        NaN  Yarra City Council  -37.7996    144.9984  Northern Metropolitan   \n",
              "2     1900.0  Yarra City Council  -37.8079    144.9934  Northern Metropolitan   \n",
              "3        NaN  Yarra City Council  -37.8114    145.0116  Northern Metropolitan   \n",
              "4     1900.0  Yarra City Council  -37.8093    144.9944  Northern Metropolitan   \n",
              "\n",
              "  Propertycount  \n",
              "0        4019.0  \n",
              "1        4019.0  \n",
              "2        4019.0  \n",
              "3        4019.0  \n",
              "4        4019.0  \n",
              "\n",
              "[5 rows x 21 columns]"
            ],
            "text/html": [
              "\n",
              "  <div id=\"df-21495e6a-db5a-4da6-bf7a-10f20acc1934\">\n",
              "    <div class=\"colab-df-container\">\n",
              "      <div>\n",
              "<style scoped>\n",
              "    .dataframe tbody tr th:only-of-type {\n",
              "        vertical-align: middle;\n",
              "    }\n",
              "\n",
              "    .dataframe tbody tr th {\n",
              "        vertical-align: top;\n",
              "    }\n",
              "\n",
              "    .dataframe thead th {\n",
              "        text-align: right;\n",
              "    }\n",
              "</style>\n",
              "<table border=\"1\" class=\"dataframe\">\n",
              "  <thead>\n",
              "    <tr style=\"text-align: right;\">\n",
              "      <th></th>\n",
              "      <th>Suburb</th>\n",
              "      <th>Address</th>\n",
              "      <th>Rooms</th>\n",
              "      <th>Type</th>\n",
              "      <th>Price</th>\n",
              "      <th>Method</th>\n",
              "      <th>SellerG</th>\n",
              "      <th>Date</th>\n",
              "      <th>Distance</th>\n",
              "      <th>Postcode</th>\n",
              "      <th>...</th>\n",
              "      <th>Bathroom</th>\n",
              "      <th>Car</th>\n",
              "      <th>Landsize</th>\n",
              "      <th>BuildingArea</th>\n",
              "      <th>YearBuilt</th>\n",
              "      <th>CouncilArea</th>\n",
              "      <th>Lattitude</th>\n",
              "      <th>Longtitude</th>\n",
              "      <th>Regionname</th>\n",
              "      <th>Propertycount</th>\n",
              "    </tr>\n",
              "  </thead>\n",
              "  <tbody>\n",
              "    <tr>\n",
              "      <th>0</th>\n",
              "      <td>Abbotsford</td>\n",
              "      <td>68 Studley St</td>\n",
              "      <td>2</td>\n",
              "      <td>h</td>\n",
              "      <td>NaN</td>\n",
              "      <td>SS</td>\n",
              "      <td>Jellis</td>\n",
              "      <td>3/09/2016</td>\n",
              "      <td>2.5</td>\n",
              "      <td>3067.0</td>\n",
              "      <td>...</td>\n",
              "      <td>1.0</td>\n",
              "      <td>1.0</td>\n",
              "      <td>126.0</td>\n",
              "      <td>NaN</td>\n",
              "      <td>NaN</td>\n",
              "      <td>Yarra City Council</td>\n",
              "      <td>-37.8014</td>\n",
              "      <td>144.9958</td>\n",
              "      <td>Northern Metropolitan</td>\n",
              "      <td>4019.0</td>\n",
              "    </tr>\n",
              "    <tr>\n",
              "      <th>1</th>\n",
              "      <td>Abbotsford</td>\n",
              "      <td>85 Turner St</td>\n",
              "      <td>2</td>\n",
              "      <td>h</td>\n",
              "      <td>1480000.0</td>\n",
              "      <td>S</td>\n",
              "      <td>Biggin</td>\n",
              "      <td>3/12/2016</td>\n",
              "      <td>2.5</td>\n",
              "      <td>3067.0</td>\n",
              "      <td>...</td>\n",
              "      <td>1.0</td>\n",
              "      <td>1.0</td>\n",
              "      <td>202.0</td>\n",
              "      <td>NaN</td>\n",
              "      <td>NaN</td>\n",
              "      <td>Yarra City Council</td>\n",
              "      <td>-37.7996</td>\n",
              "      <td>144.9984</td>\n",
              "      <td>Northern Metropolitan</td>\n",
              "      <td>4019.0</td>\n",
              "    </tr>\n",
              "    <tr>\n",
              "      <th>2</th>\n",
              "      <td>Abbotsford</td>\n",
              "      <td>25 Bloomburg St</td>\n",
              "      <td>2</td>\n",
              "      <td>h</td>\n",
              "      <td>1035000.0</td>\n",
              "      <td>S</td>\n",
              "      <td>Biggin</td>\n",
              "      <td>4/02/2016</td>\n",
              "      <td>2.5</td>\n",
              "      <td>3067.0</td>\n",
              "      <td>...</td>\n",
              "      <td>1.0</td>\n",
              "      <td>0.0</td>\n",
              "      <td>156.0</td>\n",
              "      <td>79.0</td>\n",
              "      <td>1900.0</td>\n",
              "      <td>Yarra City Council</td>\n",
              "      <td>-37.8079</td>\n",
              "      <td>144.9934</td>\n",
              "      <td>Northern Metropolitan</td>\n",
              "      <td>4019.0</td>\n",
              "    </tr>\n",
              "    <tr>\n",
              "      <th>3</th>\n",
              "      <td>Abbotsford</td>\n",
              "      <td>18/659 Victoria St</td>\n",
              "      <td>3</td>\n",
              "      <td>u</td>\n",
              "      <td>NaN</td>\n",
              "      <td>VB</td>\n",
              "      <td>Rounds</td>\n",
              "      <td>4/02/2016</td>\n",
              "      <td>2.5</td>\n",
              "      <td>3067.0</td>\n",
              "      <td>...</td>\n",
              "      <td>2.0</td>\n",
              "      <td>1.0</td>\n",
              "      <td>0.0</td>\n",
              "      <td>NaN</td>\n",
              "      <td>NaN</td>\n",
              "      <td>Yarra City Council</td>\n",
              "      <td>-37.8114</td>\n",
              "      <td>145.0116</td>\n",
              "      <td>Northern Metropolitan</td>\n",
              "      <td>4019.0</td>\n",
              "    </tr>\n",
              "    <tr>\n",
              "      <th>4</th>\n",
              "      <td>Abbotsford</td>\n",
              "      <td>5 Charles St</td>\n",
              "      <td>3</td>\n",
              "      <td>h</td>\n",
              "      <td>1465000.0</td>\n",
              "      <td>SP</td>\n",
              "      <td>Biggin</td>\n",
              "      <td>4/03/2017</td>\n",
              "      <td>2.5</td>\n",
              "      <td>3067.0</td>\n",
              "      <td>...</td>\n",
              "      <td>2.0</td>\n",
              "      <td>0.0</td>\n",
              "      <td>134.0</td>\n",
              "      <td>150.0</td>\n",
              "      <td>1900.0</td>\n",
              "      <td>Yarra City Council</td>\n",
              "      <td>-37.8093</td>\n",
              "      <td>144.9944</td>\n",
              "      <td>Northern Metropolitan</td>\n",
              "      <td>4019.0</td>\n",
              "    </tr>\n",
              "  </tbody>\n",
              "</table>\n",
              "<p>5 rows × 21 columns</p>\n",
              "</div>\n",
              "      <button class=\"colab-df-convert\" onclick=\"convertToInteractive('df-21495e6a-db5a-4da6-bf7a-10f20acc1934')\"\n",
              "              title=\"Convert this dataframe to an interactive table.\"\n",
              "              style=\"display:none;\">\n",
              "        \n",
              "  <svg xmlns=\"http://www.w3.org/2000/svg\" height=\"24px\"viewBox=\"0 0 24 24\"\n",
              "       width=\"24px\">\n",
              "    <path d=\"M0 0h24v24H0V0z\" fill=\"none\"/>\n",
              "    <path d=\"M18.56 5.44l.94 2.06.94-2.06 2.06-.94-2.06-.94-.94-2.06-.94 2.06-2.06.94zm-11 1L8.5 8.5l.94-2.06 2.06-.94-2.06-.94L8.5 2.5l-.94 2.06-2.06.94zm10 10l.94 2.06.94-2.06 2.06-.94-2.06-.94-.94-2.06-.94 2.06-2.06.94z\"/><path d=\"M17.41 7.96l-1.37-1.37c-.4-.4-.92-.59-1.43-.59-.52 0-1.04.2-1.43.59L10.3 9.45l-7.72 7.72c-.78.78-.78 2.05 0 2.83L4 21.41c.39.39.9.59 1.41.59.51 0 1.02-.2 1.41-.59l7.78-7.78 2.81-2.81c.8-.78.8-2.07 0-2.86zM5.41 20L4 18.59l7.72-7.72 1.47 1.35L5.41 20z\"/>\n",
              "  </svg>\n",
              "      </button>\n",
              "      \n",
              "  <style>\n",
              "    .colab-df-container {\n",
              "      display:flex;\n",
              "      flex-wrap:wrap;\n",
              "      gap: 12px;\n",
              "    }\n",
              "\n",
              "    .colab-df-convert {\n",
              "      background-color: #E8F0FE;\n",
              "      border: none;\n",
              "      border-radius: 50%;\n",
              "      cursor: pointer;\n",
              "      display: none;\n",
              "      fill: #1967D2;\n",
              "      height: 32px;\n",
              "      padding: 0 0 0 0;\n",
              "      width: 32px;\n",
              "    }\n",
              "\n",
              "    .colab-df-convert:hover {\n",
              "      background-color: #E2EBFA;\n",
              "      box-shadow: 0px 1px 2px rgba(60, 64, 67, 0.3), 0px 1px 3px 1px rgba(60, 64, 67, 0.15);\n",
              "      fill: #174EA6;\n",
              "    }\n",
              "\n",
              "    [theme=dark] .colab-df-convert {\n",
              "      background-color: #3B4455;\n",
              "      fill: #D2E3FC;\n",
              "    }\n",
              "\n",
              "    [theme=dark] .colab-df-convert:hover {\n",
              "      background-color: #434B5C;\n",
              "      box-shadow: 0px 1px 3px 1px rgba(0, 0, 0, 0.15);\n",
              "      filter: drop-shadow(0px 1px 2px rgba(0, 0, 0, 0.3));\n",
              "      fill: #FFFFFF;\n",
              "    }\n",
              "  </style>\n",
              "\n",
              "      <script>\n",
              "        const buttonEl =\n",
              "          document.querySelector('#df-21495e6a-db5a-4da6-bf7a-10f20acc1934 button.colab-df-convert');\n",
              "        buttonEl.style.display =\n",
              "          google.colab.kernel.accessAllowed ? 'block' : 'none';\n",
              "\n",
              "        async function convertToInteractive(key) {\n",
              "          const element = document.querySelector('#df-21495e6a-db5a-4da6-bf7a-10f20acc1934');\n",
              "          const dataTable =\n",
              "            await google.colab.kernel.invokeFunction('convertToInteractive',\n",
              "                                                     [key], {});\n",
              "          if (!dataTable) return;\n",
              "\n",
              "          const docLinkHtml = 'Like what you see? Visit the ' +\n",
              "            '<a target=\"_blank\" href=https://colab.research.google.com/notebooks/data_table.ipynb>data table notebook</a>'\n",
              "            + ' to learn more about interactive tables.';\n",
              "          element.innerHTML = '';\n",
              "          dataTable['output_type'] = 'display_data';\n",
              "          await google.colab.output.renderOutput(dataTable, element);\n",
              "          const docLink = document.createElement('div');\n",
              "          docLink.innerHTML = docLinkHtml;\n",
              "          element.appendChild(docLink);\n",
              "        }\n",
              "      </script>\n",
              "    </div>\n",
              "  </div>\n",
              "  "
            ]
          },
          "metadata": {},
          "execution_count": 40
        }
      ]
    },
    {
      "cell_type": "code",
      "source": [
        "sales.shape"
      ],
      "metadata": {
        "colab": {
          "base_uri": "https://localhost:8080/"
        },
        "id": "HLdoIJbOp0VI",
        "outputId": "97df5f8e-c29a-4dc5-d178-a17c193dac7a"
      },
      "execution_count": 77,
      "outputs": [
        {
          "output_type": "execute_result",
          "data": {
            "text/plain": [
              "(34857, 21)"
            ]
          },
          "metadata": {},
          "execution_count": 77
        }
      ]
    },
    {
      "cell_type": "code",
      "source": [
        "sales.info()"
      ],
      "metadata": {
        "colab": {
          "base_uri": "https://localhost:8080/"
        },
        "id": "A-du306xxI1Z",
        "outputId": "f1c3c910-7fc8-4f54-a5ec-0563ff6035a0"
      },
      "execution_count": 43,
      "outputs": [
        {
          "output_type": "stream",
          "name": "stdout",
          "text": [
            "<class 'pandas.core.frame.DataFrame'>\n",
            "RangeIndex: 34857 entries, 0 to 34856\n",
            "Data columns (total 21 columns):\n",
            " #   Column         Non-Null Count  Dtype  \n",
            "---  ------         --------------  -----  \n",
            " 0   Suburb         34857 non-null  object \n",
            " 1   Address        34857 non-null  object \n",
            " 2   Rooms          34857 non-null  int64  \n",
            " 3   Type           34857 non-null  object \n",
            " 4   Price          27247 non-null  float64\n",
            " 5   Method         34857 non-null  object \n",
            " 6   SellerG        34857 non-null  object \n",
            " 7   Date           34857 non-null  object \n",
            " 8   Distance       34856 non-null  float64\n",
            " 9   Postcode       34856 non-null  float64\n",
            " 10  Bedroom2       26640 non-null  float64\n",
            " 11  Bathroom       26631 non-null  float64\n",
            " 12  Car            26129 non-null  float64\n",
            " 13  Landsize       23047 non-null  float64\n",
            " 14  BuildingArea   13742 non-null  float64\n",
            " 15  YearBuilt      15551 non-null  float64\n",
            " 16  CouncilArea    34854 non-null  object \n",
            " 17  Lattitude      26881 non-null  float64\n",
            " 18  Longtitude     26881 non-null  float64\n",
            " 19  Regionname     34854 non-null  object \n",
            " 20  Propertycount  34854 non-null  float64\n",
            "dtypes: float64(12), int64(1), object(8)\n",
            "memory usage: 5.6+ MB\n"
          ]
        }
      ]
    },
    {
      "cell_type": "code",
      "source": [
        "sales.describe()"
      ],
      "metadata": {
        "colab": {
          "base_uri": "https://localhost:8080/",
          "height": 271
        },
        "id": "Wvzu6bGExL51",
        "outputId": "620f9b11-1f40-4e98-d1fa-47d4c32aeb87"
      },
      "execution_count": 44,
      "outputs": [
        {
          "output_type": "execute_result",
          "data": {
            "text/plain": [
              "              Rooms         Price      Distance      Postcode      Bedroom2  \\\n",
              "count  34857.000000  2.724700e+04  34856.000000  34856.000000  26640.000000   \n",
              "mean       3.031012  1.050173e+06     11.184929   3116.062859      3.084647   \n",
              "std        0.969933  6.414671e+05      6.788892    109.023903      0.980690   \n",
              "min        1.000000  8.500000e+04      0.000000   3000.000000      0.000000   \n",
              "25%        2.000000  6.350000e+05      6.400000   3051.000000      2.000000   \n",
              "50%        3.000000  8.700000e+05     10.300000   3103.000000      3.000000   \n",
              "75%        4.000000  1.295000e+06     14.000000   3156.000000      4.000000   \n",
              "max       16.000000  1.120000e+07     48.100000   3978.000000     30.000000   \n",
              "\n",
              "           Bathroom           Car       Landsize  BuildingArea     YearBuilt  \\\n",
              "count  26631.000000  26129.000000   23047.000000   13742.00000  15551.000000   \n",
              "mean       1.624798      1.728845     593.598993     160.25640   1965.289885   \n",
              "std        0.724212      1.010771    3398.841946     401.26706     37.328178   \n",
              "min        0.000000      0.000000       0.000000       0.00000   1196.000000   \n",
              "25%        1.000000      1.000000     224.000000     102.00000   1940.000000   \n",
              "50%        2.000000      2.000000     521.000000     136.00000   1970.000000   \n",
              "75%        2.000000      2.000000     670.000000     188.00000   2000.000000   \n",
              "max       12.000000     26.000000  433014.000000   44515.00000   2106.000000   \n",
              "\n",
              "          Lattitude    Longtitude  Propertycount  \n",
              "count  26881.000000  26881.000000   34854.000000  \n",
              "mean     -37.810634    145.001851    7572.888306  \n",
              "std        0.090279      0.120169    4428.090313  \n",
              "min      -38.190430    144.423790      83.000000  \n",
              "25%      -37.862950    144.933500    4385.000000  \n",
              "50%      -37.807600    145.007800    6763.000000  \n",
              "75%      -37.754100    145.071900   10412.000000  \n",
              "max      -37.390200    145.526350   21650.000000  "
            ],
            "text/html": [
              "\n",
              "  <div id=\"df-3287f64f-1944-441f-8833-e2e09f2e5633\">\n",
              "    <div class=\"colab-df-container\">\n",
              "      <div>\n",
              "<style scoped>\n",
              "    .dataframe tbody tr th:only-of-type {\n",
              "        vertical-align: middle;\n",
              "    }\n",
              "\n",
              "    .dataframe tbody tr th {\n",
              "        vertical-align: top;\n",
              "    }\n",
              "\n",
              "    .dataframe thead th {\n",
              "        text-align: right;\n",
              "    }\n",
              "</style>\n",
              "<table border=\"1\" class=\"dataframe\">\n",
              "  <thead>\n",
              "    <tr style=\"text-align: right;\">\n",
              "      <th></th>\n",
              "      <th>Rooms</th>\n",
              "      <th>Price</th>\n",
              "      <th>Distance</th>\n",
              "      <th>Postcode</th>\n",
              "      <th>Bedroom2</th>\n",
              "      <th>Bathroom</th>\n",
              "      <th>Car</th>\n",
              "      <th>Landsize</th>\n",
              "      <th>BuildingArea</th>\n",
              "      <th>YearBuilt</th>\n",
              "      <th>Lattitude</th>\n",
              "      <th>Longtitude</th>\n",
              "      <th>Propertycount</th>\n",
              "    </tr>\n",
              "  </thead>\n",
              "  <tbody>\n",
              "    <tr>\n",
              "      <th>count</th>\n",
              "      <td>34857.000000</td>\n",
              "      <td>2.724700e+04</td>\n",
              "      <td>34856.000000</td>\n",
              "      <td>34856.000000</td>\n",
              "      <td>26640.000000</td>\n",
              "      <td>26631.000000</td>\n",
              "      <td>26129.000000</td>\n",
              "      <td>23047.000000</td>\n",
              "      <td>13742.00000</td>\n",
              "      <td>15551.000000</td>\n",
              "      <td>26881.000000</td>\n",
              "      <td>26881.000000</td>\n",
              "      <td>34854.000000</td>\n",
              "    </tr>\n",
              "    <tr>\n",
              "      <th>mean</th>\n",
              "      <td>3.031012</td>\n",
              "      <td>1.050173e+06</td>\n",
              "      <td>11.184929</td>\n",
              "      <td>3116.062859</td>\n",
              "      <td>3.084647</td>\n",
              "      <td>1.624798</td>\n",
              "      <td>1.728845</td>\n",
              "      <td>593.598993</td>\n",
              "      <td>160.25640</td>\n",
              "      <td>1965.289885</td>\n",
              "      <td>-37.810634</td>\n",
              "      <td>145.001851</td>\n",
              "      <td>7572.888306</td>\n",
              "    </tr>\n",
              "    <tr>\n",
              "      <th>std</th>\n",
              "      <td>0.969933</td>\n",
              "      <td>6.414671e+05</td>\n",
              "      <td>6.788892</td>\n",
              "      <td>109.023903</td>\n",
              "      <td>0.980690</td>\n",
              "      <td>0.724212</td>\n",
              "      <td>1.010771</td>\n",
              "      <td>3398.841946</td>\n",
              "      <td>401.26706</td>\n",
              "      <td>37.328178</td>\n",
              "      <td>0.090279</td>\n",
              "      <td>0.120169</td>\n",
              "      <td>4428.090313</td>\n",
              "    </tr>\n",
              "    <tr>\n",
              "      <th>min</th>\n",
              "      <td>1.000000</td>\n",
              "      <td>8.500000e+04</td>\n",
              "      <td>0.000000</td>\n",
              "      <td>3000.000000</td>\n",
              "      <td>0.000000</td>\n",
              "      <td>0.000000</td>\n",
              "      <td>0.000000</td>\n",
              "      <td>0.000000</td>\n",
              "      <td>0.00000</td>\n",
              "      <td>1196.000000</td>\n",
              "      <td>-38.190430</td>\n",
              "      <td>144.423790</td>\n",
              "      <td>83.000000</td>\n",
              "    </tr>\n",
              "    <tr>\n",
              "      <th>25%</th>\n",
              "      <td>2.000000</td>\n",
              "      <td>6.350000e+05</td>\n",
              "      <td>6.400000</td>\n",
              "      <td>3051.000000</td>\n",
              "      <td>2.000000</td>\n",
              "      <td>1.000000</td>\n",
              "      <td>1.000000</td>\n",
              "      <td>224.000000</td>\n",
              "      <td>102.00000</td>\n",
              "      <td>1940.000000</td>\n",
              "      <td>-37.862950</td>\n",
              "      <td>144.933500</td>\n",
              "      <td>4385.000000</td>\n",
              "    </tr>\n",
              "    <tr>\n",
              "      <th>50%</th>\n",
              "      <td>3.000000</td>\n",
              "      <td>8.700000e+05</td>\n",
              "      <td>10.300000</td>\n",
              "      <td>3103.000000</td>\n",
              "      <td>3.000000</td>\n",
              "      <td>2.000000</td>\n",
              "      <td>2.000000</td>\n",
              "      <td>521.000000</td>\n",
              "      <td>136.00000</td>\n",
              "      <td>1970.000000</td>\n",
              "      <td>-37.807600</td>\n",
              "      <td>145.007800</td>\n",
              "      <td>6763.000000</td>\n",
              "    </tr>\n",
              "    <tr>\n",
              "      <th>75%</th>\n",
              "      <td>4.000000</td>\n",
              "      <td>1.295000e+06</td>\n",
              "      <td>14.000000</td>\n",
              "      <td>3156.000000</td>\n",
              "      <td>4.000000</td>\n",
              "      <td>2.000000</td>\n",
              "      <td>2.000000</td>\n",
              "      <td>670.000000</td>\n",
              "      <td>188.00000</td>\n",
              "      <td>2000.000000</td>\n",
              "      <td>-37.754100</td>\n",
              "      <td>145.071900</td>\n",
              "      <td>10412.000000</td>\n",
              "    </tr>\n",
              "    <tr>\n",
              "      <th>max</th>\n",
              "      <td>16.000000</td>\n",
              "      <td>1.120000e+07</td>\n",
              "      <td>48.100000</td>\n",
              "      <td>3978.000000</td>\n",
              "      <td>30.000000</td>\n",
              "      <td>12.000000</td>\n",
              "      <td>26.000000</td>\n",
              "      <td>433014.000000</td>\n",
              "      <td>44515.00000</td>\n",
              "      <td>2106.000000</td>\n",
              "      <td>-37.390200</td>\n",
              "      <td>145.526350</td>\n",
              "      <td>21650.000000</td>\n",
              "    </tr>\n",
              "  </tbody>\n",
              "</table>\n",
              "</div>\n",
              "      <button class=\"colab-df-convert\" onclick=\"convertToInteractive('df-3287f64f-1944-441f-8833-e2e09f2e5633')\"\n",
              "              title=\"Convert this dataframe to an interactive table.\"\n",
              "              style=\"display:none;\">\n",
              "        \n",
              "  <svg xmlns=\"http://www.w3.org/2000/svg\" height=\"24px\"viewBox=\"0 0 24 24\"\n",
              "       width=\"24px\">\n",
              "    <path d=\"M0 0h24v24H0V0z\" fill=\"none\"/>\n",
              "    <path d=\"M18.56 5.44l.94 2.06.94-2.06 2.06-.94-2.06-.94-.94-2.06-.94 2.06-2.06.94zm-11 1L8.5 8.5l.94-2.06 2.06-.94-2.06-.94L8.5 2.5l-.94 2.06-2.06.94zm10 10l.94 2.06.94-2.06 2.06-.94-2.06-.94-.94-2.06-.94 2.06-2.06.94z\"/><path d=\"M17.41 7.96l-1.37-1.37c-.4-.4-.92-.59-1.43-.59-.52 0-1.04.2-1.43.59L10.3 9.45l-7.72 7.72c-.78.78-.78 2.05 0 2.83L4 21.41c.39.39.9.59 1.41.59.51 0 1.02-.2 1.41-.59l7.78-7.78 2.81-2.81c.8-.78.8-2.07 0-2.86zM5.41 20L4 18.59l7.72-7.72 1.47 1.35L5.41 20z\"/>\n",
              "  </svg>\n",
              "      </button>\n",
              "      \n",
              "  <style>\n",
              "    .colab-df-container {\n",
              "      display:flex;\n",
              "      flex-wrap:wrap;\n",
              "      gap: 12px;\n",
              "    }\n",
              "\n",
              "    .colab-df-convert {\n",
              "      background-color: #E8F0FE;\n",
              "      border: none;\n",
              "      border-radius: 50%;\n",
              "      cursor: pointer;\n",
              "      display: none;\n",
              "      fill: #1967D2;\n",
              "      height: 32px;\n",
              "      padding: 0 0 0 0;\n",
              "      width: 32px;\n",
              "    }\n",
              "\n",
              "    .colab-df-convert:hover {\n",
              "      background-color: #E2EBFA;\n",
              "      box-shadow: 0px 1px 2px rgba(60, 64, 67, 0.3), 0px 1px 3px 1px rgba(60, 64, 67, 0.15);\n",
              "      fill: #174EA6;\n",
              "    }\n",
              "\n",
              "    [theme=dark] .colab-df-convert {\n",
              "      background-color: #3B4455;\n",
              "      fill: #D2E3FC;\n",
              "    }\n",
              "\n",
              "    [theme=dark] .colab-df-convert:hover {\n",
              "      background-color: #434B5C;\n",
              "      box-shadow: 0px 1px 3px 1px rgba(0, 0, 0, 0.15);\n",
              "      filter: drop-shadow(0px 1px 2px rgba(0, 0, 0, 0.3));\n",
              "      fill: #FFFFFF;\n",
              "    }\n",
              "  </style>\n",
              "\n",
              "      <script>\n",
              "        const buttonEl =\n",
              "          document.querySelector('#df-3287f64f-1944-441f-8833-e2e09f2e5633 button.colab-df-convert');\n",
              "        buttonEl.style.display =\n",
              "          google.colab.kernel.accessAllowed ? 'block' : 'none';\n",
              "\n",
              "        async function convertToInteractive(key) {\n",
              "          const element = document.querySelector('#df-3287f64f-1944-441f-8833-e2e09f2e5633');\n",
              "          const dataTable =\n",
              "            await google.colab.kernel.invokeFunction('convertToInteractive',\n",
              "                                                     [key], {});\n",
              "          if (!dataTable) return;\n",
              "\n",
              "          const docLinkHtml = 'Like what you see? Visit the ' +\n",
              "            '<a target=\"_blank\" href=https://colab.research.google.com/notebooks/data_table.ipynb>data table notebook</a>'\n",
              "            + ' to learn more about interactive tables.';\n",
              "          element.innerHTML = '';\n",
              "          dataTable['output_type'] = 'display_data';\n",
              "          await google.colab.output.renderOutput(dataTable, element);\n",
              "          const docLink = document.createElement('div');\n",
              "          docLink.innerHTML = docLinkHtml;\n",
              "          element.appendChild(docLink);\n",
              "        }\n",
              "      </script>\n",
              "    </div>\n",
              "  </div>\n",
              "  "
            ],
            "application/vnd.google.colaboratory.module+javascript": "\n      import \"https://ssl.gstatic.com/colaboratory/data_table/fb998edc550c7947/data_table.js\";\n\n      window.createDataTable({\n        data: [[\"count\",\n{\n            'v': 34857.0,\n            'f': \"34857.0\",\n        },\n{\n            'v': 27247.0,\n            'f': \"27247.0\",\n        },\n{\n            'v': 34856.0,\n            'f': \"34856.0\",\n        },\n{\n            'v': 34856.0,\n            'f': \"34856.0\",\n        },\n{\n            'v': 26640.0,\n            'f': \"26640.0\",\n        },\n{\n            'v': 26631.0,\n            'f': \"26631.0\",\n        },\n{\n            'v': 26129.0,\n            'f': \"26129.0\",\n        },\n{\n            'v': 23047.0,\n            'f': \"23047.0\",\n        },\n{\n            'v': 13742.0,\n            'f': \"13742.0\",\n        },\n{\n            'v': 15551.0,\n            'f': \"15551.0\",\n        },\n{\n            'v': 26881.0,\n            'f': \"26881.0\",\n        },\n{\n            'v': 26881.0,\n            'f': \"26881.0\",\n        },\n{\n            'v': 34854.0,\n            'f': \"34854.0\",\n        }],\n [\"mean\",\n{\n            'v': 3.0310124221820582,\n            'f': \"3.0310124221820582\",\n        },\n{\n            'v': 1050173.344955408,\n            'f': \"1050173.344955408\",\n        },\n{\n            'v': 11.18492942391554,\n            'f': \"11.18492942391554\",\n        },\n{\n            'v': 3116.062858618315,\n            'f': \"3116.062858618315\",\n        },\n{\n            'v': 3.0846471471471473,\n            'f': \"3.0846471471471473\",\n        },\n{\n            'v': 1.624798167549097,\n            'f': \"1.624798167549097\",\n        },\n{\n            'v': 1.7288453442535114,\n            'f': \"1.7288453442535114\",\n        },\n{\n            'v': 593.598993361392,\n            'f': \"593.598993361392\",\n        },\n{\n            'v': 160.2564003565711,\n            'f': \"160.2564003565711\",\n        },\n{\n            'v': 1965.289884894862,\n            'f': \"1965.289884894862\",\n        },\n{\n            'v': -37.810634295599115,\n            'f': \"-37.810634295599115\",\n        },\n{\n            'v': 145.00185113165432,\n            'f': \"145.00185113165432\",\n        },\n{\n            'v': 7572.8883055029555,\n            'f': \"7572.8883055029555\",\n        }],\n [\"std\",\n{\n            'v': 0.9699329348975163,\n            'f': \"0.9699329348975163\",\n        },\n{\n            'v': 641467.1301046001,\n            'f': \"641467.1301046001\",\n        },\n{\n            'v': 6.788892455935927,\n            'f': \"6.788892455935927\",\n        },\n{\n            'v': 109.0239027429064,\n            'f': \"109.0239027429064\",\n        },\n{\n            'v': 0.980689728546156,\n            'f': \"0.980689728546156\",\n        },\n{\n            'v': 0.7242120114699064,\n            'f': \"0.7242120114699064\",\n        },\n{\n            'v': 1.0107707853554242,\n            'f': \"1.0107707853554242\",\n        },\n{\n            'v': 3398.8419464599097,\n            'f': \"3398.8419464599097\",\n        },\n{\n            'v': 401.26706008485496,\n            'f': \"401.26706008485496\",\n        },\n{\n            'v': 37.328178023136125,\n            'f': \"37.328178023136125\",\n        },\n{\n            'v': 0.09027890450922454,\n            'f': \"0.09027890450922454\",\n        },\n{\n            'v': 0.12016876915352247,\n            'f': \"0.12016876915352247\",\n        },\n{\n            'v': 4428.090313274636,\n            'f': \"4428.090313274636\",\n        }],\n [\"min\",\n{\n            'v': 1.0,\n            'f': \"1.0\",\n        },\n{\n            'v': 85000.0,\n            'f': \"85000.0\",\n        },\n{\n            'v': 0.0,\n            'f': \"0.0\",\n        },\n{\n            'v': 3000.0,\n            'f': \"3000.0\",\n        },\n{\n            'v': 0.0,\n            'f': \"0.0\",\n        },\n{\n            'v': 0.0,\n            'f': \"0.0\",\n        },\n{\n            'v': 0.0,\n            'f': \"0.0\",\n        },\n{\n            'v': 0.0,\n            'f': \"0.0\",\n        },\n{\n            'v': 0.0,\n            'f': \"0.0\",\n        },\n{\n            'v': 1196.0,\n            'f': \"1196.0\",\n        },\n{\n            'v': -38.19043,\n            'f': \"-38.19043\",\n        },\n{\n            'v': 144.42379,\n            'f': \"144.42379\",\n        },\n{\n            'v': 83.0,\n            'f': \"83.0\",\n        }],\n [\"25%\",\n{\n            'v': 2.0,\n            'f': \"2.0\",\n        },\n{\n            'v': 635000.0,\n            'f': \"635000.0\",\n        },\n{\n            'v': 6.4,\n            'f': \"6.4\",\n        },\n{\n            'v': 3051.0,\n            'f': \"3051.0\",\n        },\n{\n            'v': 2.0,\n            'f': \"2.0\",\n        },\n{\n            'v': 1.0,\n            'f': \"1.0\",\n        },\n{\n            'v': 1.0,\n            'f': \"1.0\",\n        },\n{\n            'v': 224.0,\n            'f': \"224.0\",\n        },\n{\n            'v': 102.0,\n            'f': \"102.0\",\n        },\n{\n            'v': 1940.0,\n            'f': \"1940.0\",\n        },\n{\n            'v': -37.86295,\n            'f': \"-37.86295\",\n        },\n{\n            'v': 144.9335,\n            'f': \"144.9335\",\n        },\n{\n            'v': 4385.0,\n            'f': \"4385.0\",\n        }],\n [\"50%\",\n{\n            'v': 3.0,\n            'f': \"3.0\",\n        },\n{\n            'v': 870000.0,\n            'f': \"870000.0\",\n        },\n{\n            'v': 10.3,\n            'f': \"10.3\",\n        },\n{\n            'v': 3103.0,\n            'f': \"3103.0\",\n        },\n{\n            'v': 3.0,\n            'f': \"3.0\",\n        },\n{\n            'v': 2.0,\n            'f': \"2.0\",\n        },\n{\n            'v': 2.0,\n            'f': \"2.0\",\n        },\n{\n            'v': 521.0,\n            'f': \"521.0\",\n        },\n{\n            'v': 136.0,\n            'f': \"136.0\",\n        },\n{\n            'v': 1970.0,\n            'f': \"1970.0\",\n        },\n{\n            'v': -37.8076,\n            'f': \"-37.8076\",\n        },\n{\n            'v': 145.0078,\n            'f': \"145.0078\",\n        },\n{\n            'v': 6763.0,\n            'f': \"6763.0\",\n        }],\n [\"75%\",\n{\n            'v': 4.0,\n            'f': \"4.0\",\n        },\n{\n            'v': 1295000.0,\n            'f': \"1295000.0\",\n        },\n{\n            'v': 14.0,\n            'f': \"14.0\",\n        },\n{\n            'v': 3156.0,\n            'f': \"3156.0\",\n        },\n{\n            'v': 4.0,\n            'f': \"4.0\",\n        },\n{\n            'v': 2.0,\n            'f': \"2.0\",\n        },\n{\n            'v': 2.0,\n            'f': \"2.0\",\n        },\n{\n            'v': 670.0,\n            'f': \"670.0\",\n        },\n{\n            'v': 188.0,\n            'f': \"188.0\",\n        },\n{\n            'v': 2000.0,\n            'f': \"2000.0\",\n        },\n{\n            'v': -37.7541,\n            'f': \"-37.7541\",\n        },\n{\n            'v': 145.0719,\n            'f': \"145.0719\",\n        },\n{\n            'v': 10412.0,\n            'f': \"10412.0\",\n        }],\n [\"max\",\n{\n            'v': 16.0,\n            'f': \"16.0\",\n        },\n{\n            'v': 11200000.0,\n            'f': \"11200000.0\",\n        },\n{\n            'v': 48.1,\n            'f': \"48.1\",\n        },\n{\n            'v': 3978.0,\n            'f': \"3978.0\",\n        },\n{\n            'v': 30.0,\n            'f': \"30.0\",\n        },\n{\n            'v': 12.0,\n            'f': \"12.0\",\n        },\n{\n            'v': 26.0,\n            'f': \"26.0\",\n        },\n{\n            'v': 433014.0,\n            'f': \"433014.0\",\n        },\n{\n            'v': 44515.0,\n            'f': \"44515.0\",\n        },\n{\n            'v': 2106.0,\n            'f': \"2106.0\",\n        },\n{\n            'v': -37.3902,\n            'f': \"-37.3902\",\n        },\n{\n            'v': 145.52635,\n            'f': \"145.52635\",\n        },\n{\n            'v': 21650.0,\n            'f': \"21650.0\",\n        }]],\n        columns: [[\"string\", \"index\"], [\"number\", \"Rooms\"], [\"number\", \"Price\"], [\"number\", \"Distance\"], [\"number\", \"Postcode\"], [\"number\", \"Bedroom2\"], [\"number\", \"Bathroom\"], [\"number\", \"Car\"], [\"number\", \"Landsize\"], [\"number\", \"BuildingArea\"], [\"number\", \"YearBuilt\"], [\"number\", \"Lattitude\"], [\"number\", \"Longtitude\"], [\"number\", \"Propertycount\"]],\n        columnOptions: [{\"width\": \"1px\", \"className\": \"index_column\"}],\n        rowsPerPage: 25,\n        helpUrl: \"https://colab.research.google.com/notebooks/data_table.ipynb\",\n        suppressOutputScrolling: true,\n        minimumWidth: undefined,\n      });\n    "
          },
          "metadata": {},
          "execution_count": 44
        }
      ]
    },
    {
      "cell_type": "code",
      "source": [
        "sales.isnull().sum().sort_values(ascending=False)"
      ],
      "metadata": {
        "colab": {
          "base_uri": "https://localhost:8080/"
        },
        "id": "Cq8JAZOS7BA3",
        "outputId": "5e7ac330-5f94-42f9-cf54-1c9b7f9c5855"
      },
      "execution_count": 73,
      "outputs": [
        {
          "output_type": "execute_result",
          "data": {
            "text/plain": [
              "BuildingArea     21115\n",
              "YearBuilt        19306\n",
              "Landsize         11810\n",
              "Car               8728\n",
              "Bathroom          8226\n",
              "Bedroom2          8217\n",
              "Longtitude        7976\n",
              "Lattitude         7976\n",
              "Price             7610\n",
              "Regionname           3\n",
              "CouncilArea          3\n",
              "Propertycount        3\n",
              "Postcode             1\n",
              "Distance             1\n",
              "Address              0\n",
              "Date                 0\n",
              "SellerG              0\n",
              "Method               0\n",
              "Type                 0\n",
              "Rooms                0\n",
              "Suburb               0\n",
              "dtype: int64"
            ]
          },
          "metadata": {},
          "execution_count": 73
        }
      ]
    },
    {
      "cell_type": "code",
      "source": [
        "no_missing_df = sales[sales['Price'].notnull()]\n",
        "no_missing_df.isnull().sum().sort_values(ascending=False)"
      ],
      "metadata": {
        "colab": {
          "base_uri": "https://localhost:8080/"
        },
        "id": "zTFphOvB7Rj-",
        "outputId": "beba1206-f9d1-436e-944f-90a1a7ef2499"
      },
      "execution_count": 75,
      "outputs": [
        {
          "output_type": "execute_result",
          "data": {
            "text/plain": [
              "BuildingArea     16591\n",
              "YearBuilt        15163\n",
              "Landsize          9265\n",
              "Car               6824\n",
              "Bathroom          6447\n",
              "Bedroom2          6441\n",
              "Longtitude        6254\n",
              "Lattitude         6254\n",
              "Regionname           3\n",
              "CouncilArea          3\n",
              "Propertycount        3\n",
              "Postcode             1\n",
              "Distance             1\n",
              "Address              0\n",
              "Date                 0\n",
              "SellerG              0\n",
              "Method               0\n",
              "Price                0\n",
              "Type                 0\n",
              "Rooms                0\n",
              "Suburb               0\n",
              "dtype: int64"
            ]
          },
          "metadata": {},
          "execution_count": 75
        }
      ]
    },
    {
      "cell_type": "code",
      "source": [
        "no_missing_df.shape"
      ],
      "metadata": {
        "colab": {
          "base_uri": "https://localhost:8080/"
        },
        "id": "XAjCqz7M7x_q",
        "outputId": "3e9a8cbb-7709-474d-f055-ccf8b5a161e9"
      },
      "execution_count": 78,
      "outputs": [
        {
          "output_type": "execute_result",
          "data": {
            "text/plain": [
              "(27247, 21)"
            ]
          },
          "metadata": {},
          "execution_count": 78
        }
      ]
    },
    {
      "cell_type": "markdown",
      "source": [
        "## Numerical analysis and visualisation\n",
        "We'll analyse the `price` column only"
      ],
      "metadata": {
        "id": "63MtLSQXxPao"
      }
    },
    {
      "cell_type": "code",
      "source": [
        "sales = no_missing_df.copy()"
      ],
      "metadata": {
        "id": "syoGY9bs7_gd"
      },
      "execution_count": 81,
      "outputs": []
    },
    {
      "cell_type": "code",
      "source": [
        " sales.price.describe().astype(int)"
      ],
      "metadata": {
        "colab": {
          "base_uri": "https://localhost:8080/"
        },
        "id": "WXvmVrlV1-4o",
        "outputId": "9b14e4de-2711-4dbf-ac08-5cf3aff9bc7d"
      },
      "execution_count": 79,
      "outputs": [
        {
          "output_type": "execute_result",
          "data": {
            "text/plain": [
              "count       27247\n",
              "mean      1050173\n",
              "std        641467\n",
              "min         85000\n",
              "25%        635000\n",
              "50%        870000\n",
              "75%       1295000\n",
              "max      11200000\n",
              "Name: Price, dtype: int64"
            ]
          },
          "metadata": {},
          "execution_count": 79
        }
      ]
    },
    {
      "cell_type": "code",
      "source": [
        "ax = sales.Price.plot(kind='box', vert=False, figsize=(16,4))\n",
        "ax.xaxis.get_major_formatter().set_scientific(False)"
      ],
      "metadata": {
        "colab": {
          "base_uri": "https://localhost:8080/",
          "height": 265
        },
        "id": "L6qdwOHi20eX",
        "outputId": "d02941ca-c6d0-4110-8126-bf7860056013"
      },
      "execution_count": 80,
      "outputs": [
        {
          "output_type": "display_data",
          "data": {
            "text/plain": [
              "<Figure size 1152x288 with 1 Axes>"
            ],
            "image/png": "[encoded data removed]"
          },
          "metadata": {
            "needs_background": "light"
          }
        }
      ]
    },
    {
      "cell_type": "code",
      "source": [
        "ax = sales.Price.plot(kind='density', figsize=(16,4))\n",
        "ax.xaxis.get_major_formatter().set_scientific(False)"
      ],
      "metadata": {
        "colab": {
          "base_uri": "https://localhost:8080/",
          "height": 275
        },
        "id": "kkfhpTpd3jeC",
        "outputId": "73788522-05a9-45a4-a9b6-16683da84ad6"
      },
      "execution_count": 67,
      "outputs": [
        {
          "output_type": "display_data",
          "data": {
            "text/plain": [
              "<Figure size 1152x288 with 1 Axes>"
            ],
            "image/png": "[encoded data removed]"
          },
          "metadata": {
            "needs_background": "light"
          }
        }
      ]
    },
    {
      "cell_type": "code",
      "source": [
        "ax = sales.Price.plot(kind='density', figsize=(16,4))\n",
        "ax.xaxis.get_major_formatter().set_scientific(False)\n",
        "ax.axvline(sales.Price.mean(), color='red')\n",
        "ax.axvline(sales.Price.median(), color='green')"
      ],
      "metadata": {
        "colab": {
          "base_uri": "https://localhost:8080/",
          "height": 293
        },
        "id": "3Ii62gB34NCD",
        "outputId": "8866e402-15d8-4f46-b2d3-251fc0619b58"
      },
      "execution_count": 72,
      "outputs": [
        {
          "output_type": "execute_result",
          "data": {
            "text/plain": [
              "<matplotlib.lines.Line2D at 0x7f5093a6ddf0>"
            ]
          },
          "metadata": {},
          "execution_count": 72
        },
        {
          "output_type": "display_data",
          "data": {
            "text/plain": [
              "<Figure size 1152x288 with 1 Axes>"
            ],
            "image/png": "[encoded data removed]"
          },
          "metadata": {
            "needs_background": "light"
          }
        }
      ]
    },
    {
      "cell_type": "markdown",
      "source": [
        "## Categorical data analysis and visualisation"
      ],
      "metadata": {
        "id": "CEz6YfwW5YGT"
      }
    },
    {
      "cell_type": "code",
      "source": [
        "sales['Regionname'].unique()"
      ],
      "metadata": {
        "colab": {
          "base_uri": "https://localhost:8080/"
        },
        "id": "_V20l7rr51eJ",
        "outputId": "c0cab426-fdc3-4ab3-c9f0-312a9a6b36c7"
      },
      "execution_count": 83,
      "outputs": [
        {
          "output_type": "execute_result",
          "data": {
            "text/plain": [
              "array(['Northern Metropolitan', 'Western Metropolitan',\n",
              "       'Southern Metropolitan', 'Eastern Metropolitan',\n",
              "       'South-Eastern Metropolitan', 'Eastern Victoria',\n",
              "       'Northern Victoria', 'Western Victoria', nan], dtype=object)"
            ]
          },
          "metadata": {},
          "execution_count": 83
        }
      ]
    },
    {
      "cell_type": "code",
      "source": [
        "sales['Regionname'].value_counts()"
      ],
      "metadata": {
        "colab": {
          "base_uri": "https://localhost:8080/"
        },
        "id": "OzwP1r308PSA",
        "outputId": "ace5fb20-c07b-4c8d-e92d-bd13ca890b7e"
      },
      "execution_count": 84,
      "outputs": [
        {
          "output_type": "execute_result",
          "data": {
            "text/plain": [
              "Southern Metropolitan         8524\n",
              "Northern Metropolitan         7864\n",
              "Western Metropolitan          5815\n",
              "Eastern Metropolitan          3272\n",
              "South-Eastern Metropolitan    1341\n",
              "Eastern Victoria               166\n",
              "Northern Victoria              166\n",
              "Western Victoria                96\n",
              "Name: Regionname, dtype: int64"
            ]
          },
          "metadata": {},
          "execution_count": 84
        }
      ]
    },
    {
      "cell_type": "code",
      "source": [
        "sales['Regionname'].value_counts().plot(kind='pie', figsize=(6,6))"
      ],
      "metadata": {
        "colab": {
          "base_uri": "https://localhost:8080/",
          "height": 375
        },
        "id": "CF99AcuJ8bxl",
        "outputId": "10340e65-b6f9-4077-fd7e-b38f8840a5bf"
      },
      "execution_count": 91,
      "outputs": [
        {
          "output_type": "execute_result",
          "data": {
            "text/plain": [
              "<AxesSubplot:ylabel='Regionname'>"
            ]
          },
          "metadata": {},
          "execution_count": 91
        },
        {
          "output_type": "display_data",
          "data": {
            "text/plain": [
              "<Figure size 432x432 with 1 Axes>"
            ],
            "image/png": "[encoded data removed]"
          },
          "metadata": {}
        }
      ]
    },
    {
      "cell_type": "code",
      "source": [
        "ax = sales['Regionname'].value_counts().plot(kind='bar', figsize=(6,6))\n",
        "ax.set_ylabel('Number of Sales')"
      ],
      "metadata": {
        "colab": {
          "base_uri": "https://localhost:8080/",
          "height": 519
        },
        "id": "QRMfI7Wb8hil",
        "outputId": "16c7e843-5ccb-4643-dbb9-53f8237f3b06"
      },
      "execution_count": 93,
      "outputs": [
        {
          "output_type": "execute_result",
          "data": {
            "text/plain": [
              "Text(0, 0.5, 'Number of Sales')"
            ]
          },
          "metadata": {},
          "execution_count": 93
        },
        {
          "output_type": "display_data",
          "data": {
            "text/plain": [
              "<Figure size 432x432 with 1 Axes>"
            ],
            "image/png": "[encoded data removed]"
          },
          "metadata": {
            "needs_background": "light"
          }
        }
      ]
    },
    {
      "cell_type": "markdown",
      "source": [
        "## Relationship between the columns"
      ],
      "metadata": {
        "id": "Ng5MjWp_9rSI"
      }
    },
    {
      "cell_type": "code",
      "source": [
        "corr = sales.corr()\n",
        "\n",
        "corr"
      ],
      "metadata": {
        "colab": {
          "base_uri": "https://localhost:8080/",
          "height": 377
        },
        "id": "gZhE-4s7A-Xg",
        "outputId": "22943438-baca-48c2-8cf9-b99fa53d23f1"
      },
      "execution_count": 94,
      "outputs": [
        {
          "output_type": "execute_result",
          "data": {
            "text/plain": [
              "                  Rooms     Price  Distance  Postcode  Bedroom2  Bathroom  \\\n",
              "Rooms          1.000000  0.465238  0.284298  0.081328  0.958741  0.607968   \n",
              "Price          0.465238  1.000000 -0.211384  0.044950  0.430275  0.429878   \n",
              "Distance       0.284298 -0.211384  1.000000  0.489734  0.282813  0.140767   \n",
              "Postcode       0.081328  0.044950  0.489734  1.000000  0.087748  0.123822   \n",
              "Bedroom2       0.958741  0.430275  0.282813  0.087748  1.000000  0.605309   \n",
              "Bathroom       0.607968  0.429878  0.140767  0.123822  0.605309  1.000000   \n",
              "Car            0.394828  0.201803  0.244177  0.062870  0.396458  0.305628   \n",
              "Landsize       0.034255  0.032748  0.055257  0.037747  0.034167  0.037578   \n",
              "BuildingArea   0.138519  0.100754  0.076786  0.041697  0.136956  0.129216   \n",
              "YearBuilt     -0.001638 -0.333306  0.314522  0.097365  0.007896  0.185514   \n",
              "Lattitude      0.020936 -0.215607 -0.089573 -0.218780  0.019087 -0.047392   \n",
              "Longtitude     0.087130  0.197874  0.188951  0.364808  0.090658  0.103547   \n",
              "Propertycount -0.079572 -0.059017 -0.021705  0.023217 -0.059863 -0.040319   \n",
              "\n",
              "                    Car  Landsize  BuildingArea  YearBuilt  Lattitude  \\\n",
              "Rooms          0.394828  0.034255      0.138519  -0.001638   0.020936   \n",
              "Price          0.201803  0.032748      0.100754  -0.333306  -0.215607   \n",
              "Distance       0.244177  0.055257      0.076786   0.314522  -0.089573   \n",
              "Postcode       0.062870  0.037747      0.041697   0.097365  -0.218780   \n",
              "Bedroom2       0.396458  0.034167      0.136956   0.007896   0.019087   \n",
              "Bathroom       0.305628  0.037578      0.129216   0.185514  -0.047392   \n",
              "Car            1.000000  0.031301      0.094166   0.125057   0.002003   \n",
              "Landsize       0.031301  1.000000      0.375341   0.040782   0.023689   \n",
              "BuildingArea   0.094166  0.375341      1.000000   0.072976   0.025880   \n",
              "YearBuilt      0.125057  0.040782      0.072976   1.000000   0.095362   \n",
              "Lattitude      0.002003  0.023689      0.025880   0.095362   1.000000   \n",
              "Longtitude     0.039071 -0.003633     -0.010702  -0.021596  -0.347259   \n",
              "Propertycount -0.013955 -0.016988     -0.026473   0.023278   0.021271   \n",
              "\n",
              "               Longtitude  Propertycount  \n",
              "Rooms            0.087130      -0.079572  \n",
              "Price            0.197874      -0.059017  \n",
              "Distance         0.188951      -0.021705  \n",
              "Postcode         0.364808       0.023217  \n",
              "Bedroom2         0.090658      -0.059863  \n",
              "Bathroom         0.103547      -0.040319  \n",
              "Car              0.039071      -0.013955  \n",
              "Landsize        -0.003633      -0.016988  \n",
              "BuildingArea    -0.010702      -0.026473  \n",
              "YearBuilt       -0.021596       0.023278  \n",
              "Lattitude       -0.347259       0.021271  \n",
              "Longtitude       1.000000       0.028486  \n",
              "Propertycount    0.028486       1.000000  "
            ],
            "text/html": [
              "\n",
              "  <div id=\"df-7686dbe8-f6c0-489c-9be6-8ffb0d285376\">\n",
              "    <div class=\"colab-df-container\">\n",
              "      <div>\n",
              "<style scoped>\n",
              "    .dataframe tbody tr th:only-of-type {\n",
              "        vertical-align: middle;\n",
              "    }\n",
              "\n",
              "    .dataframe tbody tr th {\n",
              "        vertical-align: top;\n",
              "    }\n",
              "\n",
              "    .dataframe thead th {\n",
              "        text-align: right;\n",
              "    }\n",
              "</style>\n",
              "<table border=\"1\" class=\"dataframe\">\n",
              "  <thead>\n",
              "    <tr style=\"text-align: right;\">\n",
              "      <th></th>\n",
              "      <th>Rooms</th>\n",
              "      <th>Price</th>\n",
              "      <th>Distance</th>\n",
              "      <th>Postcode</th>\n",
              "      <th>Bedroom2</th>\n",
              "      <th>Bathroom</th>\n",
              "      <th>Car</th>\n",
              "      <th>Landsize</th>\n",
              "      <th>BuildingArea</th>\n",
              "      <th>YearBuilt</th>\n",
              "      <th>Lattitude</th>\n",
              "      <th>Longtitude</th>\n",
              "      <th>Propertycount</th>\n",
              "    </tr>\n",
              "  </thead>\n",
              "  <tbody>\n",
              "    <tr>\n",
              "      <th>Rooms</th>\n",
              "      <td>1.000000</td>\n",
              "      <td>0.465238</td>\n",
              "      <td>0.284298</td>\n",
              "      <td>0.081328</td>\n",
              "      <td>0.958741</td>\n",
              "      <td>0.607968</td>\n",
              "      <td>0.394828</td>\n",
              "      <td>0.034255</td>\n",
              "      <td>0.138519</td>\n",
              "      <td>-0.001638</td>\n",
              "      <td>0.020936</td>\n",
              "      <td>0.087130</td>\n",
              "      <td>-0.079572</td>\n",
              "    </tr>\n",
              "    <tr>\n",
              "      <th>Price</th>\n",
              "      <td>0.465238</td>\n",
              "      <td>1.000000</td>\n",
              "      <td>-0.211384</td>\n",
              "      <td>0.044950</td>\n",
              "      <td>0.430275</td>\n",
              "      <td>0.429878</td>\n",
              "      <td>0.201803</td>\n",
              "      <td>0.032748</td>\n",
              "      <td>0.100754</td>\n",
              "      <td>-0.333306</td>\n",
              "      <td>-0.215607</td>\n",
              "      <td>0.197874</td>\n",
              "      <td>-0.059017</td>\n",
              "    </tr>\n",
              "    <tr>\n",
              "      <th>Distance</th>\n",
              "      <td>0.284298</td>\n",
              "      <td>-0.211384</td>\n",
              "      <td>1.000000</td>\n",
              "      <td>0.489734</td>\n",
              "      <td>0.282813</td>\n",
              "      <td>0.140767</td>\n",
              "      <td>0.244177</td>\n",
              "      <td>0.055257</td>\n",
              "      <td>0.076786</td>\n",
              "      <td>0.314522</td>\n",
              "      <td>-0.089573</td>\n",
              "      <td>0.188951</td>\n",
              "      <td>-0.021705</td>\n",
              "    </tr>\n",
              "    <tr>\n",
              "      <th>Postcode</th>\n",
              "      <td>0.081328</td>\n",
              "      <td>0.044950</td>\n",
              "      <td>0.489734</td>\n",
              "      <td>1.000000</td>\n",
              "      <td>0.087748</td>\n",
              "      <td>0.123822</td>\n",
              "      <td>0.062870</td>\n",
              "      <td>0.037747</td>\n",
              "      <td>0.041697</td>\n",
              "      <td>0.097365</td>\n",
              "      <td>-0.218780</td>\n",
              "      <td>0.364808</td>\n",
              "      <td>0.023217</td>\n",
              "    </tr>\n",
              "    <tr>\n",
              "      <th>Bedroom2</th>\n",
              "      <td>0.958741</td>\n",
              "      <td>0.430275</td>\n",
              "      <td>0.282813</td>\n",
              "      <td>0.087748</td>\n",
              "      <td>1.000000</td>\n",
              "      <td>0.605309</td>\n",
              "      <td>0.396458</td>\n",
              "      <td>0.034167</td>\n",
              "      <td>0.136956</td>\n",
              "      <td>0.007896</td>\n",
              "      <td>0.019087</td>\n",
              "      <td>0.090658</td>\n",
              "      <td>-0.059863</td>\n",
              "    </tr>\n",
              "    <tr>\n",
              "      <th>Bathroom</th>\n",
              "      <td>0.607968</td>\n",
              "      <td>0.429878</td>\n",
              "      <td>0.140767</td>\n",
              "      <td>0.123822</td>\n",
              "      <td>0.605309</td>\n",
              "      <td>1.000000</td>\n",
              "      <td>0.305628</td>\n",
              "      <td>0.037578</td>\n",
              "      <td>0.129216</td>\n",
              "      <td>0.185514</td>\n",
              "      <td>-0.047392</td>\n",
              "      <td>0.103547</td>\n",
              "      <td>-0.040319</td>\n",
              "    </tr>\n",
              "    <tr>\n",
              "      <th>Car</th>\n",
              "      <td>0.394828</td>\n",
              "      <td>0.201803</td>\n",
              "      <td>0.244177</td>\n",
              "      <td>0.062870</td>\n",
              "      <td>0.396458</td>\n",
              "      <td>0.305628</td>\n",
              "      <td>1.000000</td>\n",
              "      <td>0.031301</td>\n",
              "      <td>0.094166</td>\n",
              "      <td>0.125057</td>\n",
              "      <td>0.002003</td>\n",
              "      <td>0.039071</td>\n",
              "      <td>-0.013955</td>\n",
              "    </tr>\n",
              "    <tr>\n",
              "      <th>Landsize</th>\n",
              "      <td>0.034255</td>\n",
              "      <td>0.032748</td>\n",
              "      <td>0.055257</td>\n",
              "      <td>0.037747</td>\n",
              "      <td>0.034167</td>\n",
              "      <td>0.037578</td>\n",
              "      <td>0.031301</td>\n",
              "      <td>1.000000</td>\n",
              "      <td>0.375341</td>\n",
              "      <td>0.040782</td>\n",
              "      <td>0.023689</td>\n",
              "      <td>-0.003633</td>\n",
              "      <td>-0.016988</td>\n",
              "    </tr>\n",
              "    <tr>\n",
              "      <th>BuildingArea</th>\n",
              "      <td>0.138519</td>\n",
              "      <td>0.100754</td>\n",
              "      <td>0.076786</td>\n",
              "      <td>0.041697</td>\n",
              "      <td>0.136956</td>\n",
              "      <td>0.129216</td>\n",
              "      <td>0.094166</td>\n",
              "      <td>0.375341</td>\n",
              "      <td>1.000000</td>\n",
              "      <td>0.072976</td>\n",
              "      <td>0.025880</td>\n",
              "      <td>-0.010702</td>\n",
              "      <td>-0.026473</td>\n",
              "    </tr>\n",
              "    <tr>\n",
              "      <th>YearBuilt</th>\n",
              "      <td>-0.001638</td>\n",
              "      <td>-0.333306</td>\n",
              "      <td>0.314522</td>\n",
              "      <td>0.097365</td>\n",
              "      <td>0.007896</td>\n",
              "      <td>0.185514</td>\n",
              "      <td>0.125057</td>\n",
              "      <td>0.040782</td>\n",
              "      <td>0.072976</td>\n",
              "      <td>1.000000</td>\n",
              "      <td>0.095362</td>\n",
              "      <td>-0.021596</td>\n",
              "      <td>0.023278</td>\n",
              "    </tr>\n",
              "    <tr>\n",
              "      <th>Lattitude</th>\n",
              "      <td>0.020936</td>\n",
              "      <td>-0.215607</td>\n",
              "      <td>-0.089573</td>\n",
              "      <td>-0.218780</td>\n",
              "      <td>0.019087</td>\n",
              "      <td>-0.047392</td>\n",
              "      <td>0.002003</td>\n",
              "      <td>0.023689</td>\n",
              "      <td>0.025880</td>\n",
              "      <td>0.095362</td>\n",
              "      <td>1.000000</td>\n",
              "      <td>-0.347259</td>\n",
              "      <td>0.021271</td>\n",
              "    </tr>\n",
              "    <tr>\n",
              "      <th>Longtitude</th>\n",
              "      <td>0.087130</td>\n",
              "      <td>0.197874</td>\n",
              "      <td>0.188951</td>\n",
              "      <td>0.364808</td>\n",
              "      <td>0.090658</td>\n",
              "      <td>0.103547</td>\n",
              "      <td>0.039071</td>\n",
              "      <td>-0.003633</td>\n",
              "      <td>-0.010702</td>\n",
              "      <td>-0.021596</td>\n",
              "      <td>-0.347259</td>\n",
              "      <td>1.000000</td>\n",
              "      <td>0.028486</td>\n",
              "    </tr>\n",
              "    <tr>\n",
              "      <th>Propertycount</th>\n",
              "      <td>-0.079572</td>\n",
              "      <td>-0.059017</td>\n",
              "      <td>-0.021705</td>\n",
              "      <td>0.023217</td>\n",
              "      <td>-0.059863</td>\n",
              "      <td>-0.040319</td>\n",
              "      <td>-0.013955</td>\n",
              "      <td>-0.016988</td>\n",
              "      <td>-0.026473</td>\n",
              "      <td>0.023278</td>\n",
              "      <td>0.021271</td>\n",
              "      <td>0.028486</td>\n",
              "      <td>1.000000</td>\n",
              "    </tr>\n",
              "  </tbody>\n",
              "</table>\n",
              "</div>\n",
              "      <button class=\"colab-df-convert\" onclick=\"convertToInteractive('df-7686dbe8-f6c0-489c-9be6-8ffb0d285376')\"\n",
              "              title=\"Convert this dataframe to an interactive table.\"\n",
              "              style=\"display:none;\">\n",
              "        \n",
              "  <svg xmlns=\"http://www.w3.org/2000/svg\" height=\"24px\"viewBox=\"0 0 24 24\"\n",
              "       width=\"24px\">\n",
              "    <path d=\"M0 0h24v24H0V0z\" fill=\"none\"/>\n",
              "    <path d=\"M18.56 5.44l.94 2.06.94-2.06 2.06-.94-2.06-.94-.94-2.06-.94 2.06-2.06.94zm-11 1L8.5 8.5l.94-2.06 2.06-.94-2.06-.94L8.5 2.5l-.94 2.06-2.06.94zm10 10l.94 2.06.94-2.06 2.06-.94-2.06-.94-.94-2.06-.94 2.06-2.06.94z\"/><path d=\"M17.41 7.96l-1.37-1.37c-.4-.4-.92-.59-1.43-.59-.52 0-1.04.2-1.43.59L10.3 9.45l-7.72 7.72c-.78.78-.78 2.05 0 2.83L4 21.41c.39.39.9.59 1.41.59.51 0 1.02-.2 1.41-.59l7.78-7.78 2.81-2.81c.8-.78.8-2.07 0-2.86zM5.41 20L4 18.59l7.72-7.72 1.47 1.35L5.41 20z\"/>\n",
              "  </svg>\n",
              "      </button>\n",
              "      \n",
              "  <style>\n",
              "    .colab-df-container {\n",
              "      display:flex;\n",
              "      flex-wrap:wrap;\n",
              "      gap: 12px;\n",
              "    }\n",
              "\n",
              "    .colab-df-convert {\n",
              "      background-color: #E8F0FE;\n",
              "      border: none;\n",
              "      border-radius: 50%;\n",
              "      cursor: pointer;\n",
              "      display: none;\n",
              "      fill: #1967D2;\n",
              "      height: 32px;\n",
              "      padding: 0 0 0 0;\n",
              "      width: 32px;\n",
              "    }\n",
              "\n",
              "    .colab-df-convert:hover {\n",
              "      background-color: #E2EBFA;\n",
              "      box-shadow: 0px 1px 2px rgba(60, 64, 67, 0.3), 0px 1px 3px 1px rgba(60, 64, 67, 0.15);\n",
              "      fill: #174EA6;\n",
              "    }\n",
              "\n",
              "    [theme=dark] .colab-df-convert {\n",
              "      background-color: #3B4455;\n",
              "      fill: #D2E3FC;\n",
              "    }\n",
              "\n",
              "    [theme=dark] .colab-df-convert:hover {\n",
              "      background-color: #434B5C;\n",
              "      box-shadow: 0px 1px 3px 1px rgba(0, 0, 0, 0.15);\n",
              "      filter: drop-shadow(0px 1px 2px rgba(0, 0, 0, 0.3));\n",
              "      fill: #FFFFFF;\n",
              "    }\n",
              "  </style>\n",
              "\n",
              "      <script>\n",
              "        const buttonEl =\n",
              "          document.querySelector('#df-7686dbe8-f6c0-489c-9be6-8ffb0d285376 button.colab-df-convert');\n",
              "        buttonEl.style.display =\n",
              "          google.colab.kernel.accessAllowed ? 'block' : 'none';\n",
              "\n",
              "        async function convertToInteractive(key) {\n",
              "          const element = document.querySelector('#df-7686dbe8-f6c0-489c-9be6-8ffb0d285376');\n",
              "          const dataTable =\n",
              "            await google.colab.kernel.invokeFunction('convertToInteractive',\n",
              "                                                     [key], {});\n",
              "          if (!dataTable) return;\n",
              "\n",
              "          const docLinkHtml = 'Like what you see? Visit the ' +\n",
              "            '<a target=\"_blank\" href=https://colab.research.google.com/notebooks/data_table.ipynb>data table notebook</a>'\n",
              "            + ' to learn more about interactive tables.';\n",
              "          element.innerHTML = '';\n",
              "          dataTable['output_type'] = 'display_data';\n",
              "          await google.colab.output.renderOutput(dataTable, element);\n",
              "          const docLink = document.createElement('div');\n",
              "          docLink.innerHTML = docLinkHtml;\n",
              "          element.appendChild(docLink);\n",
              "        }\n",
              "      </script>\n",
              "    </div>\n",
              "  </div>\n",
              "  "
            ],
            "application/vnd.google.colaboratory.module+javascript": "\n      import \"https://ssl.gstatic.com/colaboratory/data_table/fb998edc550c7947/data_table.js\";\n\n      window.createDataTable({\n        data: [[\"Rooms\",\n{\n            'v': 1.0,\n            'f': \"1.0\",\n        },\n{\n            'v': 0.4652383451075954,\n            'f': \"0.4652383451075954\",\n        },\n{\n            'v': 0.28429813115825237,\n            'f': \"0.28429813115825237\",\n        },\n{\n            'v': 0.08132827867239925,\n            'f': \"0.08132827867239925\",\n        },\n{\n            'v': 0.9587411322746976,\n            'f': \"0.9587411322746976\",\n        },\n{\n            'v': 0.6079678320524251,\n            'f': \"0.6079678320524251\",\n        },\n{\n            'v': 0.39482825491227724,\n            'f': \"0.39482825491227724\",\n        },\n{\n            'v': 0.03425529297378834,\n            'f': \"0.03425529297378834\",\n        },\n{\n            'v': 0.13851942756305877,\n            'f': \"0.13851942756305877\",\n        },\n{\n            'v': -0.0016375920740902292,\n            'f': \"-0.0016375920740902292\",\n        },\n{\n            'v': 0.020935634634975983,\n            'f': \"0.020935634634975983\",\n        },\n{\n            'v': 0.08713009594247155,\n            'f': \"0.08713009594247155\",\n        },\n{\n            'v': -0.07957156685879407,\n            'f': \"-0.07957156685879407\",\n        }],\n [\"Price\",\n{\n            'v': 0.4652383451075954,\n            'f': \"0.4652383451075954\",\n        },\n{\n            'v': 1.0,\n            'f': \"1.0\",\n        },\n{\n            'v': -0.2113843427915798,\n            'f': \"-0.2113843427915798\",\n        },\n{\n            'v': 0.04494983007693765,\n            'f': \"0.04494983007693765\",\n        },\n{\n            'v': 0.43027533832335363,\n            'f': \"0.43027533832335363\",\n        },\n{\n            'v': 0.4298780777015675,\n            'f': \"0.4298780777015675\",\n        },\n{\n            'v': 0.20180256061576332,\n            'f': \"0.20180256061576332\",\n        },\n{\n            'v': 0.03274836524947102,\n            'f': \"0.03274836524947102\",\n        },\n{\n            'v': 0.10075363947310191,\n            'f': \"0.10075363947310191\",\n        },\n{\n            'v': -0.3333055641267083,\n            'f': \"-0.3333055641267083\",\n        },\n{\n            'v': -0.21560711448223507,\n            'f': \"-0.21560711448223507\",\n        },\n{\n            'v': 0.19787369804692498,\n            'f': \"0.19787369804692498\",\n        },\n{\n            'v': -0.05901668608374415,\n            'f': \"-0.05901668608374415\",\n        }],\n [\"Distance\",\n{\n            'v': 0.28429813115825237,\n            'f': \"0.28429813115825237\",\n        },\n{\n            'v': -0.2113843427915798,\n            'f': \"-0.2113843427915798\",\n        },\n{\n            'v': 1.0,\n            'f': \"1.0\",\n        },\n{\n            'v': 0.48973351358774897,\n            'f': \"0.48973351358774897\",\n        },\n{\n            'v': 0.2828126847660428,\n            'f': \"0.2828126847660428\",\n        },\n{\n            'v': 0.14076712091881174,\n            'f': \"0.14076712091881174\",\n        },\n{\n            'v': 0.24417704229160092,\n            'f': \"0.24417704229160092\",\n        },\n{\n            'v': 0.055257454811517524,\n            'f': \"0.055257454811517524\",\n        },\n{\n            'v': 0.07678570519880912,\n            'f': \"0.07678570519880912\",\n        },\n{\n            'v': 0.31452238510863667,\n            'f': \"0.31452238510863667\",\n        },\n{\n            'v': -0.08957263872479658,\n            'f': \"-0.08957263872479658\",\n        },\n{\n            'v': 0.18895137459692504,\n            'f': \"0.18895137459692504\",\n        },\n{\n            'v': -0.021704924102614973,\n            'f': \"-0.021704924102614973\",\n        }],\n [\"Postcode\",\n{\n            'v': 0.08132827867239925,\n            'f': \"0.08132827867239925\",\n        },\n{\n            'v': 0.04494983007693765,\n            'f': \"0.04494983007693765\",\n        },\n{\n            'v': 0.48973351358774897,\n            'f': \"0.48973351358774897\",\n        },\n{\n            'v': 1.0,\n            'f': \"1.0\",\n        },\n{\n            'v': 0.08774790995871588,\n            'f': \"0.08774790995871588\",\n        },\n{\n            'v': 0.12382245089296234,\n            'f': \"0.12382245089296234\",\n        },\n{\n            'v': 0.06287024764842478,\n            'f': \"0.06287024764842478\",\n        },\n{\n            'v': 0.037746842096824516,\n            'f': \"0.037746842096824516\",\n        },\n{\n            'v': 0.04169677361921426,\n            'f': \"0.04169677361921426\",\n        },\n{\n            'v': 0.09736513997653554,\n            'f': \"0.09736513997653554\",\n        },\n{\n            'v': -0.21878049935433036,\n            'f': \"-0.21878049935433036\",\n        },\n{\n            'v': 0.36480838172223656,\n            'f': \"0.36480838172223656\",\n        },\n{\n            'v': 0.02321727638643585,\n            'f': \"0.02321727638643585\",\n        }],\n [\"Bedroom2\",\n{\n            'v': 0.9587411322746976,\n            'f': \"0.9587411322746976\",\n        },\n{\n            'v': 0.43027533832335363,\n            'f': \"0.43027533832335363\",\n        },\n{\n            'v': 0.2828126847660428,\n            'f': \"0.2828126847660428\",\n        },\n{\n            'v': 0.08774790995871588,\n            'f': \"0.08774790995871588\",\n        },\n{\n            'v': 1.0,\n            'f': \"1.0\",\n        },\n{\n            'v': 0.6053087293115883,\n            'f': \"0.6053087293115883\",\n        },\n{\n            'v': 0.39645815325645417,\n            'f': \"0.39645815325645417\",\n        },\n{\n            'v': 0.03416670220580352,\n            'f': \"0.03416670220580352\",\n        },\n{\n            'v': 0.13695569859393752,\n            'f': \"0.13695569859393752\",\n        },\n{\n            'v': 0.007895580327770968,\n            'f': \"0.007895580327770968\",\n        },\n{\n            'v': 0.0190869797158461,\n            'f': \"0.0190869797158461\",\n        },\n{\n            'v': 0.0906581503174582,\n            'f': \"0.0906581503174582\",\n        },\n{\n            'v': -0.059863153747740074,\n            'f': \"-0.059863153747740074\",\n        }],\n [\"Bathroom\",\n{\n            'v': 0.6079678320524251,\n            'f': \"0.6079678320524251\",\n        },\n{\n            'v': 0.4298780777015675,\n            'f': \"0.4298780777015675\",\n        },\n{\n            'v': 0.14076712091881174,\n            'f': \"0.14076712091881174\",\n        },\n{\n            'v': 0.12382245089296234,\n            'f': \"0.12382245089296234\",\n        },\n{\n            'v': 0.6053087293115883,\n            'f': \"0.6053087293115883\",\n        },\n{\n            'v': 1.0,\n            'f': \"1.0\",\n        },\n{\n            'v': 0.30562840019667853,\n            'f': \"0.30562840019667853\",\n        },\n{\n            'v': 0.03757757628067645,\n            'f': \"0.03757757628067645\",\n        },\n{\n            'v': 0.12921598688696337,\n            'f': \"0.12921598688696337\",\n        },\n{\n            'v': 0.18551388871291144,\n            'f': \"0.18551388871291144\",\n        },\n{\n            'v': -0.04739185853708904,\n            'f': \"-0.04739185853708904\",\n        },\n{\n            'v': 0.10354700052563892,\n            'f': \"0.10354700052563892\",\n        },\n{\n            'v': -0.04031871448403721,\n            'f': \"-0.04031871448403721\",\n        }],\n [\"Car\",\n{\n            'v': 0.39482825491227724,\n            'f': \"0.39482825491227724\",\n        },\n{\n            'v': 0.20180256061576332,\n            'f': \"0.20180256061576332\",\n        },\n{\n            'v': 0.24417704229160092,\n            'f': \"0.24417704229160092\",\n        },\n{\n            'v': 0.06287024764842478,\n            'f': \"0.06287024764842478\",\n        },\n{\n            'v': 0.39645815325645417,\n            'f': \"0.39645815325645417\",\n        },\n{\n            'v': 0.30562840019667853,\n            'f': \"0.30562840019667853\",\n        },\n{\n            'v': 1.0,\n            'f': \"1.0\",\n        },\n{\n            'v': 0.03130055084333974,\n            'f': \"0.03130055084333974\",\n        },\n{\n            'v': 0.09416639814799259,\n            'f': \"0.09416639814799259\",\n        },\n{\n            'v': 0.1250565149106136,\n            'f': \"0.1250565149106136\",\n        },\n{\n            'v': 0.0020031965685590393,\n            'f': \"0.0020031965685590393\",\n        },\n{\n            'v': 0.039070711792312925,\n            'f': \"0.039070711792312925\",\n        },\n{\n            'v': -0.01395518250084265,\n            'f': \"-0.01395518250084265\",\n        }],\n [\"Landsize\",\n{\n            'v': 0.03425529297378834,\n            'f': \"0.03425529297378834\",\n        },\n{\n            'v': 0.03274836524947102,\n            'f': \"0.03274836524947102\",\n        },\n{\n            'v': 0.055257454811517524,\n            'f': \"0.055257454811517524\",\n        },\n{\n            'v': 0.037746842096824516,\n            'f': \"0.037746842096824516\",\n        },\n{\n            'v': 0.03416670220580352,\n            'f': \"0.03416670220580352\",\n        },\n{\n            'v': 0.03757757628067645,\n            'f': \"0.03757757628067645\",\n        },\n{\n            'v': 0.03130055084333974,\n            'f': \"0.03130055084333974\",\n        },\n{\n            'v': 1.0,\n            'f': \"1.0\",\n        },\n{\n            'v': 0.3753414222949606,\n            'f': \"0.3753414222949606\",\n        },\n{\n            'v': 0.040782497935031754,\n            'f': \"0.040782497935031754\",\n        },\n{\n            'v': 0.0236888151369547,\n            'f': \"0.0236888151369547\",\n        },\n{\n            'v': -0.0036334742665683796,\n            'f': \"-0.0036334742665683796\",\n        },\n{\n            'v': -0.01698842457450118,\n            'f': \"-0.01698842457450118\",\n        }],\n [\"BuildingArea\",\n{\n            'v': 0.13851942756305877,\n            'f': \"0.13851942756305877\",\n        },\n{\n            'v': 0.10075363947310191,\n            'f': \"0.10075363947310191\",\n        },\n{\n            'v': 0.07678570519880912,\n            'f': \"0.07678570519880912\",\n        },\n{\n            'v': 0.04169677361921426,\n            'f': \"0.04169677361921426\",\n        },\n{\n            'v': 0.13695569859393752,\n            'f': \"0.13695569859393752\",\n        },\n{\n            'v': 0.12921598688696337,\n            'f': \"0.12921598688696337\",\n        },\n{\n            'v': 0.09416639814799259,\n            'f': \"0.09416639814799259\",\n        },\n{\n            'v': 0.3753414222949606,\n            'f': \"0.3753414222949606\",\n        },\n{\n            'v': 1.0,\n            'f': \"1.0\",\n        },\n{\n            'v': 0.07297643335917056,\n            'f': \"0.07297643335917056\",\n        },\n{\n            'v': 0.02587976147071477,\n            'f': \"0.02587976147071477\",\n        },\n{\n            'v': -0.010701996589585741,\n            'f': \"-0.010701996589585741\",\n        },\n{\n            'v': -0.026473000711619284,\n            'f': \"-0.026473000711619284\",\n        }],\n [\"YearBuilt\",\n{\n            'v': -0.0016375920740902292,\n            'f': \"-0.0016375920740902292\",\n        },\n{\n            'v': -0.3333055641267083,\n            'f': \"-0.3333055641267083\",\n        },\n{\n            'v': 0.31452238510863667,\n            'f': \"0.31452238510863667\",\n        },\n{\n            'v': 0.09736513997653554,\n            'f': \"0.09736513997653554\",\n        },\n{\n            'v': 0.007895580327770968,\n            'f': \"0.007895580327770968\",\n        },\n{\n            'v': 0.18551388871291144,\n            'f': \"0.18551388871291144\",\n        },\n{\n            'v': 0.1250565149106136,\n            'f': \"0.1250565149106136\",\n        },\n{\n            'v': 0.040782497935031754,\n            'f': \"0.040782497935031754\",\n        },\n{\n            'v': 0.07297643335917056,\n            'f': \"0.07297643335917056\",\n        },\n{\n            'v': 1.0,\n            'f': \"1.0\",\n        },\n{\n            'v': 0.0953622484145904,\n            'f': \"0.0953622484145904\",\n        },\n{\n            'v': -0.0215958822280597,\n            'f': \"-0.0215958822280597\",\n        },\n{\n            'v': 0.02327777346589808,\n            'f': \"0.02327777346589808\",\n        }],\n [\"Lattitude\",\n{\n            'v': 0.020935634634975983,\n            'f': \"0.020935634634975983\",\n        },\n{\n            'v': -0.21560711448223507,\n            'f': \"-0.21560711448223507\",\n        },\n{\n            'v': -0.08957263872479658,\n            'f': \"-0.08957263872479658\",\n        },\n{\n            'v': -0.21878049935433036,\n            'f': \"-0.21878049935433036\",\n        },\n{\n            'v': 0.0190869797158461,\n            'f': \"0.0190869797158461\",\n        },\n{\n            'v': -0.04739185853708904,\n            'f': \"-0.04739185853708904\",\n        },\n{\n            'v': 0.0020031965685590393,\n            'f': \"0.0020031965685590393\",\n        },\n{\n            'v': 0.0236888151369547,\n            'f': \"0.0236888151369547\",\n        },\n{\n            'v': 0.02587976147071477,\n            'f': \"0.02587976147071477\",\n        },\n{\n            'v': 0.0953622484145904,\n            'f': \"0.0953622484145904\",\n        },\n{\n            'v': 1.0,\n            'f': \"1.0\",\n        },\n{\n            'v': -0.3472586935004688,\n            'f': \"-0.3472586935004688\",\n        },\n{\n            'v': 0.021270868820519182,\n            'f': \"0.021270868820519182\",\n        }],\n [\"Longtitude\",\n{\n            'v': 0.08713009594247155,\n            'f': \"0.08713009594247155\",\n        },\n{\n            'v': 0.19787369804692498,\n            'f': \"0.19787369804692498\",\n        },\n{\n            'v': 0.18895137459692504,\n            'f': \"0.18895137459692504\",\n        },\n{\n            'v': 0.36480838172223656,\n            'f': \"0.36480838172223656\",\n        },\n{\n            'v': 0.0906581503174582,\n            'f': \"0.0906581503174582\",\n        },\n{\n            'v': 0.10354700052563892,\n            'f': \"0.10354700052563892\",\n        },\n{\n            'v': 0.039070711792312925,\n            'f': \"0.039070711792312925\",\n        },\n{\n            'v': -0.0036334742665683796,\n            'f': \"-0.0036334742665683796\",\n        },\n{\n            'v': -0.010701996589585741,\n            'f': \"-0.010701996589585741\",\n        },\n{\n            'v': -0.0215958822280597,\n            'f': \"-0.0215958822280597\",\n        },\n{\n            'v': -0.3472586935004688,\n            'f': \"-0.3472586935004688\",\n        },\n{\n            'v': 1.0,\n            'f': \"1.0\",\n        },\n{\n            'v': 0.028486007963157024,\n            'f': \"0.028486007963157024\",\n        }],\n [\"Propertycount\",\n{\n            'v': -0.07957156685879407,\n            'f': \"-0.07957156685879407\",\n        },\n{\n            'v': -0.05901668608374415,\n            'f': \"-0.05901668608374415\",\n        },\n{\n            'v': -0.021704924102614973,\n            'f': \"-0.021704924102614973\",\n        },\n{\n            'v': 0.02321727638643585,\n            'f': \"0.02321727638643585\",\n        },\n{\n            'v': -0.059863153747740074,\n            'f': \"-0.059863153747740074\",\n        },\n{\n            'v': -0.04031871448403721,\n            'f': \"-0.04031871448403721\",\n        },\n{\n            'v': -0.01395518250084265,\n            'f': \"-0.01395518250084265\",\n        },\n{\n            'v': -0.01698842457450118,\n            'f': \"-0.01698842457450118\",\n        },\n{\n            'v': -0.026473000711619284,\n            'f': \"-0.026473000711619284\",\n        },\n{\n            'v': 0.02327777346589808,\n            'f': \"0.02327777346589808\",\n        },\n{\n            'v': 0.021270868820519182,\n            'f': \"0.021270868820519182\",\n        },\n{\n            'v': 0.028486007963157024,\n            'f': \"0.028486007963157024\",\n        },\n{\n            'v': 1.0,\n            'f': \"1.0\",\n        }]],\n        columns: [[\"string\", \"index\"], [\"number\", \"Rooms\"], [\"number\", \"Price\"], [\"number\", \"Distance\"], [\"number\", \"Postcode\"], [\"number\", \"Bedroom2\"], [\"number\", \"Bathroom\"], [\"number\", \"Car\"], [\"number\", \"Landsize\"], [\"number\", \"BuildingArea\"], [\"number\", \"YearBuilt\"], [\"number\", \"Lattitude\"], [\"number\", \"Longtitude\"], [\"number\", \"Propertycount\"]],\n        columnOptions: [{\"width\": \"1px\", \"className\": \"index_column\"}],\n        rowsPerPage: 25,\n        helpUrl: \"https://colab.research.google.com/notebooks/data_table.ipynb\",\n        suppressOutputScrolling: true,\n        minimumWidth: undefined,\n      });\n    "
          },
          "metadata": {},
          "execution_count": 94
        }
      ]
    },
    {
      "cell_type": "code",
      "source": [
        "fig = plt.figure(figsize=(8,8))\n",
        "plt.matshow(corr, cmap='RdBu', fignum=fig.number)\n",
        "plt.xticks(range(len(corr.columns)), corr.columns, rotation='vertical');\n",
        "plt.yticks(range(len(corr.columns)), corr.columns);"
      ],
      "metadata": {
        "colab": {
          "base_uri": "https://localhost:8080/",
          "height": 558
        },
        "id": "ZKfoncf1BNnw",
        "outputId": "3595f605-9cfc-49a8-dee4-f2244de88413"
      },
      "execution_count": 97,
      "outputs": [
        {
          "output_type": "display_data",
          "data": {
            "text/plain": [
              "<Figure size 576x576 with 1 Axes>"
            ],
            "image/png": "[encoded data removed]"
          },
          "metadata": {
            "needs_background": "light"
          }
        }
      ]
    },
    {
      "cell_type": "code",
      "source": [
        "ax = sales.plot(kind='scatter', x='Price', y='Rooms', figsize=(6,6))\n",
        "ax.xaxis.get_major_formatter().set_scientific(False)"
      ],
      "metadata": {
        "colab": {
          "base_uri": "https://localhost:8080/",
          "height": 388
        },
        "id": "JkKHe8nvBR3Z",
        "outputId": "b1704a35-f711-4ed8-e5bb-ccc94501a08c"
      },
      "execution_count": 104,
      "outputs": [
        {
          "output_type": "display_data",
          "data": {
            "text/plain": [
              "<Figure size 432x432 with 1 Axes>"
            ],
            "image/png": "[encoded data removed]"
          },
          "metadata": {
            "needs_background": "light"
          }
        }
      ]
    },
    {
      "cell_type": "code",
      "source": [
        "ax = sales[['Price', 'Regionname']].boxplot(by='Regionname', vert=False, figsize=(10,6))\n",
        "ax.xaxis.get_major_formatter().set_scientific(False)\n"
      ],
      "metadata": {
        "colab": {
          "base_uri": "https://localhost:8080/",
          "height": 420
        },
        "id": "ECzjxduaB2TT",
        "outputId": "24fd0553-24f5-43f3-f6a7-39461ccbd188"
      },
      "execution_count": 111,
      "outputs": [
        {
          "output_type": "display_data",
          "data": {
            "text/plain": [
              "<Figure size 720x432 with 1 Axes>"
            ],
            "image/png": "[encoded data removed]"
          },
          "metadata": {
            "needs_background": "light"
          }
        }
      ]
    },
    {
      "cell_type": "code",
      "source": [
        "# Number of houses sold by region\n",
        "x = 0\n",
        "y = 0\n",
        "width = 100\n",
        "height = 100\n",
        "\n",
        "region_names = sales['Regionname'].value_counts().index\n",
        "values = sales['Regionname'].value_counts().tolist()\n",
        "\n",
        "normed = squarify.normalize_sizes(values, width, height)\n",
        "rects = squarify.squarify(normed, x, y, width, height)\n",
        "\n",
        "colors = ['rgb(200, 255, 144)','rgb(135, 206, 235)',\n",
        "          'rgb(235, 164, 135)','rgb(220, 208, 255)',\n",
        "          'rgb(253, 253, 150)','rgb(255, 127, 80)', \n",
        "         'rgb(218, 156, 133)', 'rgb(245, 92, 76)']\n",
        "\n",
        "shapes = []\n",
        "annotations = []\n",
        "counter = 0\n",
        "\n",
        "for r in rects:\n",
        "    shapes.append(\n",
        "        dict(\n",
        "            type = 'rect',\n",
        "            x0 = r['x'],\n",
        "            y0 = r['y'],\n",
        "            x1 = r['x'] + r['dx'],\n",
        "            y1 = r['y'] + r['dy'],\n",
        "            line = dict(width=2),\n",
        "            fillcolor = colors[counter]\n",
        "        )\n",
        "    )\n",
        "    annotations.append(\n",
        "        dict(\n",
        "            x = r['x']+(r['dx']/2),\n",
        "            y = r['y']+(r['dy']/2),\n",
        "            text = values[counter],\n",
        "            showarrow = False\n",
        "        )\n",
        "    )\n",
        "    counter = counter + 1\n",
        "    if counter >= len(colors):\n",
        "        counter = 0\n",
        "    \n",
        "# For hover text\n",
        "trace0 = go.Scatter(\n",
        "    x = [ r['x']+(r['dx']/2) for r in rects],\n",
        "    y = [ r['y']+(r['dy']/2) for r in rects],\n",
        "    text = [ str(v) for v in region_names],\n",
        "    mode='text',\n",
        ")\n",
        "\n",
        "layout = dict(\n",
        "    title='Number of Houses Sold <br> <i>(Segmented by Region)</i>',\n",
        "    height=700, \n",
        "    width=700,\n",
        "    xaxis=dict(showgrid=False,zeroline=False),\n",
        "    yaxis=dict(showgrid=False,zeroline=False),\n",
        "    shapes=shapes,\n",
        "    annotations=annotations,\n",
        "    hovermode='closest'\n",
        ")\n",
        "\n",
        "# With hovertext\n",
        "figure = dict(data=[trace0], layout=layout)\n",
        "\n",
        "iplot(figure, filename='squarify-treemap')"
      ],
      "metadata": {
        "colab": {
          "base_uri": "https://localhost:8080/",
          "height": 717
        },
        "id": "9gMYzHCfFnBB",
        "outputId": "bf6eba00-81ec-41b5-96a7-30f1239615cc"
      },
      "execution_count": 120,
      "outputs": [
        {
          "output_type": "display_data",
          "data": {
            "text/html": [
              "<html>\n",
              "<head><meta charset=\"utf-8\" /></head>\n",
              "<body>\n",
              "    <div>            <script src=\"https://cdnjs.cloudflare.com/ajax/libs/mathjax/2.7.5/MathJax.js?config=TeX-AMS-MML_SVG\"></script><script type=\"text/javascript\">if (window.MathJax) {MathJax.Hub.Config({SVG: {font: \"STIX-Web\"}});}</script>                <script type=\"text/javascript\">window.PlotlyConfig = {MathJaxConfig: 'local'};</script>\n",
              "        <script src=\"https://cdn.plot.ly/plotly-2.8.3.min.js\"></script>                <div id=\"22907b07-71fa-406b-b50d-3ef9d16de454\" class=\"plotly-graph-div\" style=\"height:700px; width:700px;\"></div>            <script type=\"text/javascript\">                                    window.PLOTLYENV=window.PLOTLYENV || {};                                    if (document.getElementById(\"22907b07-71fa-406b-b50d-3ef9d16de454\")) {                    Plotly.newPlot(                        \"22907b07-71fa-406b-b50d-3ef9d16de454\",                        [{\"mode\":\"text\",\"text\":[\"Southern Metropolitan\",\"Northern Metropolitan\",\"Western Metropolitan\",\"Eastern Metropolitan\",\"South-Eastern Metropolitan\",\"Eastern Victoria\",\"Northern Victoria\",\"Western Victoria\"],\"x\":[30.076347085596826,30.076347085596826,80.07634708559682,80.07634708559682,75.25592682139977,95.17957973580295,95.17957973580295,95.17957973580285],\"y\":[26.006834268977304,76.00683426897731,26.78242446573323,68.63485630066322,91.85243183492999,86.8649017899572,93.18497803015167,98.17250807512445],\"type\":\"scatter\"}],                        {\"annotations\":[{\"showarrow\":false,\"text\":\"8524\",\"x\":30.076347085596826,\"y\":26.006834268977304},{\"showarrow\":false,\"text\":\"7864\",\"x\":30.076347085596826,\"y\":76.00683426897731},{\"showarrow\":false,\"text\":\"5815\",\"x\":80.07634708559682,\"y\":26.78242446573323},{\"showarrow\":false,\"text\":\"3272\",\"x\":80.07634708559682,\"y\":68.63485630066322},{\"showarrow\":false,\"text\":\"1341\",\"x\":75.25592682139977,\"y\":91.85243183492999},{\"showarrow\":false,\"text\":\"166\",\"x\":95.17957973580295,\"y\":86.8649017899572},{\"showarrow\":false,\"text\":\"166\",\"x\":95.17957973580295,\"y\":93.18497803015167},{\"showarrow\":false,\"text\":\"96\",\"x\":95.17957973580285,\"y\":98.17250807512445}],\"height\":700,\"hovermode\":\"closest\",\"shapes\":[{\"fillcolor\":\"rgb(200, 255, 144)\",\"line\":{\"width\":2},\"type\":\"rect\",\"x0\":0,\"x1\":60.15269417119365,\"y0\":0,\"y1\":52.01366853795461},{\"fillcolor\":\"rgb(135, 206, 235)\",\"line\":{\"width\":2},\"type\":\"rect\",\"x0\":0,\"x1\":60.15269417119365,\"y0\":52.01366853795461,\"y1\":100.0},{\"fillcolor\":\"rgb(235, 164, 135)\",\"line\":{\"width\":2},\"type\":\"rect\",\"x0\":60.15269417119365,\"x1\":100.0,\"y0\":0,\"y1\":53.56484893146646},{\"fillcolor\":\"rgb(220, 208, 255)\",\"line\":{\"width\":2},\"type\":\"rect\",\"x0\":60.15269417119365,\"x1\":100.0,\"y0\":53.56484893146646,\"y1\":83.70486366985998},{\"fillcolor\":\"rgb(253, 253, 150)\",\"line\":{\"width\":2},\"type\":\"rect\",\"x0\":60.15269417119365,\"x1\":90.35915947160589,\"y0\":83.70486366985998,\"y1\":100.0},{\"fillcolor\":\"rgb(255, 127, 80)\",\"line\":{\"width\":2},\"type\":\"rect\",\"x0\":90.35915947160589,\"x1\":100.0,\"y0\":83.70486366985998,\"y1\":90.02493991005444},{\"fillcolor\":\"rgb(218, 156, 133)\",\"line\":{\"width\":2},\"type\":\"rect\",\"x0\":90.35915947160589,\"x1\":100.0,\"y0\":90.02493991005444,\"y1\":96.34501615024891},{\"fillcolor\":\"rgb(245, 92, 76)\",\"line\":{\"width\":2},\"type\":\"rect\",\"x0\":90.35915947160589,\"x1\":99.99999999999979,\"y0\":96.34501615024891,\"y1\":100.00000000000001}],\"template\":{\"data\":{\"barpolar\":[{\"marker\":{\"line\":{\"color\":\"#E5ECF6\",\"width\":0.5},\"pattern\":{\"fillmode\":\"overlay\",\"size\":10,\"solidity\":0.2}},\"type\":\"barpolar\"}],\"bar\":[{\"error_x\":{\"color\":\"#2a3f5f\"},\"error_y\":{\"color\":\"#2a3f5f\"},\"marker\":{\"line\":{\"color\":\"#E5ECF6\",\"width\":0.5},\"pattern\":{\"fillmode\":\"overlay\",\"size\":10,\"solidity\":0.2}},\"type\":\"bar\"}],\"carpet\":[{\"aaxis\":{\"endlinecolor\":\"#2a3f5f\",\"gridcolor\":\"white\",\"linecolor\":\"white\",\"minorgridcolor\":\"white\",\"startlinecolor\":\"#2a3f5f\"},\"baxis\":{\"endlinecolor\":\"#2a3f5f\",\"gridcolor\":\"white\",\"linecolor\":\"white\",\"minorgridcolor\":\"white\",\"startlinecolor\":\"#2a3f5f\"},\"type\":\"carpet\"}],\"choropleth\":[{\"colorbar\":{\"outlinewidth\":0,\"ticks\":\"\"},\"type\":\"choropleth\"}],\"contourcarpet\":[{\"colorbar\":{\"outlinewidth\":0,\"ticks\":\"\"},\"type\":\"contourcarpet\"}],\"contour\":[{\"colorbar\":{\"outlinewidth\":0,\"ticks\":\"\"},\"colorscale\":[[0.0,\"#0d0887\"],[0.1111111111111111,\"#46039f\"],[0.2222222222222222,\"#7201a8\"],[0.3333333333333333,\"#9c179e\"],[0.4444444444444444,\"#bd3786\"],[0.5555555555555556,\"#d8576b\"],[0.6666666666666666,\"#ed7953\"],[0.7777777777777778,\"#fb9f3a\"],[0.8888888888888888,\"#fdca26\"],[1.0,\"#f0f921\"]],\"type\":\"contour\"}],\"heatmapgl\":[{\"colorbar\":{\"outlinewidth\":0,\"ticks\":\"\"},\"colorscale\":[[0.0,\"#0d0887\"],[0.1111111111111111,\"#46039f\"],[0.2222222222222222,\"#7201a8\"],[0.3333333333333333,\"#9c179e\"],[0.4444444444444444,\"#bd3786\"],[0.5555555555555556,\"#d8576b\"],[0.6666666666666666,\"#ed7953\"],[0.7777777777777778,\"#fb9f3a\"],[0.8888888888888888,\"#fdca26\"],[1.0,\"#f0f921\"]],\"type\":\"heatmapgl\"}],\"heatmap\":[{\"colorbar\":{\"outlinewidth\":0,\"ticks\":\"\"},\"colorscale\":[[0.0,\"#0d0887\"],[0.1111111111111111,\"#46039f\"],[0.2222222222222222,\"#7201a8\"],[0.3333333333333333,\"#9c179e\"],[0.4444444444444444,\"#bd3786\"],[0.5555555555555556,\"#d8576b\"],[0.6666666666666666,\"#ed7953\"],[0.7777777777777778,\"#fb9f3a\"],[0.8888888888888888,\"#fdca26\"],[1.0,\"#f0f921\"]],\"type\":\"heatmap\"}],\"histogram2dcontour\":[{\"colorbar\":{\"outlinewidth\":0,\"ticks\":\"\"},\"colorscale\":[[0.0,\"#0d0887\"],[0.1111111111111111,\"#46039f\"],[0.2222222222222222,\"#7201a8\"],[0.3333333333333333,\"#9c179e\"],[0.4444444444444444,\"#bd3786\"],[0.5555555555555556,\"#d8576b\"],[0.6666666666666666,\"#ed7953\"],[0.7777777777777778,\"#fb9f3a\"],[0.8888888888888888,\"#fdca26\"],[1.0,\"#f0f921\"]],\"type\":\"histogram2dcontour\"}],\"histogram2d\":[{\"colorbar\":{\"outlinewidth\":0,\"ticks\":\"\"},\"colorscale\":[[0.0,\"#0d0887\"],[0.1111111111111111,\"#46039f\"],[0.2222222222222222,\"#7201a8\"],[0.3333333333333333,\"#9c179e\"],[0.4444444444444444,\"#bd3786\"],[0.5555555555555556,\"#d8576b\"],[0.6666666666666666,\"#ed7953\"],[0.7777777777777778,\"#fb9f3a\"],[0.8888888888888888,\"#fdca26\"],[1.0,\"#f0f921\"]],\"type\":\"histogram2d\"}],\"histogram\":[{\"marker\":{\"pattern\":{\"fillmode\":\"overlay\",\"size\":10,\"solidity\":0.2}},\"type\":\"histogram\"}],\"mesh3d\":[{\"colorbar\":{\"outlinewidth\":0,\"ticks\":\"\"},\"type\":\"mesh3d\"}],\"parcoords\":[{\"line\":{\"colorbar\":{\"outlinewidth\":0,\"ticks\":\"\"}},\"type\":\"parcoords\"}],\"pie\":[{\"automargin\":true,\"type\":\"pie\"}],\"scatter3d\":[{\"line\":{\"colorbar\":{\"outlinewidth\":0,\"ticks\":\"\"}},\"marker\":{\"colorbar\":{\"outlinewidth\":0,\"ticks\":\"\"}},\"type\":\"scatter3d\"}],\"scattercarpet\":[{\"marker\":{\"colorbar\":{\"outlinewidth\":0,\"ticks\":\"\"}},\"type\":\"scattercarpet\"}],\"scattergeo\":[{\"marker\":{\"colorbar\":{\"outlinewidth\":0,\"ticks\":\"\"}},\"type\":\"scattergeo\"}],\"scattergl\":[{\"marker\":{\"colorbar\":{\"outlinewidth\":0,\"ticks\":\"\"}},\"type\":\"scattergl\"}],\"scattermapbox\":[{\"marker\":{\"colorbar\":{\"outlinewidth\":0,\"ticks\":\"\"}},\"type\":\"scattermapbox\"}],\"scatterpolargl\":[{\"marker\":{\"colorbar\":{\"outlinewidth\":0,\"ticks\":\"\"}},\"type\":\"scatterpolargl\"}],\"scatterpolar\":[{\"marker\":{\"colorbar\":{\"outlinewidth\":0,\"ticks\":\"\"}},\"type\":\"scatterpolar\"}],\"scatter\":[{\"marker\":{\"colorbar\":{\"outlinewidth\":0,\"ticks\":\"\"}},\"type\":\"scatter\"}],\"scatterternary\":[{\"marker\":{\"colorbar\":{\"outlinewidth\":0,\"ticks\":\"\"}},\"type\":\"scatterternary\"}],\"surface\":[{\"colorbar\":{\"outlinewidth\":0,\"ticks\":\"\"},\"colorscale\":[[0.0,\"#0d0887\"],[0.1111111111111111,\"#46039f\"],[0.2222222222222222,\"#7201a8\"],[0.3333333333333333,\"#9c179e\"],[0.4444444444444444,\"#bd3786\"],[0.5555555555555556,\"#d8576b\"],[0.6666666666666666,\"#ed7953\"],[0.7777777777777778,\"#fb9f3a\"],[0.8888888888888888,\"#fdca26\"],[1.0,\"#f0f921\"]],\"type\":\"surface\"}],\"table\":[{\"cells\":{\"fill\":{\"color\":\"#EBF0F8\"},\"line\":{\"color\":\"white\"}},\"header\":{\"fill\":{\"color\":\"#C8D4E3\"},\"line\":{\"color\":\"white\"}},\"type\":\"table\"}]},\"layout\":{\"annotationdefaults\":{\"arrowcolor\":\"#2a3f5f\",\"arrowhead\":0,\"arrowwidth\":1},\"autotypenumbers\":\"strict\",\"coloraxis\":{\"colorbar\":{\"outlinewidth\":0,\"ticks\":\"\"}},\"colorscale\":{\"diverging\":[[0,\"#8e0152\"],[0.1,\"#c51b7d\"],[0.2,\"#de77ae\"],[0.3,\"#f1b6da\"],[0.4,\"#fde0ef\"],[0.5,\"#f7f7f7\"],[0.6,\"#e6f5d0\"],[0.7,\"#b8e186\"],[0.8,\"#7fbc41\"],[0.9,\"#4d9221\"],[1,\"#276419\"]],\"sequential\":[[0.0,\"#0d0887\"],[0.1111111111111111,\"#46039f\"],[0.2222222222222222,\"#7201a8\"],[0.3333333333333333,\"#9c179e\"],[0.4444444444444444,\"#bd3786\"],[0.5555555555555556,\"#d8576b\"],[0.6666666666666666,\"#ed7953\"],[0.7777777777777778,\"#fb9f3a\"],[0.8888888888888888,\"#fdca26\"],[1.0,\"#f0f921\"]],\"sequentialminus\":[[0.0,\"#0d0887\"],[0.1111111111111111,\"#46039f\"],[0.2222222222222222,\"#7201a8\"],[0.3333333333333333,\"#9c179e\"],[0.4444444444444444,\"#bd3786\"],[0.5555555555555556,\"#d8576b\"],[0.6666666666666666,\"#ed7953\"],[0.7777777777777778,\"#fb9f3a\"],[0.8888888888888888,\"#fdca26\"],[1.0,\"#f0f921\"]]},\"colorway\":[\"#636efa\",\"#EF553B\",\"#00cc96\",\"#ab63fa\",\"#FFA15A\",\"#19d3f3\",\"#FF6692\",\"#B6E880\",\"#FF97FF\",\"#FECB52\"],\"font\":{\"color\":\"#2a3f5f\"},\"geo\":{\"bgcolor\":\"white\",\"lakecolor\":\"white\",\"landcolor\":\"#E5ECF6\",\"showlakes\":true,\"showland\":true,\"subunitcolor\":\"white\"},\"hoverlabel\":{\"align\":\"left\"},\"hovermode\":\"closest\",\"mapbox\":{\"style\":\"light\"},\"paper_bgcolor\":\"white\",\"plot_bgcolor\":\"#E5ECF6\",\"polar\":{\"angularaxis\":{\"gridcolor\":\"white\",\"linecolor\":\"white\",\"ticks\":\"\"},\"bgcolor\":\"#E5ECF6\",\"radialaxis\":{\"gridcolor\":\"white\",\"linecolor\":\"white\",\"ticks\":\"\"}},\"scene\":{\"xaxis\":{\"backgroundcolor\":\"#E5ECF6\",\"gridcolor\":\"white\",\"gridwidth\":2,\"linecolor\":\"white\",\"showbackground\":true,\"ticks\":\"\",\"zerolinecolor\":\"white\"},\"yaxis\":{\"backgroundcolor\":\"#E5ECF6\",\"gridcolor\":\"white\",\"gridwidth\":2,\"linecolor\":\"white\",\"showbackground\":true,\"ticks\":\"\",\"zerolinecolor\":\"white\"},\"zaxis\":{\"backgroundcolor\":\"#E5ECF6\",\"gridcolor\":\"white\",\"gridwidth\":2,\"linecolor\":\"white\",\"showbackground\":true,\"ticks\":\"\",\"zerolinecolor\":\"white\"}},\"shapedefaults\":{\"line\":{\"color\":\"#2a3f5f\"}},\"ternary\":{\"aaxis\":{\"gridcolor\":\"white\",\"linecolor\":\"white\",\"ticks\":\"\"},\"baxis\":{\"gridcolor\":\"white\",\"linecolor\":\"white\",\"ticks\":\"\"},\"bgcolor\":\"#E5ECF6\",\"caxis\":{\"gridcolor\":\"white\",\"linecolor\":\"white\",\"ticks\":\"\"}},\"title\":{\"x\":0.05},\"xaxis\":{\"automargin\":true,\"gridcolor\":\"white\",\"linecolor\":\"white\",\"ticks\":\"\",\"title\":{\"standoff\":15},\"zerolinecolor\":\"white\",\"zerolinewidth\":2},\"yaxis\":{\"automargin\":true,\"gridcolor\":\"white\",\"linecolor\":\"white\",\"ticks\":\"\",\"title\":{\"standoff\":15},\"zerolinecolor\":\"white\",\"zerolinewidth\":2}}},\"title\":{\"text\":\"Number of Houses Sold <br> <i>(Segmented by Region)</i>\"},\"width\":700,\"xaxis\":{\"showgrid\":false,\"zeroline\":false},\"yaxis\":{\"showgrid\":false,\"zeroline\":false}},                        {\"responsive\": true}                    ).then(function(){\n",
              "                            \n",
              "var gd = document.getElementById('22907b07-71fa-406b-b50d-3ef9d16de454');\n",
              "var x = new MutationObserver(function (mutations, observer) {{\n",
              "        var display = window.getComputedStyle(gd).display;\n",
              "        if (!display || display === 'none') {{\n",
              "            console.log([gd, 'removed!']);\n",
              "            Plotly.purge(gd);\n",
              "            observer.disconnect();\n",
              "        }}\n",
              "}});\n",
              "\n",
              "// Listen for the removal of the full notebook cells\n",
              "var notebookContainer = gd.closest('#notebook-container');\n",
              "if (notebookContainer) {{\n",
              "    x.observe(notebookContainer, {childList: true});\n",
              "}}\n",
              "\n",
              "// Listen for the clearing of the current output cell\n",
              "var outputEl = gd.closest('.output');\n",
              "if (outputEl) {{\n",
              "    x.observe(outputEl, {childList: true});\n",
              "}}\n",
              "\n",
              "                        })                };                            </script>        </div>\n",
              "</body>\n",
              "</html>"
            ]
          },
          "metadata": {}
        }
      ]
    },
    {
      "cell_type": "code",
      "source": [
        "CA_by_region = sales.groupby('Regionname')['CouncilArea'].unique()"
      ],
      "metadata": {
        "id": "TayfGbnCPPLE"
      },
      "execution_count": 8,
      "outputs": []
    },
    {
      "cell_type": "code",
      "source": [
        "print(CA_by_region.to_string())"
      ],
      "metadata": {
        "colab": {
          "base_uri": "https://localhost:8080/"
        },
        "id": "CNB538cqQN0y",
        "outputId": "6d2db7cb-77ee-47fe-e9bc-13ba5e05de12"
      },
      "execution_count": 14,
      "outputs": [
        {
          "output_type": "stream",
          "name": "stdout",
          "text": [
            "Regionname\n",
            "Eastern Metropolitan          [Whitehorse City Council, Manningham City Coun...\n",
            "Eastern Victoria              [Casey City Council, Cardinia Shire Council, F...\n",
            "Northern Metropolitan         [Yarra City Council, Darebin City Council, Mor...\n",
            "Northern Victoria             [Nillumbik Shire Council, Macedon Ranges Shire...\n",
            "South-Eastern Metropolitan    [Kingston City Council, Monash City Council, C...\n",
            "Southern Metropolitan         [Port Phillip City Council, Stonnington City C...\n",
            "Western Metropolitan          [Moonee Valley City Council, Hobsons Bay City ...\n",
            "Western Victoria                 [Melton City Council, Moorabool Shire Council]\n"
          ]
        }
      ]
    },
    {
      "cell_type": "code",
      "source": [
        "for idx, i in zip(CA_by_region.index, CA_by_region):\n",
        "    print(idx, i)"
      ],
      "metadata": {
        "colab": {
          "base_uri": "https://localhost:8080/"
        },
        "id": "rRLNWTxzQ65A",
        "outputId": "464290da-2706-4c28-f09a-7180bb543bc1"
      },
      "execution_count": 17,
      "outputs": [
        {
          "output_type": "stream",
          "name": "stdout",
          "text": [
            "Eastern Metropolitan ['Whitehorse City Council' 'Manningham City Council'\n",
            " 'Banyule City Council' 'Boroondara City Council' 'Knox City Council'\n",
            " 'Maroondah City Council' 'Monash City Council' 'Nillumbik Shire Council']\n",
            "Eastern Victoria ['Casey City Council' 'Cardinia Shire Council' 'Frankston City Council'\n",
            " 'Yarra Ranges Shire Council' 'Manningham City Council']\n",
            "Northern Metropolitan ['Yarra City Council' 'Darebin City Council' 'Moreland City Council'\n",
            " 'Melbourne City Council' 'Banyule City Council' 'Hume City Council'\n",
            " 'Whittlesea City Council']\n",
            "Northern Victoria ['Nillumbik Shire Council' 'Macedon Ranges Shire Council'\n",
            " 'Yarra Ranges Shire Council' 'Melton City Council'\n",
            " 'Mitchell Shire Council' 'Whittlesea City Council']\n",
            "South-Eastern Metropolitan ['Kingston City Council' 'Monash City Council' 'Casey City Council'\n",
            " 'Greater Dandenong City Council' 'Frankston City Council'\n",
            " 'Knox City Council']\n",
            "Southern Metropolitan ['Port Phillip City Council' 'Stonnington City Council'\n",
            " 'Boroondara City Council' 'Monash City Council' 'Glen Eira City Council'\n",
            " 'Bayside City Council' 'Kingston City Council' 'Melbourne City Council']\n",
            "Western Metropolitan ['Moonee Valley City Council' 'Hobsons Bay City Council'\n",
            " 'Maribyrnong City Council' 'Moreland City Council'\n",
            " 'Brimbank City Council' 'Melton City Council' 'Hume City Council'\n",
            " 'Wyndham City Council']\n",
            "Western Victoria ['Melton City Council' 'Moorabool Shire Council']\n"
          ]
        }
      ]
    },
    {
      "cell_type": "code",
      "source": [
        "CA_count = sales.CouncilArea.value_counts()\n",
        "top_10_CA = sales[sales['CouncilArea'].isin(CA_count.index[:10])]"
      ],
      "metadata": {
        "id": "x-R4CtqALomv"
      },
      "execution_count": 160,
      "outputs": []
    },
    {
      "cell_type": "code",
      "source": [
        "top_10_CA"
      ],
      "metadata": {
        "colab": {
          "base_uri": "https://localhost:8080/",
          "height": 783
        },
        "id": "akX4Y3sIOJux",
        "outputId": "a6c4e8b6-8450-4a00-fa6c-40306cc1fd6b"
      },
      "execution_count": 162,
      "outputs": [
        {
          "output_type": "stream",
          "name": "stdout",
          "text": [
            "Warning: Total number of columns (21) exceeds max_columns (20). Falling back to pandas display.\n"
          ]
        },
        {
          "output_type": "execute_result",
          "data": {
            "text/plain": [
              "             Suburb           Address  Rooms Type      Price Method  \\\n",
              "66     Airport West     154 Halsey Rd      3    t   840000.0     PI   \n",
              "67     Airport West     50 Bedford St      3    h   730000.0     VB   \n",
              "68     Airport West     50 Bedford St      3    h   770000.0     SP   \n",
              "70     Airport West        23 Hart St      2    h   603000.0      S   \n",
              "71     Airport West    1/80 Hawker St      3    t   700000.0      S   \n",
              "...             ...               ...    ...  ...        ...    ...   \n",
              "34852    Yarraville       13 Burns St      4    h  1480000.0     PI   \n",
              "34853    Yarraville     29A Murray St      2    h   888000.0     SP   \n",
              "34854    Yarraville    147A Severn St      2    t   705000.0      S   \n",
              "34855    Yarraville  12/37 Stephen St      3    h  1140000.0     SP   \n",
              "34856    Yarraville  3 Tarrengower St      2    h  1020000.0     PI   \n",
              "\n",
              "             SellerG        Date  Distance  Postcode  ...  Bathroom  Car  \\\n",
              "66            Nelson   3/09/2016      13.5    3042.0  ...       2.0  1.0   \n",
              "67            Nelson   3/12/2016      13.5    3042.0  ...       2.0  1.0   \n",
              "68            Nelson   4/03/2017      13.5    3042.0  ...       2.0  1.0   \n",
              "70            Nelson   4/03/2017      13.5    3042.0  ...       1.0  1.0   \n",
              "71              Brad   4/03/2017      13.5    3042.0  ...       2.0  2.0   \n",
              "...              ...         ...       ...       ...  ...       ...  ...   \n",
              "34852            Jas  24/02/2018       6.3    3013.0  ...       1.0  3.0   \n",
              "34853        Sweeney  24/02/2018       6.3    3013.0  ...       2.0  1.0   \n",
              "34854            Jas  24/02/2018       6.3    3013.0  ...       1.0  2.0   \n",
              "34855  hockingstuart  24/02/2018       6.3    3013.0  ...       NaN  NaN   \n",
              "34856             RW  24/02/2018       6.3    3013.0  ...       1.0  0.0   \n",
              "\n",
              "       Landsize  BuildingArea  YearBuilt                 CouncilArea  \\\n",
              "66        303.0         225.0     2016.0  Moonee Valley City Council   \n",
              "67          0.0         145.0     1965.0  Moonee Valley City Council   \n",
              "68          0.0         145.0     1965.0  Moonee Valley City Council   \n",
              "70        272.0          84.0     1950.0  Moonee Valley City Council   \n",
              "71        239.0         134.0     2009.0  Moonee Valley City Council   \n",
              "...         ...           ...        ...                         ...   \n",
              "34852     593.0           NaN        NaN    Maribyrnong City Council   \n",
              "34853      98.0         104.0     2018.0    Maribyrnong City Council   \n",
              "34854     220.0         120.0     2000.0    Maribyrnong City Council   \n",
              "34855       NaN           NaN        NaN    Maribyrnong City Council   \n",
              "34856     250.0         103.0     1930.0    Maribyrnong City Council   \n",
              "\n",
              "      Lattitude  Longtitude            Regionname Propertycount  \n",
              "66    -37.71800   144.87800  Western Metropolitan        3464.0  \n",
              "67    -37.72030   144.87550  Western Metropolitan        3464.0  \n",
              "68    -37.72030   144.87550  Western Metropolitan        3464.0  \n",
              "70    -37.72940   144.88800  Western Metropolitan        3464.0  \n",
              "71    -37.72180   144.88370  Western Metropolitan        3464.0  \n",
              "...         ...         ...                   ...           ...  \n",
              "34852 -37.81053   144.88467  Western Metropolitan        6543.0  \n",
              "34853 -37.81551   144.88826  Western Metropolitan        6543.0  \n",
              "34854 -37.82286   144.87856  Western Metropolitan        6543.0  \n",
              "34855       NaN         NaN  Western Metropolitan        6543.0  \n",
              "34856 -37.81810   144.89351  Western Metropolitan        6543.0  \n",
              "\n",
              "[16743 rows x 21 columns]"
            ],
            "text/html": [
              "\n",
              "  <div id=\"df-bfbf2ada-d27b-4c48-a5c8-62e2c0a2f332\">\n",
              "    <div class=\"colab-df-container\">\n",
              "      <div>\n",
              "<style scoped>\n",
              "    .dataframe tbody tr th:only-of-type {\n",
              "        vertical-align: middle;\n",
              "    }\n",
              "\n",
              "    .dataframe tbody tr th {\n",
              "        vertical-align: top;\n",
              "    }\n",
              "\n",
              "    .dataframe thead th {\n",
              "        text-align: right;\n",
              "    }\n",
              "</style>\n",
              "<table border=\"1\" class=\"dataframe\">\n",
              "  <thead>\n",
              "    <tr style=\"text-align: right;\">\n",
              "      <th></th>\n",
              "      <th>Suburb</th>\n",
              "      <th>Address</th>\n",
              "      <th>Rooms</th>\n",
              "      <th>Type</th>\n",
              "      <th>Price</th>\n",
              "      <th>Method</th>\n",
              "      <th>SellerG</th>\n",
              "      <th>Date</th>\n",
              "      <th>Distance</th>\n",
              "      <th>Postcode</th>\n",
              "      <th>...</th>\n",
              "      <th>Bathroom</th>\n",
              "      <th>Car</th>\n",
              "      <th>Landsize</th>\n",
              "      <th>BuildingArea</th>\n",
              "      <th>YearBuilt</th>\n",
              "      <th>CouncilArea</th>\n",
              "      <th>Lattitude</th>\n",
              "      <th>Longtitude</th>\n",
              "      <th>Regionname</th>\n",
              "      <th>Propertycount</th>\n",
              "    </tr>\n",
              "  </thead>\n",
              "  <tbody>\n",
              "    <tr>\n",
              "      <th>66</th>\n",
              "      <td>Airport West</td>\n",
              "      <td>154 Halsey Rd</td>\n",
              "      <td>3</td>\n",
              "      <td>t</td>\n",
              "      <td>840000.0</td>\n",
              "      <td>PI</td>\n",
              "      <td>Nelson</td>\n",
              "      <td>3/09/2016</td>\n",
              "      <td>13.5</td>\n",
              "      <td>3042.0</td>\n",
              "      <td>...</td>\n",
              "      <td>2.0</td>\n",
              "      <td>1.0</td>\n",
              "      <td>303.0</td>\n",
              "      <td>225.0</td>\n",
              "      <td>2016.0</td>\n",
              "      <td>Moonee Valley City Council</td>\n",
              "      <td>-37.71800</td>\n",
              "      <td>144.87800</td>\n",
              "      <td>Western Metropolitan</td>\n",
              "      <td>3464.0</td>\n",
              "    </tr>\n",
              "    <tr>\n",
              "      <th>67</th>\n",
              "      <td>Airport West</td>\n",
              "      <td>50 Bedford St</td>\n",
              "      <td>3</td>\n",
              "      <td>h</td>\n",
              "      <td>730000.0</td>\n",
              "      <td>VB</td>\n",
              "      <td>Nelson</td>\n",
              "      <td>3/12/2016</td>\n",
              "      <td>13.5</td>\n",
              "      <td>3042.0</td>\n",
              "      <td>...</td>\n",
              "      <td>2.0</td>\n",
              "      <td>1.0</td>\n",
              "      <td>0.0</td>\n",
              "      <td>145.0</td>\n",
              "      <td>1965.0</td>\n",
              "      <td>Moonee Valley City Council</td>\n",
              "      <td>-37.72030</td>\n",
              "      <td>144.87550</td>\n",
              "      <td>Western Metropolitan</td>\n",
              "      <td>3464.0</td>\n",
              "    </tr>\n",
              "    <tr>\n",
              "      <th>68</th>\n",
              "      <td>Airport West</td>\n",
              "      <td>50 Bedford St</td>\n",
              "      <td>3</td>\n",
              "      <td>h</td>\n",
              "      <td>770000.0</td>\n",
              "      <td>SP</td>\n",
              "      <td>Nelson</td>\n",
              "      <td>4/03/2017</td>\n",
              "      <td>13.5</td>\n",
              "      <td>3042.0</td>\n",
              "      <td>...</td>\n",
              "      <td>2.0</td>\n",
              "      <td>1.0</td>\n",
              "      <td>0.0</td>\n",
              "      <td>145.0</td>\n",
              "      <td>1965.0</td>\n",
              "      <td>Moonee Valley City Council</td>\n",
              "      <td>-37.72030</td>\n",
              "      <td>144.87550</td>\n",
              "      <td>Western Metropolitan</td>\n",
              "      <td>3464.0</td>\n",
              "    </tr>\n",
              "    <tr>\n",
              "      <th>70</th>\n",
              "      <td>Airport West</td>\n",
              "      <td>23 Hart St</td>\n",
              "      <td>2</td>\n",
              "      <td>h</td>\n",
              "      <td>603000.0</td>\n",
              "      <td>S</td>\n",
              "      <td>Nelson</td>\n",
              "      <td>4/03/2017</td>\n",
              "      <td>13.5</td>\n",
              "      <td>3042.0</td>\n",
              "      <td>...</td>\n",
              "      <td>1.0</td>\n",
              "      <td>1.0</td>\n",
              "      <td>272.0</td>\n",
              "      <td>84.0</td>\n",
              "      <td>1950.0</td>\n",
              "      <td>Moonee Valley City Council</td>\n",
              "      <td>-37.72940</td>\n",
              "      <td>144.88800</td>\n",
              "      <td>Western Metropolitan</td>\n",
              "      <td>3464.0</td>\n",
              "    </tr>\n",
              "    <tr>\n",
              "      <th>71</th>\n",
              "      <td>Airport West</td>\n",
              "      <td>1/80 Hawker St</td>\n",
              "      <td>3</td>\n",
              "      <td>t</td>\n",
              "      <td>700000.0</td>\n",
              "      <td>S</td>\n",
              "      <td>Brad</td>\n",
              "      <td>4/03/2017</td>\n",
              "      <td>13.5</td>\n",
              "      <td>3042.0</td>\n",
              "      <td>...</td>\n",
              "      <td>2.0</td>\n",
              "      <td>2.0</td>\n",
              "      <td>239.0</td>\n",
              "      <td>134.0</td>\n",
              "      <td>2009.0</td>\n",
              "      <td>Moonee Valley City Council</td>\n",
              "      <td>-37.72180</td>\n",
              "      <td>144.88370</td>\n",
              "      <td>Western Metropolitan</td>\n",
              "      <td>3464.0</td>\n",
              "    </tr>\n",
              "    <tr>\n",
              "      <th>...</th>\n",
              "      <td>...</td>\n",
              "      <td>...</td>\n",
              "      <td>...</td>\n",
              "      <td>...</td>\n",
              "      <td>...</td>\n",
              "      <td>...</td>\n",
              "      <td>...</td>\n",
              "      <td>...</td>\n",
              "      <td>...</td>\n",
              "      <td>...</td>\n",
              "      <td>...</td>\n",
              "      <td>...</td>\n",
              "      <td>...</td>\n",
              "      <td>...</td>\n",
              "      <td>...</td>\n",
              "      <td>...</td>\n",
              "      <td>...</td>\n",
              "      <td>...</td>\n",
              "      <td>...</td>\n",
              "      <td>...</td>\n",
              "      <td>...</td>\n",
              "    </tr>\n",
              "    <tr>\n",
              "      <th>34852</th>\n",
              "      <td>Yarraville</td>\n",
              "      <td>13 Burns St</td>\n",
              "      <td>4</td>\n",
              "      <td>h</td>\n",
              "      <td>1480000.0</td>\n",
              "      <td>PI</td>\n",
              "      <td>Jas</td>\n",
              "      <td>24/02/2018</td>\n",
              "      <td>6.3</td>\n",
              "      <td>3013.0</td>\n",
              "      <td>...</td>\n",
              "      <td>1.0</td>\n",
              "      <td>3.0</td>\n",
              "      <td>593.0</td>\n",
              "      <td>NaN</td>\n",
              "      <td>NaN</td>\n",
              "      <td>Maribyrnong City Council</td>\n",
              "      <td>-37.81053</td>\n",
              "      <td>144.88467</td>\n",
              "      <td>Western Metropolitan</td>\n",
              "      <td>6543.0</td>\n",
              "    </tr>\n",
              "    <tr>\n",
              "      <th>34853</th>\n",
              "      <td>Yarraville</td>\n",
              "      <td>29A Murray St</td>\n",
              "      <td>2</td>\n",
              "      <td>h</td>\n",
              "      <td>888000.0</td>\n",
              "      <td>SP</td>\n",
              "      <td>Sweeney</td>\n",
              "      <td>24/02/2018</td>\n",
              "      <td>6.3</td>\n",
              "      <td>3013.0</td>\n",
              "      <td>...</td>\n",
              "      <td>2.0</td>\n",
              "      <td>1.0</td>\n",
              "      <td>98.0</td>\n",
              "      <td>104.0</td>\n",
              "      <td>2018.0</td>\n",
              "      <td>Maribyrnong City Council</td>\n",
              "      <td>-37.81551</td>\n",
              "      <td>144.88826</td>\n",
              "      <td>Western Metropolitan</td>\n",
              "      <td>6543.0</td>\n",
              "    </tr>\n",
              "    <tr>\n",
              "      <th>34854</th>\n",
              "      <td>Yarraville</td>\n",
              "      <td>147A Severn St</td>\n",
              "      <td>2</td>\n",
              "      <td>t</td>\n",
              "      <td>705000.0</td>\n",
              "      <td>S</td>\n",
              "      <td>Jas</td>\n",
              "      <td>24/02/2018</td>\n",
              "      <td>6.3</td>\n",
              "      <td>3013.0</td>\n",
              "      <td>...</td>\n",
              "      <td>1.0</td>\n",
              "      <td>2.0</td>\n",
              "      <td>220.0</td>\n",
              "      <td>120.0</td>\n",
              "      <td>2000.0</td>\n",
              "      <td>Maribyrnong City Council</td>\n",
              "      <td>-37.82286</td>\n",
              "      <td>144.87856</td>\n",
              "      <td>Western Metropolitan</td>\n",
              "      <td>6543.0</td>\n",
              "    </tr>\n",
              "    <tr>\n",
              "      <th>34855</th>\n",
              "      <td>Yarraville</td>\n",
              "      <td>12/37 Stephen St</td>\n",
              "      <td>3</td>\n",
              "      <td>h</td>\n",
              "      <td>1140000.0</td>\n",
              "      <td>SP</td>\n",
              "      <td>hockingstuart</td>\n",
              "      <td>24/02/2018</td>\n",
              "      <td>6.3</td>\n",
              "      <td>3013.0</td>\n",
              "      <td>...</td>\n",
              "      <td>NaN</td>\n",
              "      <td>NaN</td>\n",
              "      <td>NaN</td>\n",
              "      <td>NaN</td>\n",
              "      <td>NaN</td>\n",
              "      <td>Maribyrnong City Council</td>\n",
              "      <td>NaN</td>\n",
              "      <td>NaN</td>\n",
              "      <td>Western Metropolitan</td>\n",
              "      <td>6543.0</td>\n",
              "    </tr>\n",
              "    <tr>\n",
              "      <th>34856</th>\n",
              "      <td>Yarraville</td>\n",
              "      <td>3 Tarrengower St</td>\n",
              "      <td>2</td>\n",
              "      <td>h</td>\n",
              "      <td>1020000.0</td>\n",
              "      <td>PI</td>\n",
              "      <td>RW</td>\n",
              "      <td>24/02/2018</td>\n",
              "      <td>6.3</td>\n",
              "      <td>3013.0</td>\n",
              "      <td>...</td>\n",
              "      <td>1.0</td>\n",
              "      <td>0.0</td>\n",
              "      <td>250.0</td>\n",
              "      <td>103.0</td>\n",
              "      <td>1930.0</td>\n",
              "      <td>Maribyrnong City Council</td>\n",
              "      <td>-37.81810</td>\n",
              "      <td>144.89351</td>\n",
              "      <td>Western Metropolitan</td>\n",
              "      <td>6543.0</td>\n",
              "    </tr>\n",
              "  </tbody>\n",
              "</table>\n",
              "<p>16743 rows × 21 columns</p>\n",
              "</div>\n",
              "      <button class=\"colab-df-convert\" onclick=\"convertToInteractive('df-bfbf2ada-d27b-4c48-a5c8-62e2c0a2f332')\"\n",
              "              title=\"Convert this dataframe to an interactive table.\"\n",
              "              style=\"display:none;\">\n",
              "        \n",
              "  <svg xmlns=\"http://www.w3.org/2000/svg\" height=\"24px\"viewBox=\"0 0 24 24\"\n",
              "       width=\"24px\">\n",
              "    <path d=\"M0 0h24v24H0V0z\" fill=\"none\"/>\n",
              "    <path d=\"M18.56 5.44l.94 2.06.94-2.06 2.06-.94-2.06-.94-.94-2.06-.94 2.06-2.06.94zm-11 1L8.5 8.5l.94-2.06 2.06-.94-2.06-.94L8.5 2.5l-.94 2.06-2.06.94zm10 10l.94 2.06.94-2.06 2.06-.94-2.06-.94-.94-2.06-.94 2.06-2.06.94z\"/><path d=\"M17.41 7.96l-1.37-1.37c-.4-.4-.92-.59-1.43-.59-.52 0-1.04.2-1.43.59L10.3 9.45l-7.72 7.72c-.78.78-.78 2.05 0 2.83L4 21.41c.39.39.9.59 1.41.59.51 0 1.02-.2 1.41-.59l7.78-7.78 2.81-2.81c.8-.78.8-2.07 0-2.86zM5.41 20L4 18.59l7.72-7.72 1.47 1.35L5.41 20z\"/>\n",
              "  </svg>\n",
              "      </button>\n",
              "      \n",
              "  <style>\n",
              "    .colab-df-container {\n",
              "      display:flex;\n",
              "      flex-wrap:wrap;\n",
              "      gap: 12px;\n",
              "    }\n",
              "\n",
              "    .colab-df-convert {\n",
              "      background-color: #E8F0FE;\n",
              "      border: none;\n",
              "      border-radius: 50%;\n",
              "      cursor: pointer;\n",
              "      display: none;\n",
              "      fill: #1967D2;\n",
              "      height: 32px;\n",
              "      padding: 0 0 0 0;\n",
              "      width: 32px;\n",
              "    }\n",
              "\n",
              "    .colab-df-convert:hover {\n",
              "      background-color: #E2EBFA;\n",
              "      box-shadow: 0px 1px 2px rgba(60, 64, 67, 0.3), 0px 1px 3px 1px rgba(60, 64, 67, 0.15);\n",
              "      fill: #174EA6;\n",
              "    }\n",
              "\n",
              "    [theme=dark] .colab-df-convert {\n",
              "      background-color: #3B4455;\n",
              "      fill: #D2E3FC;\n",
              "    }\n",
              "\n",
              "    [theme=dark] .colab-df-convert:hover {\n",
              "      background-color: #434B5C;\n",
              "      box-shadow: 0px 1px 3px 1px rgba(0, 0, 0, 0.15);\n",
              "      filter: drop-shadow(0px 1px 2px rgba(0, 0, 0, 0.3));\n",
              "      fill: #FFFFFF;\n",
              "    }\n",
              "  </style>\n",
              "\n",
              "      <script>\n",
              "        const buttonEl =\n",
              "          document.querySelector('#df-bfbf2ada-d27b-4c48-a5c8-62e2c0a2f332 button.colab-df-convert');\n",
              "        buttonEl.style.display =\n",
              "          google.colab.kernel.accessAllowed ? 'block' : 'none';\n",
              "\n",
              "        async function convertToInteractive(key) {\n",
              "          const element = document.querySelector('#df-bfbf2ada-d27b-4c48-a5c8-62e2c0a2f332');\n",
              "          const dataTable =\n",
              "            await google.colab.kernel.invokeFunction('convertToInteractive',\n",
              "                                                     [key], {});\n",
              "          if (!dataTable) return;\n",
              "\n",
              "          const docLinkHtml = 'Like what you see? Visit the ' +\n",
              "            '<a target=\"_blank\" href=https://colab.research.google.com/notebooks/data_table.ipynb>data table notebook</a>'\n",
              "            + ' to learn more about interactive tables.';\n",
              "          element.innerHTML = '';\n",
              "          dataTable['output_type'] = 'display_data';\n",
              "          await google.colab.output.renderOutput(dataTable, element);\n",
              "          const docLink = document.createElement('div');\n",
              "          docLink.innerHTML = docLinkHtml;\n",
              "          element.appendChild(docLink);\n",
              "        }\n",
              "      </script>\n",
              "    </div>\n",
              "  </div>\n",
              "  "
            ]
          },
          "metadata": {},
          "execution_count": 162
        }
      ]
    },
    {
      "cell_type": "code",
      "source": [
        "ax = top_10_CA[['Price', 'CouncilArea']].boxplot(by='CouncilArea', vert=False, figsize=(10,6))\n",
        "ax.xaxis.get_major_formatter().set_scientific(False)"
      ],
      "metadata": {
        "colab": {
          "base_uri": "https://localhost:8080/",
          "height": 420
        },
        "id": "9ryTKmDRLp69",
        "outputId": "6b6c42ba-5ae2-4d13-c267-c74c7e6f5728"
      },
      "execution_count": 163,
      "outputs": [
        {
          "output_type": "display_data",
          "data": {
            "text/plain": [
              "<Figure size 720x432 with 1 Axes>"
            ],
            "image/png": "[encoded data removed]"
          },
          "metadata": {
            "needs_background": "light"
          }
        }
      ]
    },
    {
      "cell_type": "markdown",
      "source": [
        "## Column wrangling"
      ],
      "metadata": {
        "id": "geBTbxijRuN5"
      }
    },
    {
      "cell_type": "markdown",
      "source": [
        "Add and calculate a new `Price per room` column\n"
      ],
      "metadata": {
        "id": "CJgctuoLRz4c"
      }
    },
    {
      "cell_type": "code",
      "source": [
        "sales['Price per m2'] = sales['Price'] / sales['Landsize']\n",
        "\n",
        "sales.head()"
      ],
      "metadata": {
        "colab": {
          "base_uri": "https://localhost:8080/",
          "height": 420
        },
        "id": "9Z-29NDER7wS",
        "outputId": "d684eaad-caad-4c00-aabb-80c8d06bbbaa"
      },
      "execution_count": 19,
      "outputs": [
        {
          "output_type": "execute_result",
          "data": {
            "text/plain": [
              "       Suburb             Address  Rooms Type      Price Method SellerG  \\\n",
              "0  Abbotsford       68 Studley St      2    h        NaN     SS  Jellis   \n",
              "1  Abbotsford        85 Turner St      2    h  1480000.0      S  Biggin   \n",
              "2  Abbotsford     25 Bloomburg St      2    h  1035000.0      S  Biggin   \n",
              "3  Abbotsford  18/659 Victoria St      3    u        NaN     VB  Rounds   \n",
              "4  Abbotsford        5 Charles St      3    h  1465000.0     SP  Biggin   \n",
              "\n",
              "        Date  Distance  Postcode  ...  Landsize  BuildingArea  YearBuilt  \\\n",
              "0  3/09/2016       2.5    3067.0  ...     126.0           NaN        NaN   \n",
              "1  3/12/2016       2.5    3067.0  ...     202.0           NaN        NaN   \n",
              "2  4/02/2016       2.5    3067.0  ...     156.0          79.0     1900.0   \n",
              "3  4/02/2016       2.5    3067.0  ...       0.0           NaN        NaN   \n",
              "4  4/03/2017       2.5    3067.0  ...     134.0         150.0     1900.0   \n",
              "\n",
              "          CouncilArea  Lattitude  Longtitude             Regionname  \\\n",
              "0  Yarra City Council   -37.8014    144.9958  Northern Metropolitan   \n",
              "1  Yarra City Council   -37.7996    144.9984  Northern Metropolitan   \n",
              "2  Yarra City Council   -37.8079    144.9934  Northern Metropolitan   \n",
              "3  Yarra City Council   -37.8114    145.0116  Northern Metropolitan   \n",
              "4  Yarra City Council   -37.8093    144.9944  Northern Metropolitan   \n",
              "\n",
              "   Propertycount  Price per room  Price per m2  \n",
              "0         4019.0             NaN           NaN  \n",
              "1         4019.0   740000.000000   7326.732673  \n",
              "2         4019.0   517500.000000   6634.615385  \n",
              "3         4019.0             NaN           NaN  \n",
              "4         4019.0   488333.333333  10932.835821  \n",
              "\n",
              "[5 rows x 23 columns]"
            ],
            "text/html": [
              "\n",
              "  <div id=\"df-e769963b-b285-430f-a769-a84f624debe5\">\n",
              "    <div class=\"colab-df-container\">\n",
              "      <div>\n",
              "<style scoped>\n",
              "    .dataframe tbody tr th:only-of-type {\n",
              "        vertical-align: middle;\n",
              "    }\n",
              "\n",
              "    .dataframe tbody tr th {\n",
              "        vertical-align: top;\n",
              "    }\n",
              "\n",
              "    .dataframe thead th {\n",
              "        text-align: right;\n",
              "    }\n",
              "</style>\n",
              "<table border=\"1\" class=\"dataframe\">\n",
              "  <thead>\n",
              "    <tr style=\"text-align: right;\">\n",
              "      <th></th>\n",
              "      <th>Suburb</th>\n",
              "      <th>Address</th>\n",
              "      <th>Rooms</th>\n",
              "      <th>Type</th>\n",
              "      <th>Price</th>\n",
              "      <th>Method</th>\n",
              "      <th>SellerG</th>\n",
              "      <th>Date</th>\n",
              "      <th>Distance</th>\n",
              "      <th>Postcode</th>\n",
              "      <th>...</th>\n",
              "      <th>Landsize</th>\n",
              "      <th>BuildingArea</th>\n",
              "      <th>YearBuilt</th>\n",
              "      <th>CouncilArea</th>\n",
              "      <th>Lattitude</th>\n",
              "      <th>Longtitude</th>\n",
              "      <th>Regionname</th>\n",
              "      <th>Propertycount</th>\n",
              "      <th>Price per room</th>\n",
              "      <th>Price per m2</th>\n",
              "    </tr>\n",
              "  </thead>\n",
              "  <tbody>\n",
              "    <tr>\n",
              "      <th>0</th>\n",
              "      <td>Abbotsford</td>\n",
              "      <td>68 Studley St</td>\n",
              "      <td>2</td>\n",
              "      <td>h</td>\n",
              "      <td>NaN</td>\n",
              "      <td>SS</td>\n",
              "      <td>Jellis</td>\n",
              "      <td>3/09/2016</td>\n",
              "      <td>2.5</td>\n",
              "      <td>3067.0</td>\n",
              "      <td>...</td>\n",
              "      <td>126.0</td>\n",
              "      <td>NaN</td>\n",
              "      <td>NaN</td>\n",
              "      <td>Yarra City Council</td>\n",
              "      <td>-37.8014</td>\n",
              "      <td>144.9958</td>\n",
              "      <td>Northern Metropolitan</td>\n",
              "      <td>4019.0</td>\n",
              "      <td>NaN</td>\n",
              "      <td>NaN</td>\n",
              "    </tr>\n",
              "    <tr>\n",
              "      <th>1</th>\n",
              "      <td>Abbotsford</td>\n",
              "      <td>85 Turner St</td>\n",
              "      <td>2</td>\n",
              "      <td>h</td>\n",
              "      <td>1480000.0</td>\n",
              "      <td>S</td>\n",
              "      <td>Biggin</td>\n",
              "      <td>3/12/2016</td>\n",
              "      <td>2.5</td>\n",
              "      <td>3067.0</td>\n",
              "      <td>...</td>\n",
              "      <td>202.0</td>\n",
              "      <td>NaN</td>\n",
              "      <td>NaN</td>\n",
              "      <td>Yarra City Council</td>\n",
              "      <td>-37.7996</td>\n",
              "      <td>144.9984</td>\n",
              "      <td>Northern Metropolitan</td>\n",
              "      <td>4019.0</td>\n",
              "      <td>740000.000000</td>\n",
              "      <td>7326.732673</td>\n",
              "    </tr>\n",
              "    <tr>\n",
              "      <th>2</th>\n",
              "      <td>Abbotsford</td>\n",
              "      <td>25 Bloomburg St</td>\n",
              "      <td>2</td>\n",
              "      <td>h</td>\n",
              "      <td>1035000.0</td>\n",
              "      <td>S</td>\n",
              "      <td>Biggin</td>\n",
              "      <td>4/02/2016</td>\n",
              "      <td>2.5</td>\n",
              "      <td>3067.0</td>\n",
              "      <td>...</td>\n",
              "      <td>156.0</td>\n",
              "      <td>79.0</td>\n",
              "      <td>1900.0</td>\n",
              "      <td>Yarra City Council</td>\n",
              "      <td>-37.8079</td>\n",
              "      <td>144.9934</td>\n",
              "      <td>Northern Metropolitan</td>\n",
              "      <td>4019.0</td>\n",
              "      <td>517500.000000</td>\n",
              "      <td>6634.615385</td>\n",
              "    </tr>\n",
              "    <tr>\n",
              "      <th>3</th>\n",
              "      <td>Abbotsford</td>\n",
              "      <td>18/659 Victoria St</td>\n",
              "      <td>3</td>\n",
              "      <td>u</td>\n",
              "      <td>NaN</td>\n",
              "      <td>VB</td>\n",
              "      <td>Rounds</td>\n",
              "      <td>4/02/2016</td>\n",
              "      <td>2.5</td>\n",
              "      <td>3067.0</td>\n",
              "      <td>...</td>\n",
              "      <td>0.0</td>\n",
              "      <td>NaN</td>\n",
              "      <td>NaN</td>\n",
              "      <td>Yarra City Council</td>\n",
              "      <td>-37.8114</td>\n",
              "      <td>145.0116</td>\n",
              "      <td>Northern Metropolitan</td>\n",
              "      <td>4019.0</td>\n",
              "      <td>NaN</td>\n",
              "      <td>NaN</td>\n",
              "    </tr>\n",
              "    <tr>\n",
              "      <th>4</th>\n",
              "      <td>Abbotsford</td>\n",
              "      <td>5 Charles St</td>\n",
              "      <td>3</td>\n",
              "      <td>h</td>\n",
              "      <td>1465000.0</td>\n",
              "      <td>SP</td>\n",
              "      <td>Biggin</td>\n",
              "      <td>4/03/2017</td>\n",
              "      <td>2.5</td>\n",
              "      <td>3067.0</td>\n",
              "      <td>...</td>\n",
              "      <td>134.0</td>\n",
              "      <td>150.0</td>\n",
              "      <td>1900.0</td>\n",
              "      <td>Yarra City Council</td>\n",
              "      <td>-37.8093</td>\n",
              "      <td>144.9944</td>\n",
              "      <td>Northern Metropolitan</td>\n",
              "      <td>4019.0</td>\n",
              "      <td>488333.333333</td>\n",
              "      <td>10932.835821</td>\n",
              "    </tr>\n",
              "  </tbody>\n",
              "</table>\n",
              "<p>5 rows × 23 columns</p>\n",
              "</div>\n",
              "      <button class=\"colab-df-convert\" onclick=\"convertToInteractive('df-e769963b-b285-430f-a769-a84f624debe5')\"\n",
              "              title=\"Convert this dataframe to an interactive table.\"\n",
              "              style=\"display:none;\">\n",
              "        \n",
              "  <svg xmlns=\"http://www.w3.org/2000/svg\" height=\"24px\"viewBox=\"0 0 24 24\"\n",
              "       width=\"24px\">\n",
              "    <path d=\"M0 0h24v24H0V0z\" fill=\"none\"/>\n",
              "    <path d=\"M18.56 5.44l.94 2.06.94-2.06 2.06-.94-2.06-.94-.94-2.06-.94 2.06-2.06.94zm-11 1L8.5 8.5l.94-2.06 2.06-.94-2.06-.94L8.5 2.5l-.94 2.06-2.06.94zm10 10l.94 2.06.94-2.06 2.06-.94-2.06-.94-.94-2.06-.94 2.06-2.06.94z\"/><path d=\"M17.41 7.96l-1.37-1.37c-.4-.4-.92-.59-1.43-.59-.52 0-1.04.2-1.43.59L10.3 9.45l-7.72 7.72c-.78.78-.78 2.05 0 2.83L4 21.41c.39.39.9.59 1.41.59.51 0 1.02-.2 1.41-.59l7.78-7.78 2.81-2.81c.8-.78.8-2.07 0-2.86zM5.41 20L4 18.59l7.72-7.72 1.47 1.35L5.41 20z\"/>\n",
              "  </svg>\n",
              "      </button>\n",
              "      \n",
              "  <style>\n",
              "    .colab-df-container {\n",
              "      display:flex;\n",
              "      flex-wrap:wrap;\n",
              "      gap: 12px;\n",
              "    }\n",
              "\n",
              "    .colab-df-convert {\n",
              "      background-color: #E8F0FE;\n",
              "      border: none;\n",
              "      border-radius: 50%;\n",
              "      cursor: pointer;\n",
              "      display: none;\n",
              "      fill: #1967D2;\n",
              "      height: 32px;\n",
              "      padding: 0 0 0 0;\n",
              "      width: 32px;\n",
              "    }\n",
              "\n",
              "    .colab-df-convert:hover {\n",
              "      background-color: #E2EBFA;\n",
              "      box-shadow: 0px 1px 2px rgba(60, 64, 67, 0.3), 0px 1px 3px 1px rgba(60, 64, 67, 0.15);\n",
              "      fill: #174EA6;\n",
              "    }\n",
              "\n",
              "    [theme=dark] .colab-df-convert {\n",
              "      background-color: #3B4455;\n",
              "      fill: #D2E3FC;\n",
              "    }\n",
              "\n",
              "    [theme=dark] .colab-df-convert:hover {\n",
              "      background-color: #434B5C;\n",
              "      box-shadow: 0px 1px 3px 1px rgba(0, 0, 0, 0.15);\n",
              "      filter: drop-shadow(0px 1px 2px rgba(0, 0, 0, 0.3));\n",
              "      fill: #FFFFFF;\n",
              "    }\n",
              "  </style>\n",
              "\n",
              "      <script>\n",
              "        const buttonEl =\n",
              "          document.querySelector('#df-e769963b-b285-430f-a769-a84f624debe5 button.colab-df-convert');\n",
              "        buttonEl.style.display =\n",
              "          google.colab.kernel.accessAllowed ? 'block' : 'none';\n",
              "\n",
              "        async function convertToInteractive(key) {\n",
              "          const element = document.querySelector('#df-e769963b-b285-430f-a769-a84f624debe5');\n",
              "          const dataTable =\n",
              "            await google.colab.kernel.invokeFunction('convertToInteractive',\n",
              "                                                     [key], {});\n",
              "          if (!dataTable) return;\n",
              "\n",
              "          const docLinkHtml = 'Like what you see? Visit the ' +\n",
              "            '<a target=\"_blank\" href=https://colab.research.google.com/notebooks/data_table.ipynb>data table notebook</a>'\n",
              "            + ' to learn more about interactive tables.';\n",
              "          element.innerHTML = '';\n",
              "          dataTable['output_type'] = 'display_data';\n",
              "          await google.colab.output.renderOutput(dataTable, element);\n",
              "          const docLink = document.createElement('div');\n",
              "          docLink.innerHTML = docLinkHtml;\n",
              "          element.appendChild(docLink);\n",
              "        }\n",
              "      </script>\n",
              "    </div>\n",
              "  </div>\n",
              "  "
            ]
          },
          "metadata": {},
          "execution_count": 19
        }
      ]
    },
    {
      "cell_type": "markdown",
      "source": [
        "Add and calculate `Price in USD` column"
      ],
      "metadata": {
        "id": "5RISu0M8UL9z"
      }
    },
    {
      "cell_type": "code",
      "source": [
        "AUD2USD = 0.68"
      ],
      "metadata": {
        "id": "WvIz1zD3TRUO"
      },
      "execution_count": 29,
      "outputs": []
    },
    {
      "cell_type": "code",
      "source": [
        "sales['Price_USD'] = sales['Price'] * AUD2USD\n",
        "\n",
        "sales.head()"
      ],
      "metadata": {
        "colab": {
          "base_uri": "https://localhost:8080/",
          "height": 420
        },
        "id": "TFbgGXHhT7Hn",
        "outputId": "a44f3b68-9a7c-400d-bbb2-3e7c8367b0cc"
      },
      "execution_count": 30,
      "outputs": [
        {
          "output_type": "execute_result",
          "data": {
            "text/plain": [
              "       Suburb             Address  Rooms Type      Price Method SellerG  \\\n",
              "0  Abbotsford       68 Studley St      2    h        NaN     SS  Jellis   \n",
              "1  Abbotsford        85 Turner St      2    h  1480000.0      S  Biggin   \n",
              "2  Abbotsford     25 Bloomburg St      2    h  1035000.0      S  Biggin   \n",
              "3  Abbotsford  18/659 Victoria St      3    u        NaN     VB  Rounds   \n",
              "4  Abbotsford        5 Charles St      3    h  1465000.0     SP  Biggin   \n",
              "\n",
              "        Date  Distance  Postcode  ...  BuildingArea  YearBuilt  \\\n",
              "0  3/09/2016       2.5    3067.0  ...           NaN        NaN   \n",
              "1  3/12/2016       2.5    3067.0  ...           NaN        NaN   \n",
              "2  4/02/2016       2.5    3067.0  ...          79.0     1900.0   \n",
              "3  4/02/2016       2.5    3067.0  ...           NaN        NaN   \n",
              "4  4/03/2017       2.5    3067.0  ...         150.0     1900.0   \n",
              "\n",
              "          CouncilArea  Lattitude  Longtitude             Regionname  \\\n",
              "0  Yarra City Council   -37.8014    144.9958  Northern Metropolitan   \n",
              "1  Yarra City Council   -37.7996    144.9984  Northern Metropolitan   \n",
              "2  Yarra City Council   -37.8079    144.9934  Northern Metropolitan   \n",
              "3  Yarra City Council   -37.8114    145.0116  Northern Metropolitan   \n",
              "4  Yarra City Council   -37.8093    144.9944  Northern Metropolitan   \n",
              "\n",
              "  Propertycount  Price per room  Price per m2  Price_USD  \n",
              "0        4019.0             NaN           NaN        NaN  \n",
              "1        4019.0   740000.000000   7326.732673  1006400.0  \n",
              "2        4019.0   517500.000000   6634.615385   703800.0  \n",
              "3        4019.0             NaN           NaN        NaN  \n",
              "4        4019.0   488333.333333  10932.835821   996200.0  \n",
              "\n",
              "[5 rows x 24 columns]"
            ],
            "text/html": [
              "\n",
              "  <div id=\"df-0e9f1643-b46e-4df5-89d5-f6160c8f7e36\">\n",
              "    <div class=\"colab-df-container\">\n",
              "      <div>\n",
              "<style scoped>\n",
              "    .dataframe tbody tr th:only-of-type {\n",
              "        vertical-align: middle;\n",
              "    }\n",
              "\n",
              "    .dataframe tbody tr th {\n",
              "        vertical-align: top;\n",
              "    }\n",
              "\n",
              "    .dataframe thead th {\n",
              "        text-align: right;\n",
              "    }\n",
              "</style>\n",
              "<table border=\"1\" class=\"dataframe\">\n",
              "  <thead>\n",
              "    <tr style=\"text-align: right;\">\n",
              "      <th></th>\n",
              "      <th>Suburb</th>\n",
              "      <th>Address</th>\n",
              "      <th>Rooms</th>\n",
              "      <th>Type</th>\n",
              "      <th>Price</th>\n",
              "      <th>Method</th>\n",
              "      <th>SellerG</th>\n",
              "      <th>Date</th>\n",
              "      <th>Distance</th>\n",
              "      <th>Postcode</th>\n",
              "      <th>...</th>\n",
              "      <th>BuildingArea</th>\n",
              "      <th>YearBuilt</th>\n",
              "      <th>CouncilArea</th>\n",
              "      <th>Lattitude</th>\n",
              "      <th>Longtitude</th>\n",
              "      <th>Regionname</th>\n",
              "      <th>Propertycount</th>\n",
              "      <th>Price per room</th>\n",
              "      <th>Price per m2</th>\n",
              "      <th>Price_USD</th>\n",
              "    </tr>\n",
              "  </thead>\n",
              "  <tbody>\n",
              "    <tr>\n",
              "      <th>0</th>\n",
              "      <td>Abbotsford</td>\n",
              "      <td>68 Studley St</td>\n",
              "      <td>2</td>\n",
              "      <td>h</td>\n",
              "      <td>NaN</td>\n",
              "      <td>SS</td>\n",
              "      <td>Jellis</td>\n",
              "      <td>3/09/2016</td>\n",
              "      <td>2.5</td>\n",
              "      <td>3067.0</td>\n",
              "      <td>...</td>\n",
              "      <td>NaN</td>\n",
              "      <td>NaN</td>\n",
              "      <td>Yarra City Council</td>\n",
              "      <td>-37.8014</td>\n",
              "      <td>144.9958</td>\n",
              "      <td>Northern Metropolitan</td>\n",
              "      <td>4019.0</td>\n",
              "      <td>NaN</td>\n",
              "      <td>NaN</td>\n",
              "      <td>NaN</td>\n",
              "    </tr>\n",
              "    <tr>\n",
              "      <th>1</th>\n",
              "      <td>Abbotsford</td>\n",
              "      <td>85 Turner St</td>\n",
              "      <td>2</td>\n",
              "      <td>h</td>\n",
              "      <td>1480000.0</td>\n",
              "      <td>S</td>\n",
              "      <td>Biggin</td>\n",
              "      <td>3/12/2016</td>\n",
              "      <td>2.5</td>\n",
              "      <td>3067.0</td>\n",
              "      <td>...</td>\n",
              "      <td>NaN</td>\n",
              "      <td>NaN</td>\n",
              "      <td>Yarra City Council</td>\n",
              "      <td>-37.7996</td>\n",
              "      <td>144.9984</td>\n",
              "      <td>Northern Metropolitan</td>\n",
              "      <td>4019.0</td>\n",
              "      <td>740000.000000</td>\n",
              "      <td>7326.732673</td>\n",
              "      <td>1006400.0</td>\n",
              "    </tr>\n",
              "    <tr>\n",
              "      <th>2</th>\n",
              "      <td>Abbotsford</td>\n",
              "      <td>25 Bloomburg St</td>\n",
              "      <td>2</td>\n",
              "      <td>h</td>\n",
              "      <td>1035000.0</td>\n",
              "      <td>S</td>\n",
              "      <td>Biggin</td>\n",
              "      <td>4/02/2016</td>\n",
              "      <td>2.5</td>\n",
              "      <td>3067.0</td>\n",
              "      <td>...</td>\n",
              "      <td>79.0</td>\n",
              "      <td>1900.0</td>\n",
              "      <td>Yarra City Council</td>\n",
              "      <td>-37.8079</td>\n",
              "      <td>144.9934</td>\n",
              "      <td>Northern Metropolitan</td>\n",
              "      <td>4019.0</td>\n",
              "      <td>517500.000000</td>\n",
              "      <td>6634.615385</td>\n",
              "      <td>703800.0</td>\n",
              "    </tr>\n",
              "    <tr>\n",
              "      <th>3</th>\n",
              "      <td>Abbotsford</td>\n",
              "      <td>18/659 Victoria St</td>\n",
              "      <td>3</td>\n",
              "      <td>u</td>\n",
              "      <td>NaN</td>\n",
              "      <td>VB</td>\n",
              "      <td>Rounds</td>\n",
              "      <td>4/02/2016</td>\n",
              "      <td>2.5</td>\n",
              "      <td>3067.0</td>\n",
              "      <td>...</td>\n",
              "      <td>NaN</td>\n",
              "      <td>NaN</td>\n",
              "      <td>Yarra City Council</td>\n",
              "      <td>-37.8114</td>\n",
              "      <td>145.0116</td>\n",
              "      <td>Northern Metropolitan</td>\n",
              "      <td>4019.0</td>\n",
              "      <td>NaN</td>\n",
              "      <td>NaN</td>\n",
              "      <td>NaN</td>\n",
              "    </tr>\n",
              "    <tr>\n",
              "      <th>4</th>\n",
              "      <td>Abbotsford</td>\n",
              "      <td>5 Charles St</td>\n",
              "      <td>3</td>\n",
              "      <td>h</td>\n",
              "      <td>1465000.0</td>\n",
              "      <td>SP</td>\n",
              "      <td>Biggin</td>\n",
              "      <td>4/03/2017</td>\n",
              "      <td>2.5</td>\n",
              "      <td>3067.0</td>\n",
              "      <td>...</td>\n",
              "      <td>150.0</td>\n",
              "      <td>1900.0</td>\n",
              "      <td>Yarra City Council</td>\n",
              "      <td>-37.8093</td>\n",
              "      <td>144.9944</td>\n",
              "      <td>Northern Metropolitan</td>\n",
              "      <td>4019.0</td>\n",
              "      <td>488333.333333</td>\n",
              "      <td>10932.835821</td>\n",
              "      <td>996200.0</td>\n",
              "    </tr>\n",
              "  </tbody>\n",
              "</table>\n",
              "<p>5 rows × 24 columns</p>\n",
              "</div>\n",
              "      <button class=\"colab-df-convert\" onclick=\"convertToInteractive('df-0e9f1643-b46e-4df5-89d5-f6160c8f7e36')\"\n",
              "              title=\"Convert this dataframe to an interactive table.\"\n",
              "              style=\"display:none;\">\n",
              "        \n",
              "  <svg xmlns=\"http://www.w3.org/2000/svg\" height=\"24px\"viewBox=\"0 0 24 24\"\n",
              "       width=\"24px\">\n",
              "    <path d=\"M0 0h24v24H0V0z\" fill=\"none\"/>\n",
              "    <path d=\"M18.56 5.44l.94 2.06.94-2.06 2.06-.94-2.06-.94-.94-2.06-.94 2.06-2.06.94zm-11 1L8.5 8.5l.94-2.06 2.06-.94-2.06-.94L8.5 2.5l-.94 2.06-2.06.94zm10 10l.94 2.06.94-2.06 2.06-.94-2.06-.94-.94-2.06-.94 2.06-2.06.94z\"/><path d=\"M17.41 7.96l-1.37-1.37c-.4-.4-.92-.59-1.43-.59-.52 0-1.04.2-1.43.59L10.3 9.45l-7.72 7.72c-.78.78-.78 2.05 0 2.83L4 21.41c.39.39.9.59 1.41.59.51 0 1.02-.2 1.41-.59l7.78-7.78 2.81-2.81c.8-.78.8-2.07 0-2.86zM5.41 20L4 18.59l7.72-7.72 1.47 1.35L5.41 20z\"/>\n",
              "  </svg>\n",
              "      </button>\n",
              "      \n",
              "  <style>\n",
              "    .colab-df-container {\n",
              "      display:flex;\n",
              "      flex-wrap:wrap;\n",
              "      gap: 12px;\n",
              "    }\n",
              "\n",
              "    .colab-df-convert {\n",
              "      background-color: #E8F0FE;\n",
              "      border: none;\n",
              "      border-radius: 50%;\n",
              "      cursor: pointer;\n",
              "      display: none;\n",
              "      fill: #1967D2;\n",
              "      height: 32px;\n",
              "      padding: 0 0 0 0;\n",
              "      width: 32px;\n",
              "    }\n",
              "\n",
              "    .colab-df-convert:hover {\n",
              "      background-color: #E2EBFA;\n",
              "      box-shadow: 0px 1px 2px rgba(60, 64, 67, 0.3), 0px 1px 3px 1px rgba(60, 64, 67, 0.15);\n",
              "      fill: #174EA6;\n",
              "    }\n",
              "\n",
              "    [theme=dark] .colab-df-convert {\n",
              "      background-color: #3B4455;\n",
              "      fill: #D2E3FC;\n",
              "    }\n",
              "\n",
              "    [theme=dark] .colab-df-convert:hover {\n",
              "      background-color: #434B5C;\n",
              "      box-shadow: 0px 1px 3px 1px rgba(0, 0, 0, 0.15);\n",
              "      filter: drop-shadow(0px 1px 2px rgba(0, 0, 0, 0.3));\n",
              "      fill: #FFFFFF;\n",
              "    }\n",
              "  </style>\n",
              "\n",
              "      <script>\n",
              "        const buttonEl =\n",
              "          document.querySelector('#df-0e9f1643-b46e-4df5-89d5-f6160c8f7e36 button.colab-df-convert');\n",
              "        buttonEl.style.display =\n",
              "          google.colab.kernel.accessAllowed ? 'block' : 'none';\n",
              "\n",
              "        async function convertToInteractive(key) {\n",
              "          const element = document.querySelector('#df-0e9f1643-b46e-4df5-89d5-f6160c8f7e36');\n",
              "          const dataTable =\n",
              "            await google.colab.kernel.invokeFunction('convertToInteractive',\n",
              "                                                     [key], {});\n",
              "          if (!dataTable) return;\n",
              "\n",
              "          const docLinkHtml = 'Like what you see? Visit the ' +\n",
              "            '<a target=\"_blank\" href=https://colab.research.google.com/notebooks/data_table.ipynb>data table notebook</a>'\n",
              "            + ' to learn more about interactive tables.';\n",
              "          element.innerHTML = '';\n",
              "          dataTable['output_type'] = 'display_data';\n",
              "          await google.colab.output.renderOutput(dataTable, element);\n",
              "          const docLink = document.createElement('div');\n",
              "          docLink.innerHTML = docLinkHtml;\n",
              "          element.appendChild(docLink);\n",
              "        }\n",
              "      </script>\n",
              "    </div>\n",
              "  </div>\n",
              "  "
            ]
          },
          "metadata": {},
          "execution_count": 30
        }
      ]
    },
    {
      "cell_type": "markdown",
      "source": [
        "## Selection & Indexing\n"
      ],
      "metadata": {
        "id": "CfA0V54TDG8G"
      }
    },
    {
      "cell_type": "markdown",
      "source": [
        "Get all the sales made in `Boroondara City Council`"
      ],
      "metadata": {
        "id": "wWX6dObgRZB5"
      }
    },
    {
      "cell_type": "code",
      "source": [
        "sales.loc[sales['CouncilArea'] == 'Boroondara City Council']\n"
      ],
      "metadata": {
        "colab": {
          "base_uri": "https://localhost:8080/",
          "height": 799
        },
        "id": "z3oOFLM5UrnL",
        "outputId": "b28b60c4-823f-4243-c5b1-b31e0c0bc577"
      },
      "execution_count": 31,
      "outputs": [
        {
          "output_type": "execute_result",
          "data": {
            "text/plain": [
              "             Suburb           Address  Rooms Type      Price Method  \\\n",
              "597       Ashburton        61 Dent St      4    h  2650000.0      S   \n",
              "598       Ashburton       1 Wilgra Av      2    h  1820000.0      S   \n",
              "599       Ashburton      69 Albion Rd      3    h  1670000.0      S   \n",
              "600       Ashburton   1/17 Ashburn Gr      3    t   955000.0      S   \n",
              "601       Ashburton    3/39 Solway St      3    t  2050000.0      S   \n",
              "...             ...               ...    ...  ...        ...    ...   \n",
              "34516   Mont Albert       7 Gordon St      3    h  1600000.0     PI   \n",
              "34766  Surrey Hills     56 Croydon Rd      3    h  1750000.0     VB   \n",
              "34767  Surrey Hills     22 Empress Rd      4    h        NaN      S   \n",
              "34768  Surrey Hills  1/20 Thornton Av      2    u   958000.0      S   \n",
              "34769  Surrey Hills      1/4 Wells St      2    u        NaN     SP   \n",
              "\n",
              "         SellerG        Date  Distance  Postcode  ...  BuildingArea  \\\n",
              "597     Marshall   3/09/2016      11.0    3147.0  ...         399.0   \n",
              "598     Marshall   3/09/2016      11.0    3147.0  ...           NaN   \n",
              "599       Jellis   3/12/2016      11.0    3147.0  ...         220.0   \n",
              "600       Buxton   3/12/2016      11.0    3147.0  ...           NaN   \n",
              "601    Fletchers   3/12/2016      11.0    3147.0  ...         315.0   \n",
              "...          ...         ...       ...       ...  ...           ...   \n",
              "34516   Woodards  24/02/2018      10.2    3127.0  ...           NaN   \n",
              "34766     Jellis  24/02/2018      10.2    3127.0  ...         151.0   \n",
              "34767   Marshall  24/02/2018      10.2    3127.0  ...         140.0   \n",
              "34768     Philip  24/02/2018      10.2    3127.0  ...           NaN   \n",
              "34769     Jellis  24/02/2018      10.2    3127.0  ...           NaN   \n",
              "\n",
              "       YearBuilt              CouncilArea  Lattitude  Longtitude  \\\n",
              "597       2015.0  Boroondara City Council  -37.86690   145.07670   \n",
              "598          NaN  Boroondara City Council        NaN         NaN   \n",
              "599       1930.0  Boroondara City Council  -37.86730   145.06880   \n",
              "600          NaN  Boroondara City Council  -37.86550   145.08070   \n",
              "601       2014.0  Boroondara City Council  -37.87400   145.07140   \n",
              "...          ...                      ...        ...         ...   \n",
              "34516        NaN  Boroondara City Council  -37.82141   145.10169   \n",
              "34766     1997.0  Boroondara City Council  -37.82338   145.09236   \n",
              "34767     1910.0  Boroondara City Council  -37.82008   145.08883   \n",
              "34768        NaN  Boroondara City Council        NaN         NaN   \n",
              "34769        NaN  Boroondara City Council        NaN         NaN   \n",
              "\n",
              "                  Regionname Propertycount  Price per room  Price per m2  \\\n",
              "597    Southern Metropolitan        3052.0   662500.000000   3519.256308   \n",
              "598    Southern Metropolitan        3052.0   910000.000000           NaN   \n",
              "599    Southern Metropolitan        3052.0   556666.666667   2787.979967   \n",
              "600    Southern Metropolitan        3052.0   318333.333333   4704.433498   \n",
              "601    Southern Metropolitan        3052.0   683333.333333   6612.903226   \n",
              "...                      ...           ...             ...           ...   \n",
              "34516   Eastern Metropolitan        2079.0   533333.333333   1923.076923   \n",
              "34766  Southern Metropolitan        5457.0   583333.333333   4569.190601   \n",
              "34767  Southern Metropolitan        5457.0             NaN           NaN   \n",
              "34768  Southern Metropolitan        5457.0   479000.000000           NaN   \n",
              "34769  Southern Metropolitan        5457.0             NaN           NaN   \n",
              "\n",
              "       Price_USD  \n",
              "597    1802000.0  \n",
              "598    1237600.0  \n",
              "599    1135600.0  \n",
              "600     649400.0  \n",
              "601    1394000.0  \n",
              "...          ...  \n",
              "34516  1088000.0  \n",
              "34766  1190000.0  \n",
              "34767        NaN  \n",
              "34768   651440.0  \n",
              "34769        NaN  \n",
              "\n",
              "[3675 rows x 24 columns]"
            ],
            "text/html": [
              "\n",
              "  <div id=\"df-b9f8397d-24a7-4f29-87f0-0fd00add4792\">\n",
              "    <div class=\"colab-df-container\">\n",
              "      <div>\n",
              "<style scoped>\n",
              "    .dataframe tbody tr th:only-of-type {\n",
              "        vertical-align: middle;\n",
              "    }\n",
              "\n",
              "    .dataframe tbody tr th {\n",
              "        vertical-align: top;\n",
              "    }\n",
              "\n",
              "    .dataframe thead th {\n",
              "        text-align: right;\n",
              "    }\n",
              "</style>\n",
              "<table border=\"1\" class=\"dataframe\">\n",
              "  <thead>\n",
              "    <tr style=\"text-align: right;\">\n",
              "      <th></th>\n",
              "      <th>Suburb</th>\n",
              "      <th>Address</th>\n",
              "      <th>Rooms</th>\n",
              "      <th>Type</th>\n",
              "      <th>Price</th>\n",
              "      <th>Method</th>\n",
              "      <th>SellerG</th>\n",
              "      <th>Date</th>\n",
              "      <th>Distance</th>\n",
              "      <th>Postcode</th>\n",
              "      <th>...</th>\n",
              "      <th>BuildingArea</th>\n",
              "      <th>YearBuilt</th>\n",
              "      <th>CouncilArea</th>\n",
              "      <th>Lattitude</th>\n",
              "      <th>Longtitude</th>\n",
              "      <th>Regionname</th>\n",
              "      <th>Propertycount</th>\n",
              "      <th>Price per room</th>\n",
              "      <th>Price per m2</th>\n",
              "      <th>Price_USD</th>\n",
              "    </tr>\n",
              "  </thead>\n",
              "  <tbody>\n",
              "    <tr>\n",
              "      <th>597</th>\n",
              "      <td>Ashburton</td>\n",
              "      <td>61 Dent St</td>\n",
              "      <td>4</td>\n",
              "      <td>h</td>\n",
              "      <td>2650000.0</td>\n",
              "      <td>S</td>\n",
              "      <td>Marshall</td>\n",
              "      <td>3/09/2016</td>\n",
              "      <td>11.0</td>\n",
              "      <td>3147.0</td>\n",
              "      <td>...</td>\n",
              "      <td>399.0</td>\n",
              "      <td>2015.0</td>\n",
              "      <td>Boroondara City Council</td>\n",
              "      <td>-37.86690</td>\n",
              "      <td>145.07670</td>\n",
              "      <td>Southern Metropolitan</td>\n",
              "      <td>3052.0</td>\n",
              "      <td>662500.000000</td>\n",
              "      <td>3519.256308</td>\n",
              "      <td>1802000.0</td>\n",
              "    </tr>\n",
              "    <tr>\n",
              "      <th>598</th>\n",
              "      <td>Ashburton</td>\n",
              "      <td>1 Wilgra Av</td>\n",
              "      <td>2</td>\n",
              "      <td>h</td>\n",
              "      <td>1820000.0</td>\n",
              "      <td>S</td>\n",
              "      <td>Marshall</td>\n",
              "      <td>3/09/2016</td>\n",
              "      <td>11.0</td>\n",
              "      <td>3147.0</td>\n",
              "      <td>...</td>\n",
              "      <td>NaN</td>\n",
              "      <td>NaN</td>\n",
              "      <td>Boroondara City Council</td>\n",
              "      <td>NaN</td>\n",
              "      <td>NaN</td>\n",
              "      <td>Southern Metropolitan</td>\n",
              "      <td>3052.0</td>\n",
              "      <td>910000.000000</td>\n",
              "      <td>NaN</td>\n",
              "      <td>1237600.0</td>\n",
              "    </tr>\n",
              "    <tr>\n",
              "      <th>599</th>\n",
              "      <td>Ashburton</td>\n",
              "      <td>69 Albion Rd</td>\n",
              "      <td>3</td>\n",
              "      <td>h</td>\n",
              "      <td>1670000.0</td>\n",
              "      <td>S</td>\n",
              "      <td>Jellis</td>\n",
              "      <td>3/12/2016</td>\n",
              "      <td>11.0</td>\n",
              "      <td>3147.0</td>\n",
              "      <td>...</td>\n",
              "      <td>220.0</td>\n",
              "      <td>1930.0</td>\n",
              "      <td>Boroondara City Council</td>\n",
              "      <td>-37.86730</td>\n",
              "      <td>145.06880</td>\n",
              "      <td>Southern Metropolitan</td>\n",
              "      <td>3052.0</td>\n",
              "      <td>556666.666667</td>\n",
              "      <td>2787.979967</td>\n",
              "      <td>1135600.0</td>\n",
              "    </tr>\n",
              "    <tr>\n",
              "      <th>600</th>\n",
              "      <td>Ashburton</td>\n",
              "      <td>1/17 Ashburn Gr</td>\n",
              "      <td>3</td>\n",
              "      <td>t</td>\n",
              "      <td>955000.0</td>\n",
              "      <td>S</td>\n",
              "      <td>Buxton</td>\n",
              "      <td>3/12/2016</td>\n",
              "      <td>11.0</td>\n",
              "      <td>3147.0</td>\n",
              "      <td>...</td>\n",
              "      <td>NaN</td>\n",
              "      <td>NaN</td>\n",
              "      <td>Boroondara City Council</td>\n",
              "      <td>-37.86550</td>\n",
              "      <td>145.08070</td>\n",
              "      <td>Southern Metropolitan</td>\n",
              "      <td>3052.0</td>\n",
              "      <td>318333.333333</td>\n",
              "      <td>4704.433498</td>\n",
              "      <td>649400.0</td>\n",
              "    </tr>\n",
              "    <tr>\n",
              "      <th>601</th>\n",
              "      <td>Ashburton</td>\n",
              "      <td>3/39 Solway St</td>\n",
              "      <td>3</td>\n",
              "      <td>t</td>\n",
              "      <td>2050000.0</td>\n",
              "      <td>S</td>\n",
              "      <td>Fletchers</td>\n",
              "      <td>3/12/2016</td>\n",
              "      <td>11.0</td>\n",
              "      <td>3147.0</td>\n",
              "      <td>...</td>\n",
              "      <td>315.0</td>\n",
              "      <td>2014.0</td>\n",
              "      <td>Boroondara City Council</td>\n",
              "      <td>-37.87400</td>\n",
              "      <td>145.07140</td>\n",
              "      <td>Southern Metropolitan</td>\n",
              "      <td>3052.0</td>\n",
              "      <td>683333.333333</td>\n",
              "      <td>6612.903226</td>\n",
              "      <td>1394000.0</td>\n",
              "    </tr>\n",
              "    <tr>\n",
              "      <th>...</th>\n",
              "      <td>...</td>\n",
              "      <td>...</td>\n",
              "      <td>...</td>\n",
              "      <td>...</td>\n",
              "      <td>...</td>\n",
              "      <td>...</td>\n",
              "      <td>...</td>\n",
              "      <td>...</td>\n",
              "      <td>...</td>\n",
              "      <td>...</td>\n",
              "      <td>...</td>\n",
              "      <td>...</td>\n",
              "      <td>...</td>\n",
              "      <td>...</td>\n",
              "      <td>...</td>\n",
              "      <td>...</td>\n",
              "      <td>...</td>\n",
              "      <td>...</td>\n",
              "      <td>...</td>\n",
              "      <td>...</td>\n",
              "      <td>...</td>\n",
              "    </tr>\n",
              "    <tr>\n",
              "      <th>34516</th>\n",
              "      <td>Mont Albert</td>\n",
              "      <td>7 Gordon St</td>\n",
              "      <td>3</td>\n",
              "      <td>h</td>\n",
              "      <td>1600000.0</td>\n",
              "      <td>PI</td>\n",
              "      <td>Woodards</td>\n",
              "      <td>24/02/2018</td>\n",
              "      <td>10.2</td>\n",
              "      <td>3127.0</td>\n",
              "      <td>...</td>\n",
              "      <td>NaN</td>\n",
              "      <td>NaN</td>\n",
              "      <td>Boroondara City Council</td>\n",
              "      <td>-37.82141</td>\n",
              "      <td>145.10169</td>\n",
              "      <td>Eastern Metropolitan</td>\n",
              "      <td>2079.0</td>\n",
              "      <td>533333.333333</td>\n",
              "      <td>1923.076923</td>\n",
              "      <td>1088000.0</td>\n",
              "    </tr>\n",
              "    <tr>\n",
              "      <th>34766</th>\n",
              "      <td>Surrey Hills</td>\n",
              "      <td>56 Croydon Rd</td>\n",
              "      <td>3</td>\n",
              "      <td>h</td>\n",
              "      <td>1750000.0</td>\n",
              "      <td>VB</td>\n",
              "      <td>Jellis</td>\n",
              "      <td>24/02/2018</td>\n",
              "      <td>10.2</td>\n",
              "      <td>3127.0</td>\n",
              "      <td>...</td>\n",
              "      <td>151.0</td>\n",
              "      <td>1997.0</td>\n",
              "      <td>Boroondara City Council</td>\n",
              "      <td>-37.82338</td>\n",
              "      <td>145.09236</td>\n",
              "      <td>Southern Metropolitan</td>\n",
              "      <td>5457.0</td>\n",
              "      <td>583333.333333</td>\n",
              "      <td>4569.190601</td>\n",
              "      <td>1190000.0</td>\n",
              "    </tr>\n",
              "    <tr>\n",
              "      <th>34767</th>\n",
              "      <td>Surrey Hills</td>\n",
              "      <td>22 Empress Rd</td>\n",
              "      <td>4</td>\n",
              "      <td>h</td>\n",
              "      <td>NaN</td>\n",
              "      <td>S</td>\n",
              "      <td>Marshall</td>\n",
              "      <td>24/02/2018</td>\n",
              "      <td>10.2</td>\n",
              "      <td>3127.0</td>\n",
              "      <td>...</td>\n",
              "      <td>140.0</td>\n",
              "      <td>1910.0</td>\n",
              "      <td>Boroondara City Council</td>\n",
              "      <td>-37.82008</td>\n",
              "      <td>145.08883</td>\n",
              "      <td>Southern Metropolitan</td>\n",
              "      <td>5457.0</td>\n",
              "      <td>NaN</td>\n",
              "      <td>NaN</td>\n",
              "      <td>NaN</td>\n",
              "    </tr>\n",
              "    <tr>\n",
              "      <th>34768</th>\n",
              "      <td>Surrey Hills</td>\n",
              "      <td>1/20 Thornton Av</td>\n",
              "      <td>2</td>\n",
              "      <td>u</td>\n",
              "      <td>958000.0</td>\n",
              "      <td>S</td>\n",
              "      <td>Philip</td>\n",
              "      <td>24/02/2018</td>\n",
              "      <td>10.2</td>\n",
              "      <td>3127.0</td>\n",
              "      <td>...</td>\n",
              "      <td>NaN</td>\n",
              "      <td>NaN</td>\n",
              "      <td>Boroondara City Council</td>\n",
              "      <td>NaN</td>\n",
              "      <td>NaN</td>\n",
              "      <td>Southern Metropolitan</td>\n",
              "      <td>5457.0</td>\n",
              "      <td>479000.000000</td>\n",
              "      <td>NaN</td>\n",
              "      <td>651440.0</td>\n",
              "    </tr>\n",
              "    <tr>\n",
              "      <th>34769</th>\n",
              "      <td>Surrey Hills</td>\n",
              "      <td>1/4 Wells St</td>\n",
              "      <td>2</td>\n",
              "      <td>u</td>\n",
              "      <td>NaN</td>\n",
              "      <td>SP</td>\n",
              "      <td>Jellis</td>\n",
              "      <td>24/02/2018</td>\n",
              "      <td>10.2</td>\n",
              "      <td>3127.0</td>\n",
              "      <td>...</td>\n",
              "      <td>NaN</td>\n",
              "      <td>NaN</td>\n",
              "      <td>Boroondara City Council</td>\n",
              "      <td>NaN</td>\n",
              "      <td>NaN</td>\n",
              "      <td>Southern Metropolitan</td>\n",
              "      <td>5457.0</td>\n",
              "      <td>NaN</td>\n",
              "      <td>NaN</td>\n",
              "      <td>NaN</td>\n",
              "    </tr>\n",
              "  </tbody>\n",
              "</table>\n",
              "<p>3675 rows × 24 columns</p>\n",
              "</div>\n",
              "      <button class=\"colab-df-convert\" onclick=\"convertToInteractive('df-b9f8397d-24a7-4f29-87f0-0fd00add4792')\"\n",
              "              title=\"Convert this dataframe to an interactive table.\"\n",
              "              style=\"display:none;\">\n",
              "        \n",
              "  <svg xmlns=\"http://www.w3.org/2000/svg\" height=\"24px\"viewBox=\"0 0 24 24\"\n",
              "       width=\"24px\">\n",
              "    <path d=\"M0 0h24v24H0V0z\" fill=\"none\"/>\n",
              "    <path d=\"M18.56 5.44l.94 2.06.94-2.06 2.06-.94-2.06-.94-.94-2.06-.94 2.06-2.06.94zm-11 1L8.5 8.5l.94-2.06 2.06-.94-2.06-.94L8.5 2.5l-.94 2.06-2.06.94zm10 10l.94 2.06.94-2.06 2.06-.94-2.06-.94-.94-2.06-.94 2.06-2.06.94z\"/><path d=\"M17.41 7.96l-1.37-1.37c-.4-.4-.92-.59-1.43-.59-.52 0-1.04.2-1.43.59L10.3 9.45l-7.72 7.72c-.78.78-.78 2.05 0 2.83L4 21.41c.39.39.9.59 1.41.59.51 0 1.02-.2 1.41-.59l7.78-7.78 2.81-2.81c.8-.78.8-2.07 0-2.86zM5.41 20L4 18.59l7.72-7.72 1.47 1.35L5.41 20z\"/>\n",
              "  </svg>\n",
              "      </button>\n",
              "      \n",
              "  <style>\n",
              "    .colab-df-container {\n",
              "      display:flex;\n",
              "      flex-wrap:wrap;\n",
              "      gap: 12px;\n",
              "    }\n",
              "\n",
              "    .colab-df-convert {\n",
              "      background-color: #E8F0FE;\n",
              "      border: none;\n",
              "      border-radius: 50%;\n",
              "      cursor: pointer;\n",
              "      display: none;\n",
              "      fill: #1967D2;\n",
              "      height: 32px;\n",
              "      padding: 0 0 0 0;\n",
              "      width: 32px;\n",
              "    }\n",
              "\n",
              "    .colab-df-convert:hover {\n",
              "      background-color: #E2EBFA;\n",
              "      box-shadow: 0px 1px 2px rgba(60, 64, 67, 0.3), 0px 1px 3px 1px rgba(60, 64, 67, 0.15);\n",
              "      fill: #174EA6;\n",
              "    }\n",
              "\n",
              "    [theme=dark] .colab-df-convert {\n",
              "      background-color: #3B4455;\n",
              "      fill: #D2E3FC;\n",
              "    }\n",
              "\n",
              "    [theme=dark] .colab-df-convert:hover {\n",
              "      background-color: #434B5C;\n",
              "      box-shadow: 0px 1px 3px 1px rgba(0, 0, 0, 0.15);\n",
              "      filter: drop-shadow(0px 1px 2px rgba(0, 0, 0, 0.3));\n",
              "      fill: #FFFFFF;\n",
              "    }\n",
              "  </style>\n",
              "\n",
              "      <script>\n",
              "        const buttonEl =\n",
              "          document.querySelector('#df-b9f8397d-24a7-4f29-87f0-0fd00add4792 button.colab-df-convert');\n",
              "        buttonEl.style.display =\n",
              "          google.colab.kernel.accessAllowed ? 'block' : 'none';\n",
              "\n",
              "        async function convertToInteractive(key) {\n",
              "          const element = document.querySelector('#df-b9f8397d-24a7-4f29-87f0-0fd00add4792');\n",
              "          const dataTable =\n",
              "            await google.colab.kernel.invokeFunction('convertToInteractive',\n",
              "                                                     [key], {});\n",
              "          if (!dataTable) return;\n",
              "\n",
              "          const docLinkHtml = 'Like what you see? Visit the ' +\n",
              "            '<a target=\"_blank\" href=https://colab.research.google.com/notebooks/data_table.ipynb>data table notebook</a>'\n",
              "            + ' to learn more about interactive tables.';\n",
              "          element.innerHTML = '';\n",
              "          dataTable['output_type'] = 'display_data';\n",
              "          await google.colab.output.renderOutput(dataTable, element);\n",
              "          const docLink = document.createElement('div');\n",
              "          docLink.innerHTML = docLinkHtml;\n",
              "          element.appendChild(docLink);\n",
              "        }\n",
              "      </script>\n",
              "    </div>\n",
              "  </div>\n",
              "  "
            ]
          },
          "metadata": {},
          "execution_count": 31
        }
      ]
    },
    {
      "cell_type": "markdown",
      "source": [
        "Get the mean Price of all the sales made in `Boroondara City Council` \n",
        "\n",
        "\n"
      ],
      "metadata": {
        "id": "KABwfcciUbIj"
      }
    },
    {
      "cell_type": "code",
      "source": [
        "sales.loc[sales['CouncilArea'] == 'Boroondara City Council', 'Price'].describe().astype(int)\n"
      ],
      "metadata": {
        "colab": {
          "base_uri": "https://localhost:8080/"
        },
        "id": "_aUMIn3XU03x",
        "outputId": "b05b4747-115b-4359-98bd-efb3a53e8d9b"
      },
      "execution_count": 34,
      "outputs": [
        {
          "output_type": "execute_result",
          "data": {
            "text/plain": [
              "count       2520\n",
              "mean     1667326\n",
              "std       938385\n",
              "min       160000\n",
              "25%       873750\n",
              "50%      1600000\n",
              "75%      2160000\n",
              "max      8000000\n",
              "Name: Price, dtype: int64"
            ]
          },
          "metadata": {},
          "execution_count": 34
        }
      ]
    },
    {
      "cell_type": "markdown",
      "source": [
        "How many records belong to all the sales made in `Boroondara City Council` or `Bayside City Council`\n"
      ],
      "metadata": {
        "id": "Tq9MlEMdUc0k"
      }
    },
    {
      "cell_type": "code",
      "source": [
        "sales.loc[(sales['CouncilArea'] == 'Boroondara City Council') | (sales['CouncilArea'] == 'Bayside City Council'), 'Price'].describe().astype(int)\n"
      ],
      "metadata": {
        "colab": {
          "base_uri": "https://localhost:8080/"
        },
        "id": "7qRXMZNfWQ1s",
        "outputId": "914beccd-9619-4806-f6ad-0eaec2b70a1e"
      },
      "execution_count": 40,
      "outputs": [
        {
          "output_type": "execute_result",
          "data": {
            "text/plain": [
              "count        3831\n",
              "mean      1635430\n",
              "std        903704\n",
              "min        160000\n",
              "25%        927000\n",
              "50%       1530500\n",
              "75%       2080500\n",
              "max      11200000\n",
              "Name: Price, dtype: int64"
            ]
          },
          "metadata": {},
          "execution_count": 40
        }
      ]
    },
    {
      "cell_type": "markdown",
      "source": [
        "Get the mean Sales price of all the sales made in `Boroondara City Council` having more than 5 rooms by Barry seller\n"
      ],
      "metadata": {
        "id": "kCi_2yC_UfZd"
      }
    },
    {
      "cell_type": "code",
      "source": [
        "sales.loc[(sales['CouncilArea'] == 'Boroondara City Council') & (sales['Rooms'] > 5) * (sales['SellerG'] == 'Barry'), 'Price'].describe().astype(int)\n"
      ],
      "metadata": {
        "colab": {
          "base_uri": "https://localhost:8080/"
        },
        "id": "y4p4b5f4UexN",
        "outputId": "1f18aace-fb43-41e1-d8fb-f1232a6b3367"
      },
      "execution_count": 66,
      "outputs": [
        {
          "output_type": "execute_result",
          "data": {
            "text/plain": [
              "count          2\n",
              "mean     1975000\n",
              "std       883883\n",
              "min      1350000\n",
              "25%      1662500\n",
              "50%      1975000\n",
              "75%      2287500\n",
              "max      2600000\n",
              "Name: Price, dtype: int64"
            ]
          },
          "metadata": {},
          "execution_count": 66
        }
      ]
    },
    {
      "cell_type": "code",
      "source": [],
      "metadata": {
        "id": "DxplsOzzYMK9"
      },
      "execution_count": null,
      "outputs": []
    },
    {
      "cell_type": "code",
      "source": [
        "sales"
      ],
      "metadata": {
        "colab": {
          "base_uri": "https://localhost:8080/",
          "height": 925
        },
        "id": "M5h_vhI0W6Du",
        "outputId": "941d232e-6495-481c-a5e0-620097b85467"
      },
      "execution_count": 45,
      "outputs": [
        {
          "output_type": "execute_result",
          "data": {
            "text/plain": [
              "           Suburb             Address  Rooms Type      Price Method  \\\n",
              "0      Abbotsford       68 Studley St      2    h        NaN     SS   \n",
              "1      Abbotsford        85 Turner St      2    h  1480000.0      S   \n",
              "2      Abbotsford     25 Bloomburg St      2    h  1035000.0      S   \n",
              "3      Abbotsford  18/659 Victoria St      3    u        NaN     VB   \n",
              "4      Abbotsford        5 Charles St      3    h  1465000.0     SP   \n",
              "...           ...                 ...    ...  ...        ...    ...   \n",
              "34852  Yarraville         13 Burns St      4    h  1480000.0     PI   \n",
              "34853  Yarraville       29A Murray St      2    h   888000.0     SP   \n",
              "34854  Yarraville      147A Severn St      2    t   705000.0      S   \n",
              "34855  Yarraville    12/37 Stephen St      3    h  1140000.0     SP   \n",
              "34856  Yarraville    3 Tarrengower St      2    h  1020000.0     PI   \n",
              "\n",
              "             SellerG        Date  Distance  Postcode  ...  BuildingArea  \\\n",
              "0             Jellis   3/09/2016       2.5    3067.0  ...           NaN   \n",
              "1             Biggin   3/12/2016       2.5    3067.0  ...           NaN   \n",
              "2             Biggin   4/02/2016       2.5    3067.0  ...          79.0   \n",
              "3             Rounds   4/02/2016       2.5    3067.0  ...           NaN   \n",
              "4             Biggin   4/03/2017       2.5    3067.0  ...         150.0   \n",
              "...              ...         ...       ...       ...  ...           ...   \n",
              "34852            Jas  24/02/2018       6.3    3013.0  ...           NaN   \n",
              "34853        Sweeney  24/02/2018       6.3    3013.0  ...         104.0   \n",
              "34854            Jas  24/02/2018       6.3    3013.0  ...         120.0   \n",
              "34855  hockingstuart  24/02/2018       6.3    3013.0  ...           NaN   \n",
              "34856             RW  24/02/2018       6.3    3013.0  ...         103.0   \n",
              "\n",
              "       YearBuilt               CouncilArea  Lattitude  Longtitude  \\\n",
              "0            NaN        Yarra City Council  -37.80140   144.99580   \n",
              "1            NaN        Yarra City Council  -37.79960   144.99840   \n",
              "2         1900.0        Yarra City Council  -37.80790   144.99340   \n",
              "3            NaN        Yarra City Council  -37.81140   145.01160   \n",
              "4         1900.0        Yarra City Council  -37.80930   144.99440   \n",
              "...          ...                       ...        ...         ...   \n",
              "34852        NaN  Maribyrnong City Council  -37.81053   144.88467   \n",
              "34853     2018.0  Maribyrnong City Council  -37.81551   144.88826   \n",
              "34854     2000.0  Maribyrnong City Council  -37.82286   144.87856   \n",
              "34855        NaN  Maribyrnong City Council        NaN         NaN   \n",
              "34856     1930.0  Maribyrnong City Council  -37.81810   144.89351   \n",
              "\n",
              "                  Regionname Propertycount  Price per room  Price per m2  \\\n",
              "0      Northern Metropolitan        4019.0             NaN           NaN   \n",
              "1      Northern Metropolitan        4019.0   740000.000000   7326.732673   \n",
              "2      Northern Metropolitan        4019.0   517500.000000   6634.615385   \n",
              "3      Northern Metropolitan        4019.0             NaN           NaN   \n",
              "4      Northern Metropolitan        4019.0   488333.333333  10932.835821   \n",
              "...                      ...           ...             ...           ...   \n",
              "34852   Western Metropolitan        6543.0   370000.000000   2495.784148   \n",
              "34853   Western Metropolitan        6543.0   444000.000000   9061.224490   \n",
              "34854   Western Metropolitan        6543.0   352500.000000   3204.545455   \n",
              "34855   Western Metropolitan        6543.0   380000.000000           NaN   \n",
              "34856   Western Metropolitan        6543.0   510000.000000   4080.000000   \n",
              "\n",
              "       Price_USD  \n",
              "0            NaN  \n",
              "1      1006400.0  \n",
              "2       703800.0  \n",
              "3            NaN  \n",
              "4       996200.0  \n",
              "...          ...  \n",
              "34852  1006400.0  \n",
              "34853   603840.0  \n",
              "34854   479400.0  \n",
              "34855   775200.0  \n",
              "34856   693600.0  \n",
              "\n",
              "[34857 rows x 24 columns]"
            ],
            "text/html": [
              "\n",
              "  <div id=\"df-5f582711-d36b-4e73-a5c1-a8c32e37b0f3\">\n",
              "    <div class=\"colab-df-container\">\n",
              "      <div>\n",
              "<style scoped>\n",
              "    .dataframe tbody tr th:only-of-type {\n",
              "        vertical-align: middle;\n",
              "    }\n",
              "\n",
              "    .dataframe tbody tr th {\n",
              "        vertical-align: top;\n",
              "    }\n",
              "\n",
              "    .dataframe thead th {\n",
              "        text-align: right;\n",
              "    }\n",
              "</style>\n",
              "<table border=\"1\" class=\"dataframe\">\n",
              "  <thead>\n",
              "    <tr style=\"text-align: right;\">\n",
              "      <th></th>\n",
              "      <th>Suburb</th>\n",
              "      <th>Address</th>\n",
              "      <th>Rooms</th>\n",
              "      <th>Type</th>\n",
              "      <th>Price</th>\n",
              "      <th>Method</th>\n",
              "      <th>SellerG</th>\n",
              "      <th>Date</th>\n",
              "      <th>Distance</th>\n",
              "      <th>Postcode</th>\n",
              "      <th>...</th>\n",
              "      <th>BuildingArea</th>\n",
              "      <th>YearBuilt</th>\n",
              "      <th>CouncilArea</th>\n",
              "      <th>Lattitude</th>\n",
              "      <th>Longtitude</th>\n",
              "      <th>Regionname</th>\n",
              "      <th>Propertycount</th>\n",
              "      <th>Price per room</th>\n",
              "      <th>Price per m2</th>\n",
              "      <th>Price_USD</th>\n",
              "    </tr>\n",
              "  </thead>\n",
              "  <tbody>\n",
              "    <tr>\n",
              "      <th>0</th>\n",
              "      <td>Abbotsford</td>\n",
              "      <td>68 Studley St</td>\n",
              "      <td>2</td>\n",
              "      <td>h</td>\n",
              "      <td>NaN</td>\n",
              "      <td>SS</td>\n",
              "      <td>Jellis</td>\n",
              "      <td>3/09/2016</td>\n",
              "      <td>2.5</td>\n",
              "      <td>3067.0</td>\n",
              "      <td>...</td>\n",
              "      <td>NaN</td>\n",
              "      <td>NaN</td>\n",
              "      <td>Yarra City Council</td>\n",
              "      <td>-37.80140</td>\n",
              "      <td>144.99580</td>\n",
              "      <td>Northern Metropolitan</td>\n",
              "      <td>4019.0</td>\n",
              "      <td>NaN</td>\n",
              "      <td>NaN</td>\n",
              "      <td>NaN</td>\n",
              "    </tr>\n",
              "    <tr>\n",
              "      <th>1</th>\n",
              "      <td>Abbotsford</td>\n",
              "      <td>85 Turner St</td>\n",
              "      <td>2</td>\n",
              "      <td>h</td>\n",
              "      <td>1480000.0</td>\n",
              "      <td>S</td>\n",
              "      <td>Biggin</td>\n",
              "      <td>3/12/2016</td>\n",
              "      <td>2.5</td>\n",
              "      <td>3067.0</td>\n",
              "      <td>...</td>\n",
              "      <td>NaN</td>\n",
              "      <td>NaN</td>\n",
              "      <td>Yarra City Council</td>\n",
              "      <td>-37.79960</td>\n",
              "      <td>144.99840</td>\n",
              "      <td>Northern Metropolitan</td>\n",
              "      <td>4019.0</td>\n",
              "      <td>740000.000000</td>\n",
              "      <td>7326.732673</td>\n",
              "      <td>1006400.0</td>\n",
              "    </tr>\n",
              "    <tr>\n",
              "      <th>2</th>\n",
              "      <td>Abbotsford</td>\n",
              "      <td>25 Bloomburg St</td>\n",
              "      <td>2</td>\n",
              "      <td>h</td>\n",
              "      <td>1035000.0</td>\n",
              "      <td>S</td>\n",
              "      <td>Biggin</td>\n",
              "      <td>4/02/2016</td>\n",
              "      <td>2.5</td>\n",
              "      <td>3067.0</td>\n",
              "      <td>...</td>\n",
              "      <td>79.0</td>\n",
              "      <td>1900.0</td>\n",
              "      <td>Yarra City Council</td>\n",
              "      <td>-37.80790</td>\n",
              "      <td>144.99340</td>\n",
              "      <td>Northern Metropolitan</td>\n",
              "      <td>4019.0</td>\n",
              "      <td>517500.000000</td>\n",
              "      <td>6634.615385</td>\n",
              "      <td>703800.0</td>\n",
              "    </tr>\n",
              "    <tr>\n",
              "      <th>3</th>\n",
              "      <td>Abbotsford</td>\n",
              "      <td>18/659 Victoria St</td>\n",
              "      <td>3</td>\n",
              "      <td>u</td>\n",
              "      <td>NaN</td>\n",
              "      <td>VB</td>\n",
              "      <td>Rounds</td>\n",
              "      <td>4/02/2016</td>\n",
              "      <td>2.5</td>\n",
              "      <td>3067.0</td>\n",
              "      <td>...</td>\n",
              "      <td>NaN</td>\n",
              "      <td>NaN</td>\n",
              "      <td>Yarra City Council</td>\n",
              "      <td>-37.81140</td>\n",
              "      <td>145.01160</td>\n",
              "      <td>Northern Metropolitan</td>\n",
              "      <td>4019.0</td>\n",
              "      <td>NaN</td>\n",
              "      <td>NaN</td>\n",
              "      <td>NaN</td>\n",
              "    </tr>\n",
              "    <tr>\n",
              "      <th>4</th>\n",
              "      <td>Abbotsford</td>\n",
              "      <td>5 Charles St</td>\n",
              "      <td>3</td>\n",
              "      <td>h</td>\n",
              "      <td>1465000.0</td>\n",
              "      <td>SP</td>\n",
              "      <td>Biggin</td>\n",
              "      <td>4/03/2017</td>\n",
              "      <td>2.5</td>\n",
              "      <td>3067.0</td>\n",
              "      <td>...</td>\n",
              "      <td>150.0</td>\n",
              "      <td>1900.0</td>\n",
              "      <td>Yarra City Council</td>\n",
              "      <td>-37.80930</td>\n",
              "      <td>144.99440</td>\n",
              "      <td>Northern Metropolitan</td>\n",
              "      <td>4019.0</td>\n",
              "      <td>488333.333333</td>\n",
              "      <td>10932.835821</td>\n",
              "      <td>996200.0</td>\n",
              "    </tr>\n",
              "    <tr>\n",
              "      <th>...</th>\n",
              "      <td>...</td>\n",
              "      <td>...</td>\n",
              "      <td>...</td>\n",
              "      <td>...</td>\n",
              "      <td>...</td>\n",
              "      <td>...</td>\n",
              "      <td>...</td>\n",
              "      <td>...</td>\n",
              "      <td>...</td>\n",
              "      <td>...</td>\n",
              "      <td>...</td>\n",
              "      <td>...</td>\n",
              "      <td>...</td>\n",
              "      <td>...</td>\n",
              "      <td>...</td>\n",
              "      <td>...</td>\n",
              "      <td>...</td>\n",
              "      <td>...</td>\n",
              "      <td>...</td>\n",
              "      <td>...</td>\n",
              "      <td>...</td>\n",
              "    </tr>\n",
              "    <tr>\n",
              "      <th>34852</th>\n",
              "      <td>Yarraville</td>\n",
              "      <td>13 Burns St</td>\n",
              "      <td>4</td>\n",
              "      <td>h</td>\n",
              "      <td>1480000.0</td>\n",
              "      <td>PI</td>\n",
              "      <td>Jas</td>\n",
              "      <td>24/02/2018</td>\n",
              "      <td>6.3</td>\n",
              "      <td>3013.0</td>\n",
              "      <td>...</td>\n",
              "      <td>NaN</td>\n",
              "      <td>NaN</td>\n",
              "      <td>Maribyrnong City Council</td>\n",
              "      <td>-37.81053</td>\n",
              "      <td>144.88467</td>\n",
              "      <td>Western Metropolitan</td>\n",
              "      <td>6543.0</td>\n",
              "      <td>370000.000000</td>\n",
              "      <td>2495.784148</td>\n",
              "      <td>1006400.0</td>\n",
              "    </tr>\n",
              "    <tr>\n",
              "      <th>34853</th>\n",
              "      <td>Yarraville</td>\n",
              "      <td>29A Murray St</td>\n",
              "      <td>2</td>\n",
              "      <td>h</td>\n",
              "      <td>888000.0</td>\n",
              "      <td>SP</td>\n",
              "      <td>Sweeney</td>\n",
              "      <td>24/02/2018</td>\n",
              "      <td>6.3</td>\n",
              "      <td>3013.0</td>\n",
              "      <td>...</td>\n",
              "      <td>104.0</td>\n",
              "      <td>2018.0</td>\n",
              "      <td>Maribyrnong City Council</td>\n",
              "      <td>-37.81551</td>\n",
              "      <td>144.88826</td>\n",
              "      <td>Western Metropolitan</td>\n",
              "      <td>6543.0</td>\n",
              "      <td>444000.000000</td>\n",
              "      <td>9061.224490</td>\n",
              "      <td>603840.0</td>\n",
              "    </tr>\n",
              "    <tr>\n",
              "      <th>34854</th>\n",
              "      <td>Yarraville</td>\n",
              "      <td>147A Severn St</td>\n",
              "      <td>2</td>\n",
              "      <td>t</td>\n",
              "      <td>705000.0</td>\n",
              "      <td>S</td>\n",
              "      <td>Jas</td>\n",
              "      <td>24/02/2018</td>\n",
              "      <td>6.3</td>\n",
              "      <td>3013.0</td>\n",
              "      <td>...</td>\n",
              "      <td>120.0</td>\n",
              "      <td>2000.0</td>\n",
              "      <td>Maribyrnong City Council</td>\n",
              "      <td>-37.82286</td>\n",
              "      <td>144.87856</td>\n",
              "      <td>Western Metropolitan</td>\n",
              "      <td>6543.0</td>\n",
              "      <td>352500.000000</td>\n",
              "      <td>3204.545455</td>\n",
              "      <td>479400.0</td>\n",
              "    </tr>\n",
              "    <tr>\n",
              "      <th>34855</th>\n",
              "      <td>Yarraville</td>\n",
              "      <td>12/37 Stephen St</td>\n",
              "      <td>3</td>\n",
              "      <td>h</td>\n",
              "      <td>1140000.0</td>\n",
              "      <td>SP</td>\n",
              "      <td>hockingstuart</td>\n",
              "      <td>24/02/2018</td>\n",
              "      <td>6.3</td>\n",
              "      <td>3013.0</td>\n",
              "      <td>...</td>\n",
              "      <td>NaN</td>\n",
              "      <td>NaN</td>\n",
              "      <td>Maribyrnong City Council</td>\n",
              "      <td>NaN</td>\n",
              "      <td>NaN</td>\n",
              "      <td>Western Metropolitan</td>\n",
              "      <td>6543.0</td>\n",
              "      <td>380000.000000</td>\n",
              "      <td>NaN</td>\n",
              "      <td>775200.0</td>\n",
              "    </tr>\n",
              "    <tr>\n",
              "      <th>34856</th>\n",
              "      <td>Yarraville</td>\n",
              "      <td>3 Tarrengower St</td>\n",
              "      <td>2</td>\n",
              "      <td>h</td>\n",
              "      <td>1020000.0</td>\n",
              "      <td>PI</td>\n",
              "      <td>RW</td>\n",
              "      <td>24/02/2018</td>\n",
              "      <td>6.3</td>\n",
              "      <td>3013.0</td>\n",
              "      <td>...</td>\n",
              "      <td>103.0</td>\n",
              "      <td>1930.0</td>\n",
              "      <td>Maribyrnong City Council</td>\n",
              "      <td>-37.81810</td>\n",
              "      <td>144.89351</td>\n",
              "      <td>Western Metropolitan</td>\n",
              "      <td>6543.0</td>\n",
              "      <td>510000.000000</td>\n",
              "      <td>4080.000000</td>\n",
              "      <td>693600.0</td>\n",
              "    </tr>\n",
              "  </tbody>\n",
              "</table>\n",
              "<p>34857 rows × 24 columns</p>\n",
              "</div>\n",
              "      <button class=\"colab-df-convert\" onclick=\"convertToInteractive('df-5f582711-d36b-4e73-a5c1-a8c32e37b0f3')\"\n",
              "              title=\"Convert this dataframe to an interactive table.\"\n",
              "              style=\"display:none;\">\n",
              "        \n",
              "  <svg xmlns=\"http://www.w3.org/2000/svg\" height=\"24px\"viewBox=\"0 0 24 24\"\n",
              "       width=\"24px\">\n",
              "    <path d=\"M0 0h24v24H0V0z\" fill=\"none\"/>\n",
              "    <path d=\"M18.56 5.44l.94 2.06.94-2.06 2.06-.94-2.06-.94-.94-2.06-.94 2.06-2.06.94zm-11 1L8.5 8.5l.94-2.06 2.06-.94-2.06-.94L8.5 2.5l-.94 2.06-2.06.94zm10 10l.94 2.06.94-2.06 2.06-.94-2.06-.94-.94-2.06-.94 2.06-2.06.94z\"/><path d=\"M17.41 7.96l-1.37-1.37c-.4-.4-.92-.59-1.43-.59-.52 0-1.04.2-1.43.59L10.3 9.45l-7.72 7.72c-.78.78-.78 2.05 0 2.83L4 21.41c.39.39.9.59 1.41.59.51 0 1.02-.2 1.41-.59l7.78-7.78 2.81-2.81c.8-.78.8-2.07 0-2.86zM5.41 20L4 18.59l7.72-7.72 1.47 1.35L5.41 20z\"/>\n",
              "  </svg>\n",
              "      </button>\n",
              "      \n",
              "  <style>\n",
              "    .colab-df-container {\n",
              "      display:flex;\n",
              "      flex-wrap:wrap;\n",
              "      gap: 12px;\n",
              "    }\n",
              "\n",
              "    .colab-df-convert {\n",
              "      background-color: #E8F0FE;\n",
              "      border: none;\n",
              "      border-radius: 50%;\n",
              "      cursor: pointer;\n",
              "      display: none;\n",
              "      fill: #1967D2;\n",
              "      height: 32px;\n",
              "      padding: 0 0 0 0;\n",
              "      width: 32px;\n",
              "    }\n",
              "\n",
              "    .colab-df-convert:hover {\n",
              "      background-color: #E2EBFA;\n",
              "      box-shadow: 0px 1px 2px rgba(60, 64, 67, 0.3), 0px 1px 3px 1px rgba(60, 64, 67, 0.15);\n",
              "      fill: #174EA6;\n",
              "    }\n",
              "\n",
              "    [theme=dark] .colab-df-convert {\n",
              "      background-color: #3B4455;\n",
              "      fill: #D2E3FC;\n",
              "    }\n",
              "\n",
              "    [theme=dark] .colab-df-convert:hover {\n",
              "      background-color: #434B5C;\n",
              "      box-shadow: 0px 1px 3px 1px rgba(0, 0, 0, 0.15);\n",
              "      filter: drop-shadow(0px 1px 2px rgba(0, 0, 0, 0.3));\n",
              "      fill: #FFFFFF;\n",
              "    }\n",
              "  </style>\n",
              "\n",
              "      <script>\n",
              "        const buttonEl =\n",
              "          document.querySelector('#df-5f582711-d36b-4e73-a5c1-a8c32e37b0f3 button.colab-df-convert');\n",
              "        buttonEl.style.display =\n",
              "          google.colab.kernel.accessAllowed ? 'block' : 'none';\n",
              "\n",
              "        async function convertToInteractive(key) {\n",
              "          const element = document.querySelector('#df-5f582711-d36b-4e73-a5c1-a8c32e37b0f3');\n",
              "          const dataTable =\n",
              "            await google.colab.kernel.invokeFunction('convertToInteractive',\n",
              "                                                     [key], {});\n",
              "          if (!dataTable) return;\n",
              "\n",
              "          const docLinkHtml = 'Like what you see? Visit the ' +\n",
              "            '<a target=\"_blank\" href=https://colab.research.google.com/notebooks/data_table.ipynb>data table notebook</a>'\n",
              "            + ' to learn more about interactive tables.';\n",
              "          element.innerHTML = '';\n",
              "          dataTable['output_type'] = 'display_data';\n",
              "          await google.colab.output.renderOutput(dataTable, element);\n",
              "          const docLink = document.createElement('div');\n",
              "          docLink.innerHTML = docLinkHtml;\n",
              "          element.appendChild(docLink);\n",
              "        }\n",
              "      </script>\n",
              "    </div>\n",
              "  </div>\n",
              "  "
            ]
          },
          "metadata": {},
          "execution_count": 45
        },
        {
          "output_type": "stream",
          "name": "stdout",
          "text": [
            "Warning: Total number of columns (24) exceeds max_columns (20) limiting to first (20) columns.\n",
            "Warning: total number of rows (34857) exceeds max_rows (20000). Limiting to first (20000) rows.\n"
          ]
        }
      ]
    },
    {
      "cell_type": "code",
      "source": [],
      "metadata": {
        "id": "zjXTOkRlW-Z6"
      },
      "execution_count": null,
      "outputs": []
    }
  ]
}