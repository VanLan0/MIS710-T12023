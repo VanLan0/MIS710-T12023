{
  "nbformat": 4,
  "nbformat_minor": 0,
  "metadata": {
    "colab": {
      "provenance": [],
      "include_colab_link": true
    },
    "kernelspec": {
      "name": "python3",
      "display_name": "Python 3"
    },
    "language_info": {
      "name": "python"
    }
  },
  "cells": [
    {
      "cell_type": "markdown",
      "metadata": {
        "id": "view-in-github",
        "colab_type": "text"
      },
      "source": [
        "<a href=\"https://colab.research.google.com/github/thwc/MIS710-T12023/blob/main/Week%202/MIS710Lab2-Solution.ipynb\" target=\"_parent\"><img src=\"https://colab.research.google.com/assets/colab-badge.svg\" alt=\"Open In Colab\"/></a>"
      ]
    },
    {
      "cell_type": "markdown",
      "metadata": {
        "id": "MNkJtLWoPpW7"
      },
      "source": [
        "# **MIS710 Lab 2 Week 2**\n",
        "Author: Associate Professor Lemai Nguyen, Thuc Nguyen\n",
        "\n",
        "Objective: to learn Python bacis and load a dataset to view its shape and data types\n",
        "\n",
        "Exercises: https://datacarpentry.org/python-ecology-lesson/01-short-introduction-to-Python/index.html\n",
        "\n",
        "Dataset: Titanic\n",
        "Source: https://www.kaggle.com/c/titanic"
      ]
    },
    {
      "cell_type": "markdown",
      "source": [
        "**To do before the class:**\n",
        "1. read the Lab slides\n",
        "2. access Colab\n",
        "3. make sure you have a google account, and Drive\n",
        "4. download the titanic dataset and store it in your Google drive"
      ],
      "metadata": {
        "id": "XpKsWxRj5byD"
      }
    },
    {
      "cell_type": "markdown",
      "source": [
        "**Student name:**\n",
        "\n",
        "Student ID: "
      ],
      "metadata": {
        "id": "cFlk7601zt-l"
      }
    },
    {
      "cell_type": "markdown",
      "metadata": {
        "id": "jxTV1VTuj9mC"
      },
      "source": [
        "## **Loading Libraries**\n"
      ]
    },
    {
      "cell_type": "code",
      "metadata": {
        "id": "lVf5buwkml_I"
      },
      "source": [
        "#load libraries\n",
        "import pandas as pd #for data manipulation and analysis\n",
        "import numpy as np #for working with arrays\n",
        "\n",
        "#import data visualisation libraries \n",
        "import matplotlib.pyplot as plt\n",
        "import seaborn as sns\n",
        "\n"
      ],
      "execution_count": null,
      "outputs": []
    },
    {
      "cell_type": "markdown",
      "source": [
        "## **Mount your Google drive**"
      ],
      "metadata": {
        "id": "eSIIzLgfNLtN"
      }
    },
    {
      "cell_type": "code",
      "source": [
        "from google.colab import drive\n",
        "drive.mount('/content/drive')"
      ],
      "metadata": {
        "id": "F1_8DccH8qjZ"
      },
      "execution_count": null,
      "outputs": []
    },
    {
      "cell_type": "markdown",
      "metadata": {
        "id": "B38Q50gZm1vQ"
      },
      "source": [
        "## **Loading Data** \n",
        "\n",
        "\n",
        "1.   Load the dataset\n",
        "2.   Explore the data\n",
        "\n"
      ]
    },
    {
      "cell_type": "code",
      "source": [
        "# load dataset\n",
        "records = pd.read_csv(\"/content/drive/MyDrive/MIS710/titanic_train.csv\")\n",
        "\n",
        "#explore the dataset\n",
        "print(records)\n",
        "\n",
        "print('Sample size:', records.shape[0])\n",
        "print('Number of columns:', records.shape[1]) \n",
        "\n"
      ],
      "metadata": {
        "id": "uYGvcxGZVBID"
      },
      "execution_count": null,
      "outputs": []
    },
    {
      "cell_type": "code",
      "source": [
        "print(records.info())\n",
        "print(records.shape)"
      ],
      "metadata": {
        "id": "J75MIJ22WU77"
      },
      "execution_count": null,
      "outputs": []
    },
    {
      "cell_type": "code",
      "source": [
        "records.head()\n",
        "#What is displayed?"
      ],
      "metadata": {
        "id": "wQ_4G0LQW5i8"
      },
      "execution_count": null,
      "outputs": []
    },
    {
      "cell_type": "code",
      "source": [
        "records.tail(10)\n",
        "#What is displayed?"
      ],
      "metadata": {
        "id": "VAXdWumfW_cR"
      },
      "execution_count": null,
      "outputs": []
    },
    {
      "cell_type": "code",
      "source": [
        "records.sample(10)\n",
        "#What is displayed?"
      ],
      "metadata": {
        "id": "28fSuPtSXMoC"
      },
      "execution_count": null,
      "outputs": []
    },
    {
      "cell_type": "code",
      "source": [
        "#print data from a certain column(s)\n",
        "names= records[['Name','Survived']]\n",
        "print(names.shape)\n",
        "print(type(names))\n",
        "print(names.head(5))\n"
      ],
      "metadata": {
        "id": "jhXa7x_tlfSn"
      },
      "execution_count": null,
      "outputs": []
    },
    {
      "cell_type": "code",
      "source": [
        "#select some other columns and print "
      ],
      "metadata": {
        "id": "l_3GE5UQwISu"
      },
      "execution_count": null,
      "outputs": []
    },
    {
      "cell_type": "markdown",
      "source": [
        "## **Are there missing data?** \n",
        "\n",
        "The data preprocessing is cyclic with analysing and visualising data, handling missing data, and feature engineering. For the learning purpose, we show you some simple techniques, you should move between the activities yourself. "
      ],
      "metadata": {
        "id": "a5nysLfRr-Qn"
      }
    },
    {
      "cell_type": "code",
      "source": [
        "#Learn to use for loop, and accessing elements of a dataframe using iloc\n",
        "#Count missing data\n",
        "for i in records.iloc[:,0:13]: \n",
        "  miss=records[i].isna().sum()\n",
        "  print(i,'missing: ', miss)\n"
      ],
      "metadata": {
        "id": "-FK2N3CLuW41"
      },
      "execution_count": null,
      "outputs": []
    },
    {
      "cell_type": "code",
      "source": [
        "#another way to find missing data is using the function isnull()\n",
        "#read about isnull() here https://pandas.pydata.org/docs/reference/api/pandas.isnull.html \n",
        "#useful site: https://www.sharpsightlabs.com/blog/pandas-isnull/ \n",
        "print(records.isnull().sum())"
      ],
      "metadata": {
        "id": "PI1i0nBAyr7B"
      },
      "execution_count": null,
      "outputs": []
    },
    {
      "cell_type": "markdown",
      "source": [
        "## **Variable analysis**\n",
        "\n",
        "Stats and visualtion\n",
        "1.  Univariate analysis\n",
        "2.  Bivariate analysis\n",
        "3.  Multivariate analysis\n",
        "\n",
        "\n"
      ],
      "metadata": {
        "id": "6NuVt14sdE30"
      }
    },
    {
      "cell_type": "markdown",
      "source": [
        "**Univariate analysis explores centrality, summarise and visualises data distribution for each variable at a time**\n"
      ],
      "metadata": {
        "id": "sUv7Rse2r1PL"
      }
    },
    {
      "cell_type": "code",
      "source": [
        "#descriptive stats for numerical variables \n",
        "records.describe()"
      ],
      "metadata": {
        "id": "QfX3RkXzbdi9"
      },
      "execution_count": null,
      "outputs": []
    },
    {
      "cell_type": "markdown",
      "source": [
        "Run the above code and write down here your observations:\n",
        "For example, centrality of age distribution, range, and std. \n",
        "\n",
        "What can you say about some other columns, for example PassengerID and Survived does it make sense?"
      ],
      "metadata": {
        "id": "3Cyq04yxTA3N"
      }
    },
    {
      "cell_type": "code",
      "source": [
        "#set the formatting for floating numbers \n",
        "pd.set_option('display.float_format', lambda x: '%.3f' % x)\n",
        "\n",
        "#summarise categorical columns as well\n",
        "data_types =['object', 'float', 'int'] \n",
        "records.describe(include=data_types)"
      ],
      "metadata": {
        "id": "Uq2kPmNibTyv"
      },
      "execution_count": null,
      "outputs": []
    },
    {
      "cell_type": "markdown",
      "source": [
        "**Explore each numerical variable**"
      ],
      "metadata": {
        "id": "zuLcNFaRf_da"
      }
    },
    {
      "cell_type": "code",
      "source": [
        "#explore each numerical variable\n",
        "print('Age mean: ', (records['Age'].mean()))\n",
        "print('Age meadian: ', (records['Age'].median()))\n",
        "print('Age min: ', (records['Age'].min()))\n",
        "print('Age max: ', (records['Age'].max()))\n",
        "print('Age std: ', (records['Age'].std()))\n"
      ],
      "metadata": {
        "id": "1HwHCTvipf76"
      },
      "execution_count": null,
      "outputs": []
    },
    {
      "cell_type": "code",
      "source": [
        "#Visualise a numerical variable using histrograms using matplot\n",
        "records.Age.hist()"
      ],
      "metadata": {
        "id": "p-lscKMOcAzg"
      },
      "execution_count": null,
      "outputs": []
    },
    {
      "cell_type": "code",
      "source": [
        "records['Age'].plot.hist(grid=True, bins=10, rwidth=2, color='#607e9f')\n",
        "plt.title('Age of passengers')\n",
        "plt.xlabel('Age')\n",
        "plt.ylabel('Frequency')\n",
        "plt.grid(axis='y', alpha=0.75)"
      ],
      "metadata": {
        "id": "3MHWAswjaa_e"
      },
      "execution_count": null,
      "outputs": []
    },
    {
      "cell_type": "code",
      "source": [
        "#using seaborn https://seaborn.pydata.org/generated/seaborn.histplot.html\n",
        "sns.histplot(data=records, x='Age', bins=10, kde=True)"
      ],
      "metadata": {
        "id": "cangeJqbb-0H"
      },
      "execution_count": null,
      "outputs": []
    },
    {
      "cell_type": "code",
      "source": [
        "sns.boxplot(x=records['Age'], color='blue')\n"
      ],
      "metadata": {
        "id": "VrrauM8heLZ9"
      },
      "execution_count": null,
      "outputs": []
    },
    {
      "cell_type": "code",
      "source": [
        "sns.violinplot(x=records['Age'], color='orange')"
      ],
      "metadata": {
        "id": "M9fK2GOmemYR"
      },
      "execution_count": null,
      "outputs": []
    },
    {
      "cell_type": "code",
      "source": [
        "sns.swarmplot(x=records['Age'], color='brown')\n",
        "sns.violinplot(x=records['Age'], color='orange')"
      ],
      "metadata": {
        "id": "-cSWKSBfe1EI"
      },
      "execution_count": null,
      "outputs": []
    },
    {
      "cell_type": "code",
      "source": [
        "sns.kdeplot(x=records['Age'], color='orange')"
      ],
      "metadata": {
        "id": "rOAR0iMbUGvJ"
      },
      "execution_count": null,
      "outputs": []
    },
    {
      "cell_type": "markdown",
      "source": [
        "**It's your turn: explore other numerical variables**"
      ],
      "metadata": {
        "id": "bFURG_IVfbhX"
      }
    },
    {
      "cell_type": "code",
      "source": [
        "#write Python code to explore Fare yourself\n"
      ],
      "metadata": {
        "id": "cg8lglitXD3Q"
      },
      "execution_count": null,
      "outputs": []
    },
    {
      "cell_type": "code",
      "source": [
        "##write Python code to visualise Fare yourself"
      ],
      "metadata": {
        "id": "ecfOIXuSeBE-"
      },
      "execution_count": null,
      "outputs": []
    },
    {
      "cell_type": "markdown",
      "source": [
        "**Explore each categorical variable**"
      ],
      "metadata": {
        "id": "sWkjpMIugDkb"
      }
    },
    {
      "cell_type": "code",
      "source": [
        "#describe categorical variables\n",
        "print(records['Sex'].describe(include='object'))\n",
        "print(records['Embarked'].describe())\n",
        "\n",
        "#run the code and answer: what does the result cell say?"
      ],
      "metadata": {
        "id": "KJkrrgFR0UMT"
      },
      "execution_count": null,
      "outputs": []
    },
    {
      "cell_type": "code",
      "source": [
        "#explore each categorial variable\n",
        "print(records['Embarked'].value_counts())\n",
        "print('Embarked mode: ', records['Embarked'].mode())"
      ],
      "metadata": {
        "id": "fMEqUtokWARJ"
      },
      "execution_count": null,
      "outputs": []
    },
    {
      "cell_type": "code",
      "source": [
        "#Another way to do it\n",
        "records.Embarked.value_counts()"
      ],
      "metadata": {
        "id": "gyo2GroIb3XE"
      },
      "execution_count": null,
      "outputs": []
    },
    {
      "cell_type": "code",
      "source": [
        "#explore other categorial variables yourself, for example Sex\n"
      ],
      "metadata": {
        "id": "t-ES3GfAXUta"
      },
      "execution_count": null,
      "outputs": []
    },
    {
      "cell_type": "markdown",
      "source": [
        "**Visualise each categorical variable**"
      ],
      "metadata": {
        "id": "-i1gyOcIdjrM"
      }
    },
    {
      "cell_type": "code",
      "source": [
        "#Using seaborn\n",
        "sns.countplot(x=records['Pclass'])"
      ],
      "metadata": {
        "id": "WWWSiKPqjxme"
      },
      "execution_count": null,
      "outputs": []
    },
    {
      "cell_type": "code",
      "source": [
        "#You can use hist if code has been trsnformed into numeric\n",
        "plt.hist(records['Survived'])"
      ],
      "metadata": {
        "id": "zNwuDjEpkv3y"
      },
      "execution_count": null,
      "outputs": []
    },
    {
      "cell_type": "markdown",
      "source": [
        "**Visualise other categorical variables**"
      ],
      "metadata": {
        "id": "S59qd17alBS5"
      }
    },
    {
      "cell_type": "code",
      "source": [
        "for i in ['Survived','Pclass', 'Sex', 'Embarked']:\n",
        "   plt.figure()\n",
        "   sns.countplot(x=records[i])\n"
      ],
      "metadata": {
        "id": "owNEshpvAb1G"
      },
      "execution_count": null,
      "outputs": []
    },
    {
      "cell_type": "markdown",
      "source": [
        "## **You can use stats results to handle missing data**"
      ],
      "metadata": {
        "id": "rzDxFh11nybi"
      }
    },
    {
      "cell_type": "code",
      "source": [
        "#Fill in missing numerical data with mean and categorical data with mode\n",
        "records['Age'].fillna(records['Age'].mean(),inplace=True)\n",
        "records['Embarked'].fillna(records['Embarked'].mode()[0], inplace=True) #there can be more than one mode"
      ],
      "metadata": {
        "id": "hrbtlNw2rucG"
      },
      "execution_count": null,
      "outputs": []
    },
    {
      "cell_type": "code",
      "source": [
        "print(records.isnull().sum())"
      ],
      "metadata": {
        "id": "FN8cKZpqzUbT"
      },
      "execution_count": null,
      "outputs": []
    },
    {
      "cell_type": "markdown",
      "source": [
        "**Explore these variables after you have filled in the missing data**"
      ],
      "metadata": {
        "id": "a2n2XUQcn60C"
      }
    },
    {
      "cell_type": "markdown",
      "source": [
        "Drop irrelevant rows. For example"
      ],
      "metadata": {
        "id": "sMfU2AGuwnYe"
      }
    },
    {
      "cell_type": "code",
      "source": [
        "records.drop(['PassengerId','Name'], axis=1, inplace=True)\n",
        "print(records.info())"
      ],
      "metadata": {
        "id": "AjJg8YY2xfBs"
      },
      "execution_count": null,
      "outputs": []
    },
    {
      "cell_type": "code",
      "source": [
        "#You can drop rows with missing data\n",
        "records.dropna(subset=['Embarked'], inplace=True)\n",
        "print(records.info())"
      ],
      "metadata": {
        "id": "GOA9Vo-dwmsr"
      },
      "execution_count": null,
      "outputs": []
    },
    {
      "cell_type": "markdown",
      "source": [
        "**Do it yourself**"
      ],
      "metadata": {
        "id": "Mw-0A_d4WNQZ"
      }
    },
    {
      "cell_type": "code",
      "source": [
        "#How to handle other missing data? Why?"
      ],
      "metadata": {
        "id": "t_-Jw_3dyboq"
      },
      "execution_count": null,
      "outputs": []
    },
    {
      "cell_type": "code",
      "source": [
        "print(records.isnull().sum())"
      ],
      "metadata": {
        "id": "tReuwOvqy2Gt"
      },
      "execution_count": null,
      "outputs": []
    },
    {
      "cell_type": "markdown",
      "source": [
        "## **Multivariate visualisation**"
      ],
      "metadata": {
        "id": "3qFNG7wdoCRo"
      }
    },
    {
      "cell_type": "markdown",
      "source": [
        "**Display a countplot for one categorical variable grouped by a second categorical variable**\n",
        "https://seaborn.pydata.org/generated/seaborn.countplot.html "
      ],
      "metadata": {
        "id": "wVhE8RE3p6E9"
      }
    },
    {
      "cell_type": "code",
      "source": [
        "sns.countplot(data=records, x='Sex', hue='Survived')"
      ],
      "metadata": {
        "id": "ngWnxNtPoBvQ"
      },
      "execution_count": null,
      "outputs": []
    },
    {
      "cell_type": "code",
      "source": [
        "sns.countplot(data=records, hue='Sex', x='Survived')"
      ],
      "metadata": {
        "id": "gQ7V5rm2qkNn"
      },
      "execution_count": null,
      "outputs": []
    },
    {
      "cell_type": "markdown",
      "source": [
        "**Compare distributions of numerical variables using boxplots**\n",
        "https://seaborn.pydata.org/generated/seaborn.boxplot.html"
      ],
      "metadata": {
        "id": "gImjNDaxqsII"
      }
    },
    {
      "cell_type": "code",
      "source": [
        "sns.boxplot(data=records, x='Age', y='Embarked')"
      ],
      "metadata": {
        "id": "FPQlu_iNq5x1"
      },
      "execution_count": null,
      "outputs": []
    },
    {
      "cell_type": "code",
      "source": [
        "sns.boxplot(data=records, x=\"Age\", y=\"Embarked\", hue=\"Survived\")"
      ],
      "metadata": {
        "id": "bmjsxihkuAiZ"
      },
      "execution_count": null,
      "outputs": []
    },
    {
      "cell_type": "code",
      "source": [
        "#view Age distributions by Survival status\n",
        "sns.kdeplot(data=records, x=\"Age\", hue=\"Survived\", multiple=\"stack\")"
      ],
      "metadata": {
        "id": "eGGJT2Hv_R5U"
      },
      "execution_count": null,
      "outputs": []
    },
    {
      "cell_type": "markdown",
      "source": [
        "**Ploting diagram to see relationships between two numerical variables**\n",
        "https://seaborn.pydata.org/generated/seaborn.scatterplot.html "
      ],
      "metadata": {
        "id": "ctAlgYHWsvDt"
      }
    },
    {
      "cell_type": "code",
      "source": [
        "sns.scatterplot(data=records, x='Age', y='Fare')"
      ],
      "metadata": {
        "id": "ugO4zhQjs6-N"
      },
      "execution_count": null,
      "outputs": []
    },
    {
      "cell_type": "markdown",
      "source": [
        "## **Encoding data**"
      ],
      "metadata": {
        "id": "pr7KG-TaudQ9"
      }
    },
    {
      "cell_type": "code",
      "source": [
        "#Import LabelEncoder\n",
        "from sklearn.preprocessing import LabelEncoder"
      ],
      "metadata": {
        "id": "lYuJWuFLXi35"
      },
      "execution_count": null,
      "outputs": []
    },
    {
      "cell_type": "code",
      "source": [
        "# convert categorical variables to numerical using LabelEncoder\n",
        "encoder = LabelEncoder()\n",
        "records['Sex_N'] = encoder.fit_transform(records['Sex'])\n",
        "records['Embarked_N'] = encoder.fit_transform(records['Embarked'])"
      ],
      "metadata": {
        "id": "oJz7BvR4yefn"
      },
      "execution_count": null,
      "outputs": []
    },
    {
      "cell_type": "code",
      "source": [
        "records.tail(20)"
      ],
      "metadata": {
        "id": "j3_4P6WL0PhN"
      },
      "execution_count": null,
      "outputs": []
    },
    {
      "cell_type": "code",
      "source": [
        "#Turn Age to Age groups\n",
        "age_bins = [0, 20, 40, 60, np.inf]\n",
        "\n",
        "# assign categorical labels to the bins\n",
        "age_labels = ['under 20', '21 to 40', '41 to 60', '61 and above']\n",
        "\n",
        "# convert the numerical column to categorical\n",
        "records['Age_Gr'] = pd.cut(records['Age'], bins=age_bins, labels=age_labels, right=True) #if right=False then the intervals are closed on the left side and open on the right side."
      ],
      "metadata": {
        "id": "f7bJDz-S2MfA"
      },
      "execution_count": null,
      "outputs": []
    },
    {
      "cell_type": "markdown",
      "source": [
        "## **Heatmaps**\n",
        "\n",
        "Read https://seaborn.pydata.org/generated/seaborn.heatmap.html# and try it yourself\n",
        "\n"
      ],
      "metadata": {
        "id": "LgyKpLedug5Q"
      }
    },
    {
      "cell_type": "code",
      "source": [
        "records.info()"
      ],
      "metadata": {
        "id": "4z2GDGldYYqZ"
      },
      "execution_count": null,
      "outputs": []
    },
    {
      "cell_type": "code",
      "source": [
        "records=records.drop(['Sex','Ticket','Cabin','Embarked', 'Age_Gr'], axis=1)"
      ],
      "metadata": {
        "id": "BNOvcRM8Y9Uy"
      },
      "execution_count": null,
      "outputs": []
    },
    {
      "cell_type": "markdown",
      "source": [
        "Read https://seaborn.pydata.org/generated/seaborn.heatmap.html# and try it yourself"
      ],
      "metadata": {
        "id": "yi3-epJbaDXq"
      }
    },
    {
      "cell_type": "code",
      "source": [
        "#Example 1:\n",
        "sns.heatmap(records.corr(), cmap=\"crest\", square=True, annot=True, fmt=\".1f\")"
      ],
      "metadata": {
        "id": "ap7oat8upnHn"
      },
      "execution_count": null,
      "outputs": []
    },
    {
      "cell_type": "markdown",
      "source": [
        "## **Feature selections**"
      ],
      "metadata": {
        "id": "7be2tBqzaVXx"
      }
    },
    {
      "cell_type": "code",
      "source": [
        "#Select relevant predictors\n",
        "features=['Sex_N','Pclass', 'Fare', 'Embarked_N', 'Age', 'SibSp', 'Parch']\n",
        "X=records[features]\n",
        "\n",
        "#Select the target variable for prediction\n",
        "y=records['Survived']"
      ],
      "metadata": {
        "id": "zTpflwboaUak"
      },
      "execution_count": null,
      "outputs": []
    },
    {
      "cell_type": "code",
      "source": [
        "X.shape\n"
      ],
      "metadata": {
        "id": "xpZgGc__bGV7"
      },
      "execution_count": null,
      "outputs": []
    },
    {
      "cell_type": "code",
      "source": [
        "y.shape"
      ],
      "metadata": {
        "id": "GDcX1y22bKSz"
      },
      "execution_count": null,
      "outputs": []
    },
    {
      "cell_type": "markdown",
      "source": [
        "## **Split data**"
      ],
      "metadata": {
        "id": "VcuebXJWbPnb"
      }
    },
    {
      "cell_type": "code",
      "source": [
        "#import the train_test_split function\n",
        "from sklearn.model_selection import train_test_split"
      ],
      "metadata": {
        "id": "GkpwBodJbU6w"
      },
      "execution_count": null,
      "outputs": []
    },
    {
      "cell_type": "code",
      "source": [
        "# Split dataset into training set and test set\n",
        "X_train, X_test, y_train, y_test = train_test_split(X, y, test_size=0.2, random_state=1)  # 80% training and 20% testing \n"
      ],
      "metadata": {
        "id": "tvY5Pivfbn6J"
      },
      "execution_count": null,
      "outputs": []
    },
    {
      "cell_type": "markdown",
      "source": [
        "# Try it yourself! \n",
        "\n",
        "**Do it yourself:** Repeat the above steps with the housing dataset to consilidate your learning"
      ],
      "metadata": {
        "id": "0qe2xZt_3weE"
      }
    },
    {
      "cell_type": "code",
      "source": [
        "# Import packages\n",
        "import pandas as pd\n",
        "import matplotlib.pyplot as plt\n",
        "import seaborn as sns"
      ],
      "metadata": {
        "id": "SATSGaTexwOr"
      },
      "execution_count": null,
      "outputs": []
    },
    {
      "cell_type": "markdown",
      "source": [
        "**Import Melbourne housing data**"
      ],
      "metadata": {
        "id": "KIEESZELtSov"
      }
    },
    {
      "cell_type": "code",
      "source": [
        "url = 'https://raw.githubusercontent.com/thwc/MIS710-T12023/main/Week%201/Melbourne_housing_FULL.csv'\n",
        "df = pd.read_csv(url)"
      ],
      "metadata": {
        "id": "dfq3xWWWtC39"
      },
      "execution_count": null,
      "outputs": []
    },
    {
      "cell_type": "markdown",
      "source": [
        "## **Data at a glance**\n",
        "* Print out the first and last 10 records of the datataframe (`head()` and `tail`)\n",
        "* What are data type and number of records for each attribute? (`info()`)\n",
        "* Are there any missing values? Remove missing values for `Price` column. Compare number of rows before and after removing missing values. (`isnull()`)\n",
        "\n"
      ],
      "metadata": {
        "id": "BdTKbz99tSIU"
      }
    },
    {
      "cell_type": "code",
      "source": [
        "# Execute these codes in separate code cell to see output\n",
        "# Print out the first and last 10 records of the datataframe (head() and tail)\n",
        "df.head(10)\n",
        "df.tail(10)\n",
        "\n",
        "# What are data type and number of records for each attribute? (info())\n",
        "df.info()\n",
        "\n",
        "# Are there any missing values? Remove missing values for `Price` column. Compare number of rows before and after removing missing values. (`isnull()`)\n",
        "df.isnull().sum().sort_values(ascending=False) # Return number of missing values for each column\n",
        "df.dropna(subset=['Price'], inplace=True) # Remove missing values in Price column\n",
        "df.info() # df from 34857 row to 27247 rows after removing missing values "
      ],
      "metadata": {
        "id": "XGd92uIyYZHX"
      },
      "execution_count": null,
      "outputs": []
    },
    {
      "cell_type": "markdown",
      "source": [
        "## Numerical analysis and visualisation\n",
        "\n",
        "* Calculate the mean, median, min, max and std of `Price`, `Landsize` (`describe()`)\n",
        "* Plot overall `Price` and `Landsize` distribution using boxplot and histogram (`plot()`)\n",
        "* Plot price distribution for each region. and house type\n"
      ],
      "metadata": {
        "id": "n_QY3KutvER5"
      }
    },
    {
      "cell_type": "code",
      "source": [
        "# Calculate the mean, median, min, max and std of Price, Landsize (describe())\n",
        "pd.set_option('display.float_format', lambda x: '%.2f' % x) # Set display format for pandas\n",
        "df[['Price', 'Landsize']].describe() # Select only Price and Landsize columns\n",
        "\n",
        "# Plot overall Price and Landsize distribution using boxplot and histogram (plot())\n",
        "# Plot histogram for Price and Landsize columns\n",
        "for i in ['Price', 'Landsize']:\n",
        "    sns.histplot(data=df, x=i , bins=100)\n",
        "    plt.figure()\n",
        "\n",
        "# Plot boxplot for Price and Landsize columns\n",
        "for i in ['Price', 'Landsize']:\n",
        "    sns.boxplot(x=df[i], color='blue')\n",
        "    plt.figure()\n",
        "\n",
        "# Plot price distribution for each region. and house type\n",
        "# Plot price distribution for each region\n",
        "ax = df['Price'].hist(by=df['Regionname'],figsize=(10,10), bins=100, sharex=True)\n",
        "plt.figure()\n",
        "\n",
        "# Plot price distribution for each house type\n",
        "df['Price'].hist(by=df['Type'],figsize=(10,10), bins=100, sharex=True)\n",
        "plt.figure()"
      ],
      "metadata": {
        "id": "1G_LU_SXZEpj"
      },
      "execution_count": null,
      "outputs": []
    },
    {
      "cell_type": "markdown",
      "source": [
        "## Categorical data analysis and visualisation\n",
        "\n",
        "* Count unique values in `Suburb`\n",
        "* List unique values in `Regionname`\n",
        "* Plot a bar chart of number of sales for top 10 suburbs with the most sales\n"
      ],
      "metadata": {
        "id": "jGBkcM4_u9Iz"
      }
    },
    {
      "cell_type": "code",
      "source": [
        "# Count unique values in Suburb\n",
        "df['Suburb'].value_counts()\n",
        "\n",
        "# List unique values in Regionname\n",
        "df['Regionname'].value_counts()\n",
        "\n",
        "# Plot a bar chart of number of sales for top 10 suburbs with the most sales\n",
        "n = 10 # Assign n_th index\n",
        "top_10_suburb_list = df['Suburb'].value_counts()[:n].index.tolist() # Return top 10 suburbs with the most sales as a list \n",
        "df_top_10_suburb = df[df['Suburb'].isin(top_10_suburb_list)] # Make a df contain only top 10 suburbs\n",
        "df_top_10_suburb['Suburb'].value_counts(ascending=True).plot(kind=\"barh\") # Plot value counts of top 10 suburbs\n",
        "df_top_10_suburb[['Suburb', 'Price']].boxplot(by='Suburb', vert=False, figsize=(10,6)) # Plot boxplot of prices grouped by top 10 suburbs\n",
        "df_top_10_suburb['Price'].hist(by=df['Suburb'],figsize=(10,10), bins=100, sharex=True) # Plot price distribution of top 10 suburbs\n",
        "plt.figure()"
      ],
      "metadata": {
        "id": "nZ5_byS-6Q3G"
      },
      "execution_count": null,
      "outputs": []
    },
    {
      "cell_type": "markdown",
      "source": [
        "## Relationship between the columns\n",
        "* Plot a matrix of scatter plots for Price, Rooms, Landsize, Car, Distance"
      ],
      "metadata": {
        "id": "HbWQAdmuvFcX"
      }
    },
    {
      "cell_type": "code",
      "source": [
        "pd.plotting.scatter_matrix(df[['Price', 'Rooms', 'Landsize', 'Car', 'Distance']], alpha=0.2, figsize=(16,16))"
      ],
      "metadata": {
        "id": "XZmbIodO6RE1"
      },
      "execution_count": null,
      "outputs": []
    },
    {
      "cell_type": "markdown",
      "source": [
        "## Column wrangling\n",
        "* Calculate a new `Price per room` column\n",
        "* Calculate a new `Age` column in 2023\n"
      ],
      "metadata": {
        "id": "akVdDllay8G2"
      }
    },
    {
      "cell_type": "code",
      "source": [
        "df['Price per room'] = df['Price'] / df['Rooms']\n",
        "df['Age'] = 2023 - df.YearBuilt"
      ],
      "metadata": {
        "id": "ZskXf6Zb6RSO"
      },
      "execution_count": null,
      "outputs": []
    },
    {
      "cell_type": "markdown",
      "source": [
        "## Selection & Indexing\n",
        "* Get all the sales made in `Melbourne City Council`. Calculate mean, median, min, max and std for the specified records\n",
        "* Get all the sales made in `Manningham City Council` having more than 4 rooms"
      ],
      "metadata": {
        "id": "crh3GGjkzAEo"
      }
    },
    {
      "cell_type": "code",
      "source": [
        "# Get all the sales made in Melbourne City Council. \n",
        "df[df.CouncilArea == 'Melbourne City Council']\n",
        "\n",
        "# Calculate mean, median, min, max and std for the specified records\n",
        "df[df.CouncilArea == 'Melbourne City Council']['Price'].describe()\n",
        "\n",
        "# Get all the sales made in Manningham City Council having more than 4 rooms\n",
        "df[(df.CouncilArea == 'Melbourne City Council') & (df.Rooms > 4)]\n"
      ],
      "metadata": {
        "id": "43G88Sz-2WND"
      },
      "execution_count": null,
      "outputs": []
    }
  ]
}